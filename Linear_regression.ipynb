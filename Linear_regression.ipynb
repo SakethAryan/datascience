{
  "nbformat": 4,
  "nbformat_minor": 0,
  "metadata": {
    "colab": {
      "provenance": [],
      "collapsed_sections": [],
      "authorship_tag": "ABX9TyN9AN+4pUs+Mb11xLb0jfy7",
      "include_colab_link": true
    },
    "kernelspec": {
      "name": "python3",
      "display_name": "Python 3"
    },
    "language_info": {
      "name": "python"
    }
  },
  "cells": [
    {
      "cell_type": "markdown",
      "metadata": {
        "id": "view-in-github",
        "colab_type": "text"
      },
      "source": [
        "<a href=\"https://colab.research.google.com/github/chain-veerender/datascience/blob/master/Linear_regression.ipynb\" target=\"_parent\"><img src=\"https://colab.research.google.com/assets/colab-badge.svg\" alt=\"Open In Colab\"/></a>"
      ]
    },
    {
      "cell_type": "markdown",
      "source": [
        "Machine Learning Foundation"
      ],
      "metadata": {
        "id": "4nyH2VdWJokD"
      }
    },
    {
      "cell_type": "markdown",
      "source": [
        "![An image](https://www.intellspot.com/wp-content/uploads/2018/03/Supervised-and-Unsupervised-Learning-featured-image.png)"
      ],
      "metadata": {
        "id": "94-pu2FAJ4o7"
      }
    },
    {
      "cell_type": "markdown",
      "source": [
        "![An image](https://pythonnumericalmethods.berkeley.edu/_images/25.01.01-types-of-ML.jpg)"
      ],
      "metadata": {
        "id": "STCcmMxWKWZZ"
      }
    },
    {
      "cell_type": "markdown",
      "source": [
        "**Linear Regression**"
      ],
      "metadata": {
        "id": "cuHolpGiORZM"
      }
    },
    {
      "cell_type": "markdown",
      "source": [
        "Linear Regression is a machine learning algorithm based on supervised learning. \n",
        "\n",
        "It performs a regression task. \n",
        "\n",
        "Regression models a target prediction value based on independent variables. \n",
        "\n",
        "It is mostly used for finding out the relationship between variables and forecasting.\n",
        "\n",
        "It performs the task to predict a dependent variable value (y) based on a given independent variable (x). \n",
        "\n",
        "So, this regression technique finds out a linear relationship between x (input) and y(output).\n",
        "\n",
        "The simplest form of a simple linear regression equation with one dependent and one independent variable is represented by:\n",
        "\n"
      ],
      "metadata": {
        "id": "llvUs8aLOBRQ"
      }
    },
    {
      "cell_type": "markdown",
      "source": [
        "For single variable:\n",
        "\n",
        "![An image](https://github.com/jagwithyou/linear-regression-example/raw/master/images/simple_linear_regression.png)"
      ],
      "metadata": {
        "id": "KyBWjJbaObHW"
      }
    },
    {
      "cell_type": "markdown",
      "source": [
        "For multiple variables/features:\n",
        "\n",
        "![An image](https://github.com/jagwithyou/linear-regression-example/raw/master/images/multiple_linear_regression.png)"
      ],
      "metadata": {
        "id": "GTIZwer5PFc0"
      }
    },
    {
      "cell_type": "markdown",
      "source": [
        "specify a model that relates the dependent variable $y$ to the explanatory factors (or features); for linear models, the dependency function will take the following form:\n",
        "\n",
        "$\\large y = \\sum_{i=1}^n m_i x_i  + c$\n",
        "\n",
        "where $n$ is the number of features. \n",
        "\n",
        "If we add a fictitious dimension $x_0$ (called bias or intercept term) for each observation, then the linear form can be rewritten in a slightly more compact way by pulling the absolute term $m_0$ into the sum: \n",
        "\n",
        "$ \\large y = \\sum_{i=0}^n m_i x_i = \\textbf{m}^\\text{T} \\textbf{x}$\n",
        "\n",
        "If we have a matrix of $n$ observations, where the rows are observations from a data set, we need to add a single column of ones on the left. \n",
        "\n",
        "We define the model as follows:\n",
        "\n",
        "$ \\textbf y = \\textbf X \\textbf m + \\epsilon,$\n",
        "\n",
        "where\n",
        "\n",
        " $ \\textbf m \\in \\mathbb{R}^{n+1} $ – is a $(n+1) \\times 1$ column-vector of the model parameters (in machine learning, these parameters are often referred to as weights);\n",
        "\n",
        " $\\textbf X \\in \\mathbb{R}^{m \\times (n+1)}$ – is a $m \\times (n+1)$ matrix of observations and their features, (including the fictitious column on the left) with full column rank: $\\text{rank}\\left(\\textbf X\\right) = n + 1$;\n",
        "\n",
        " $\\epsilon \\in \\mathbb{R}^m$ – is a $m \\times 1$ random column-vector, referred to as error or noise;\n",
        "\n",
        " $\\textbf y \\in \\mathbb{R}^m$– is a $m \\times 1$ column-vector - the dependent (or target) variable.\n",
        "\n",
        "We can also write this expression out for each observation\n",
        "\n",
        "$\\large y_i = \\sum_{j=0}^n m_j X_{ij} + \\epsilon_i$\n",
        "\n",
        "**Assumptions:**\n",
        "\n",
        "**1. Gauss-Markov Theorem:**\n",
        "\n",
        "expectation of all random errors is zero: $\\forall i: \\mathbb{E}\\left[\\epsilon_i\\right] = 0$;\n",
        "\n",
        "all random errors have the same finite variance, this property is called homoscedasticity:$\\forall i: \\text{Var}\\left(\\epsilon_i\\right) = \\sigma^2 < \\infty$ ;\n",
        "\n",
        "random errors are uncorrelated:$\\forall i \\neq j: \\text{Cov}\\left(\\epsilon_i, \\epsilon_j\\right) = 0$.\n",
        "\n",
        "**2. Linearity of the model**\n",
        "\n",
        "The dependent variable (y) is assumed to be a linear function of the independent variables (X, features) specified in the model.\n",
        "\n",
        "**3. No (perfect) multicollinearity**\n",
        "\n",
        "In other words, the features should be linearly independent. What does that mean in practice? We should not be able to use a linear model to accurately predict one feature using another one.\n",
        "\n",
        "Let’s take X1 and X2 as examples of features. It could happen that X1 = 2 + 3 * X2, then it is multicollinear.\n",
        "\n",
        "**4. The features and residuals are uncorrelated**\n",
        "\n",
        "**5. The number of observations must be greater than the number of features**\n",
        " \n",
        "**6. There must be some variability in features**\n",
        "\n",
        "This assumption states that there must be some variance in the features, as a feature that has a constant value for all or the majority of observations might not be a good predictor.\n",
        "\n",
        "**7. Normality of residuals**\n",
        "\n",
        "When this assumption is violated, it causes problems with calculating confidence intervals and various significance tests for coefficients. When the error distribution significantly departs from Gaussian, confidence intervals may be too wide or too narrow.\n",
        "\n",
        "Some of the potential reasons causing non-normal residuals:\n",
        "\n",
        "presence of a few large outliers in data\n",
        "\n",
        "There might be some other problems (violations) with the model assumptions\n",
        "\n",
        "Better model specification might be better suited for this problem\n",
        "\n",
        "Technically, we can omit this assumption if we assume instead that the model equation is correct and our goal is to estimate the coefficients and generate predictions (in the sense of minimizing mean squared error).\n"
      ],
      "metadata": {
        "id": "Y3_BtP_-ROHC"
      }
    },
    {
      "cell_type": "markdown",
      "source": [
        "**Ordinary Least Squares (OLS)**"
      ],
      "metadata": {
        "id": "PrYVetMBcUMc"
      }
    },
    {
      "cell_type": "markdown",
      "source": [
        "![An image](https://miro.medium.com/max/1000/0*gglavDlTUWKn4Loe)"
      ],
      "metadata": {
        "id": "1LfhUZPxc58W"
      }
    },
    {
      "cell_type": "markdown",
      "source": [
        "One of the ways to calculate those weights is with the ordinary least squares method (OLS), which minimizes the mean squared error between the actual value of the dependent variable and the predicted value given by the model:"
      ],
      "metadata": {
        "id": "C4u38Iq4caf2"
      }
    },
    {
      "cell_type": "markdown",
      "source": [
        "$\\begin{split}\\Large \\begin{array}{rcl}\\mathcal{L}\\left(\\textbf X, \\textbf{y}, \\textbf{m} \\right) &=& \\frac{1}{2n} \\sum_{i=1}^n \\left(y_i - \\textbf{m}^\\text{T} \\textbf{x}_i\\right)^2 \\\\\n",
        "&=& \\frac{1}{2n} \\left\\| \\textbf{y} - \\textbf X \\textbf{m} \\right\\|_2^2 \\\\\n",
        "&=& \\frac{1}{2n} \\left(\\textbf{y} - \\textbf X \\textbf{m}\\right)^\\text{T} \\left(\\textbf{y} - \\textbf X \\textbf{m}\\right)\n",
        "\\end{array}\\end{split}$"
      ],
      "metadata": {
        "id": "OHY5A1nAdPmw"
      }
    },
    {
      "cell_type": "markdown",
      "source": [
        "To solve this optimization problem, we need to calculate derivatives with respect to the model parameters. We set them to zero and solve the resulting equation for $\\large m$ (matrix differentiation may seem difficult; try to do it in terms of sums to be sure of the answer)."
      ],
      "metadata": {
        "id": "TvEHknz5dtLY"
      }
    },
    {
      "cell_type": "markdown",
      "source": [
        "$\\begin{split}\\Large \\begin{array}{rcl} \\frac{\\partial \\mathcal{L}}{\\partial \\textbf{m}} &=& \\frac{\\partial}{\\partial \\textbf{m}} \\frac{1}{2n} \\left( \\textbf{y}^{\\text{T}} \\textbf{y} -2\\textbf{y}^{\\text{T}} \\textbf{X} \\textbf{m} + \\textbf{m}^{\\text{T}} \\textbf{X}^{\\text{T}} \\textbf{X} \\textbf{m}\\right) \\\\\n",
        "&=& \\frac{1}{2n} \\left(-2 \\textbf{X}^{\\text{T}} \\textbf{y} + 2\\textbf{X}^{\\text{T}} \\textbf{X} \\textbf{m}\\right)\n",
        "\\end{array}\\end{split}$\n",
        "\n",
        "$\\begin{split}\\Large \\begin{array}{rcl} \\frac{\\partial \\mathcal{L}}{\\partial \\textbf{m}} = 0 &\\Leftrightarrow& \\frac{1}{2n} \\left(-2 \\textbf{X}^{\\text{T}} \\textbf{y} + 2\\textbf{X}^{\\text{T}} \\textbf{X} \\textbf{m}\\right) = 0 \\\\\n",
        "&\\Leftrightarrow& -\\textbf{X}^{\\text{T}} \\textbf{y} + \\textbf{X}^{\\text{T}} \\textbf{X} \\textbf{m} = 0 \\\\\n",
        "&\\Leftrightarrow& \\textbf{X}^{\\text{T}} \\textbf{X} \\textbf{m} = \\textbf{X}^{\\text{T}} \\textbf{y} \\\\\n",
        "&\\Leftrightarrow& \\textbf{m} = \\left(\\textbf{X}^{\\text{T}} \\textbf{X}\\right)^{-1} \\textbf{X}^{\\text{T}} \\textbf{y}\n",
        "\\end{array}\\end{split}$\n",
        "\n",
        "**credits: https://mlcourse.ai/book/topic04/topic4_linear_models_part1_mse_likelihood_bias_variance.html \n"
      ],
      "metadata": {
        "id": "_WSCy_lIeiNA"
      }
    },
    {
      "cell_type": "markdown",
      "source": [
        "**Detailed equation form for reference:**\n",
        "\n",
        " "
      ],
      "metadata": {
        "id": "oZJfLumogXPL"
      }
    },
    {
      "cell_type": "markdown",
      "source": [
        "y = β0 + β1 x + ε — — — — — — — — — — (1)\n",
        "\n",
        "Where β0: intercept\n",
        "\n",
        "β1: slope (unknown constant)\n",
        "\n",
        "ε: random error component\n",
        "\n",
        "This is a line where y is the dependent variable we want to predict, x is the independent variable, and β0 and β1 are the coefficients that we need to estimate.\n",
        "\n",
        "Estimation of β0 and β1 :\n",
        "\n",
        "The OLS method is used to estimate β0 and β1. The OLS method seeks to minimize the sum of the squared residuals. This means from the given data we calculate the distance from each data point to the regression line, square it, and the sum of all of the squared errors together.\n",
        "\n",
        "From equation (1) we may write\n",
        "\n",
        "yi = β0 + β1 x + εi, i = 1, 2, …..n — — — — — — — — — (2)\n",
        "\n",
        "The equation (2) is a sample regression model, written in terms of the n pairs of data (yi, xi) (i = 1, 2,……..,n). Thus, the least-squares criteria are"
      ],
      "metadata": {
        "id": "9L5nHkhCgtAR"
      }
    },
    {
      "cell_type": "markdown",
      "source": [
        "![An image](https://miro.medium.com/max/1400/1*d4y8jE1R6yPlnh7BsuOBcA.jpeg)\n",
        "\n",
        "![An image](https://miro.medium.com/max/1400/1*Jmh8qropV2EluJcnbS501w.jpeg)\n",
        "\n",
        "![An image](https://miro.medium.com/max/1400/1*fkZUx5bMN6RyJSP_msvDZA.jpeg)\n",
        "\n",
        "![An image](https://miro.medium.com/max/1400/1*esj6-SmvIKPVEENEYDCimA.jpeg)\n",
        "\n",
        "**Credits: Aishwarya Gulve\n",
        "\n",
        "https://medium.com/analytics-vidhya/ordinary-least-square-ols-method-for-linear-regression-ef8ca10aadfc\n"
      ],
      "metadata": {
        "id": "VQ2wLsukhLqT"
      }
    },
    {
      "cell_type": "markdown",
      "source": [
        "Linear regression is very good to answer the following questions:\n",
        "\n",
        "Is there a relationship between 2 variables?\n",
        "\n",
        "How strong is the relationship?\n",
        "\n",
        "Which variable contributes the most?\n",
        "\n",
        "How accurately can we estimate the effect of each variable?\n",
        "\n",
        "How accurately can we predict the target?\n",
        "\n",
        "Is the relationship linear? \n",
        "\n",
        "Is there an interaction effect?"
      ],
      "metadata": {
        "id": "sLthsDmGpOiT"
      }
    },
    {
      "cell_type": "markdown",
      "source": [
        "**Metric for Linear regression Model:**\n",
        "\n",
        "**R-squared (R²)**\n",
        "\n",
        "R-squared (R²) is a statistical measure that represents the proportion of the variance for a dependent variable that's explained by an independent variable or variables in a regression model. \n",
        "\n",
        "Explains to what extent the variance of one variable explains the variance of the second variable. So, if the R² of a model is 0.50, then approximately half of the observed variation can be explained by the model's inputs.\n",
        "\n",
        "![An image](https://miro.medium.com/max/700/1*nJ2zMf6Qxb3XfWa6n2Heag@2x.png)\n",
        "\n",
        "Where:\n",
        "\n",
        "RSS is the sum of squares due to regression (explained sum of squares)\n",
        "\n",
        "TSS is the total sum of squares\n",
        "\n",
        "​It measures the proportion of variability in the target that can be explained using a feature X. Therefore, assuming a linear relationship, if feature X can explain (predict) the target, then the proportion is high and the R² value will be close to 1. If the opposite is true, the R² value is then closer to 0.\n",
        "\n",
        "**Problems with R-squared statistic**\n",
        "\n",
        "The R-squared statistic isn’t perfect. \n",
        "\n",
        "In fact, it suffers from a major flaw. Its value never decreases no matter the number of variables we add to our regression model.\n",
        "\n",
        "That is, even if we are adding redundant variables to the data, the value of R-squared does not decrease. It either remains the same or increases with the addition of new independent variables.\n",
        "\n",
        "This clearly does not make sense because some of the independent variables might not be useful in determining the target variable. Adjusted R-squared deals with this issue.\n",
        "\n",
        "** Adjusted R Squared (Adj R²) **\n",
        "\n",
        "Adjusted R-squared is a modified version of R-squared that has been adjusted for the number of predictors in the model. The adjusted R-squared increases when the new term improves the model more than would be expected by chance. It decreases when a predictor improves the model by less than expected. Typically, the adjusted R-squared is positive, not negative. It is always lower than the R-squared.\n",
        "\n",
        "Adding more independent variables or predictors to a regression model tends to increase the R-squared value, which tempts makers of the model to add even more variables. This is called overfitting and can return an unwarranted high R-squared value. Adjusted R-squared is used to determine how reliable the correlation is and how much it is determined by the addition of independent variables.\n",
        "\n",
        "![An image](https://cdn.analyticsvidhya.com/wp-content/uploads/2020/07/edit.png)\n",
        "\n",
        "Here,\n",
        "\n",
        "n represents the number of data points in our dataset\n",
        "\n",
        "k represents the number of independent variables, and\n",
        "\n",
        "R represents the R-squared values determined by the model.\n",
        "\n",
        "So, if R-squared does not increase significantly on the addition of a new independent variable, then the value of Adjusted R-squared will actually decrease.\n",
        "\n",
        "![An image](https://cdn.analyticsvidhya.com/wp-content/uploads/2020/07/edit1.png)\n",
        "\n",
        "On the other hand, if on adding the new independent variable we see a significant increase in R-squared value, then the Adjusted R-squared value will also increase.\n",
        "\n",
        "![An image](https://cdn.analyticsvidhya.com/wp-content/uploads/2020/07/edit2.png)\n",
        "\n",
        "\n",
        "\n",
        "​\n"
      ],
      "metadata": {
        "id": "Gq6RfiK20ZS2"
      }
    },
    {
      "cell_type": "markdown",
      "source": [
        "Lets understand and interpret more from dataset"
      ],
      "metadata": {
        "id": "VJYIrwcqwIt4"
      }
    },
    {
      "cell_type": "markdown",
      "source": [
        "**Business problem**\n",
        "\n",
        "In this session, we are using the Advertisement dataset.\n",
        "\n",
        "Let’s consider there is a company and it has to improve the sales of the product. The company spends money on different advertising media such as youtube, 92.7FM and annualreports to increase the sales of its products. The company records the money spent on each advertising media (in thousands of dollars) and the number of units of product sold (in thousands of units).\n",
        "\n",
        "Now we have to help the company to find out the most effective way to spend money on advertising media to improve sales for the next year with a less advertising budget."
      ],
      "metadata": {
        "id": "9mA5I8RUVgmJ"
      }
    },
    {
      "cell_type": "code",
      "source": [
        "## All imports here\n",
        "\n",
        "import pandas as pd\n",
        "import io\n",
        "\n",
        "import seaborn as sns\n",
        "import matplotlib.pyplot as plt\n",
        "\n",
        "import numpy as np\n",
        "\n",
        "from sklearn.linear_model import *\n",
        "from sklearn.metrics import *"
      ],
      "metadata": {
        "id": "Ck831SvjPr7q"
      },
      "execution_count": 64,
      "outputs": []
    },
    {
      "cell_type": "markdown",
      "source": [
        "you can download dataset [here](https://github.com/chain-veerender/datascience/blob/master/advertising.csv)"
      ],
      "metadata": {
        "id": "v2iQo1KuxaaE"
      }
    },
    {
      "cell_type": "code",
      "execution_count": 45,
      "metadata": {
        "colab": {
          "resources": {
            "http://localhost:8080/nbextensions/google.colab/files.js": {
              "data": "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",
              "ok": true,
              "headers": [
                [
                  "content-type",
                  "application/javascript"
                ]
              ],
              "status": 200,
              "status_text": ""
            }
          },
          "base_uri": "https://localhost:8080/",
          "height": 72
        },
        "id": "NF0R1z6vPNpv",
        "outputId": "3debadae-cf55-4524-f814-b50f94caa82a"
      },
      "outputs": [
        {
          "output_type": "display_data",
          "data": {
            "text/plain": [
              "<IPython.core.display.HTML object>"
            ],
            "text/html": [
              "\n",
              "     <input type=\"file\" id=\"files-27181594-e1d5-479c-be6c-916ccb22f825\" name=\"files[]\" multiple disabled\n",
              "        style=\"border:none\" />\n",
              "     <output id=\"result-27181594-e1d5-479c-be6c-916ccb22f825\">\n",
              "      Upload widget is only available when the cell has been executed in the\n",
              "      current browser session. Please rerun this cell to enable.\n",
              "      </output>\n",
              "      <script src=\"/nbextensions/google.colab/files.js\"></script> "
            ]
          },
          "metadata": {}
        },
        {
          "output_type": "stream",
          "name": "stdout",
          "text": [
            "Saving advertising.csv to advertising (1).csv\n"
          ]
        }
      ],
      "source": [
        "from google.colab import files\n",
        " \n",
        " \n",
        "upload_data = files.upload()"
      ]
    },
    {
      "cell_type": "code",
      "source": [
        "df = pd.read_csv(io.BytesIO(upload_data['advertising.csv']))\n",
        "df.head()"
      ],
      "metadata": {
        "colab": {
          "base_uri": "https://localhost:8080/",
          "height": 204
        },
        "id": "xbFjvMYawjwl",
        "outputId": "893756e9-50e1-428e-eca5-b2e5d55cb63c"
      },
      "execution_count": 46,
      "outputs": [
        {
          "output_type": "execute_result",
          "data": {
            "text/plain": [
              "   sno  youtube  92.7FM  annualreports  sales\n",
              "0    1    230.1    37.8           69.2   22.1\n",
              "1    2     44.5    39.3           45.1   10.4\n",
              "2    3     17.2    45.9           69.3    9.3\n",
              "3    4    151.5    41.3           58.5   18.5\n",
              "4    5    180.8    10.8           58.4   12.9"
            ],
            "text/html": [
              "\n",
              "  <div id=\"df-1fd85dc1-86fb-41ba-b061-46fe77bcca43\">\n",
              "    <div class=\"colab-df-container\">\n",
              "      <div>\n",
              "<style scoped>\n",
              "    .dataframe tbody tr th:only-of-type {\n",
              "        vertical-align: middle;\n",
              "    }\n",
              "\n",
              "    .dataframe tbody tr th {\n",
              "        vertical-align: top;\n",
              "    }\n",
              "\n",
              "    .dataframe thead th {\n",
              "        text-align: right;\n",
              "    }\n",
              "</style>\n",
              "<table border=\"1\" class=\"dataframe\">\n",
              "  <thead>\n",
              "    <tr style=\"text-align: right;\">\n",
              "      <th></th>\n",
              "      <th>sno</th>\n",
              "      <th>youtube</th>\n",
              "      <th>92.7FM</th>\n",
              "      <th>annualreports</th>\n",
              "      <th>sales</th>\n",
              "    </tr>\n",
              "  </thead>\n",
              "  <tbody>\n",
              "    <tr>\n",
              "      <th>0</th>\n",
              "      <td>1</td>\n",
              "      <td>230.1</td>\n",
              "      <td>37.8</td>\n",
              "      <td>69.2</td>\n",
              "      <td>22.1</td>\n",
              "    </tr>\n",
              "    <tr>\n",
              "      <th>1</th>\n",
              "      <td>2</td>\n",
              "      <td>44.5</td>\n",
              "      <td>39.3</td>\n",
              "      <td>45.1</td>\n",
              "      <td>10.4</td>\n",
              "    </tr>\n",
              "    <tr>\n",
              "      <th>2</th>\n",
              "      <td>3</td>\n",
              "      <td>17.2</td>\n",
              "      <td>45.9</td>\n",
              "      <td>69.3</td>\n",
              "      <td>9.3</td>\n",
              "    </tr>\n",
              "    <tr>\n",
              "      <th>3</th>\n",
              "      <td>4</td>\n",
              "      <td>151.5</td>\n",
              "      <td>41.3</td>\n",
              "      <td>58.5</td>\n",
              "      <td>18.5</td>\n",
              "    </tr>\n",
              "    <tr>\n",
              "      <th>4</th>\n",
              "      <td>5</td>\n",
              "      <td>180.8</td>\n",
              "      <td>10.8</td>\n",
              "      <td>58.4</td>\n",
              "      <td>12.9</td>\n",
              "    </tr>\n",
              "  </tbody>\n",
              "</table>\n",
              "</div>\n",
              "      <button class=\"colab-df-convert\" onclick=\"convertToInteractive('df-1fd85dc1-86fb-41ba-b061-46fe77bcca43')\"\n",
              "              title=\"Convert this dataframe to an interactive table.\"\n",
              "              style=\"display:none;\">\n",
              "        \n",
              "  <svg xmlns=\"http://www.w3.org/2000/svg\" height=\"24px\"viewBox=\"0 0 24 24\"\n",
              "       width=\"24px\">\n",
              "    <path d=\"M0 0h24v24H0V0z\" fill=\"none\"/>\n",
              "    <path d=\"M18.56 5.44l.94 2.06.94-2.06 2.06-.94-2.06-.94-.94-2.06-.94 2.06-2.06.94zm-11 1L8.5 8.5l.94-2.06 2.06-.94-2.06-.94L8.5 2.5l-.94 2.06-2.06.94zm10 10l.94 2.06.94-2.06 2.06-.94-2.06-.94-.94-2.06-.94 2.06-2.06.94z\"/><path d=\"M17.41 7.96l-1.37-1.37c-.4-.4-.92-.59-1.43-.59-.52 0-1.04.2-1.43.59L10.3 9.45l-7.72 7.72c-.78.78-.78 2.05 0 2.83L4 21.41c.39.39.9.59 1.41.59.51 0 1.02-.2 1.41-.59l7.78-7.78 2.81-2.81c.8-.78.8-2.07 0-2.86zM5.41 20L4 18.59l7.72-7.72 1.47 1.35L5.41 20z\"/>\n",
              "  </svg>\n",
              "      </button>\n",
              "      \n",
              "  <style>\n",
              "    .colab-df-container {\n",
              "      display:flex;\n",
              "      flex-wrap:wrap;\n",
              "      gap: 12px;\n",
              "    }\n",
              "\n",
              "    .colab-df-convert {\n",
              "      background-color: #E8F0FE;\n",
              "      border: none;\n",
              "      border-radius: 50%;\n",
              "      cursor: pointer;\n",
              "      display: none;\n",
              "      fill: #1967D2;\n",
              "      height: 32px;\n",
              "      padding: 0 0 0 0;\n",
              "      width: 32px;\n",
              "    }\n",
              "\n",
              "    .colab-df-convert:hover {\n",
              "      background-color: #E2EBFA;\n",
              "      box-shadow: 0px 1px 2px rgba(60, 64, 67, 0.3), 0px 1px 3px 1px rgba(60, 64, 67, 0.15);\n",
              "      fill: #174EA6;\n",
              "    }\n",
              "\n",
              "    [theme=dark] .colab-df-convert {\n",
              "      background-color: #3B4455;\n",
              "      fill: #D2E3FC;\n",
              "    }\n",
              "\n",
              "    [theme=dark] .colab-df-convert:hover {\n",
              "      background-color: #434B5C;\n",
              "      box-shadow: 0px 1px 3px 1px rgba(0, 0, 0, 0.15);\n",
              "      filter: drop-shadow(0px 1px 2px rgba(0, 0, 0, 0.3));\n",
              "      fill: #FFFFFF;\n",
              "    }\n",
              "  </style>\n",
              "\n",
              "      <script>\n",
              "        const buttonEl =\n",
              "          document.querySelector('#df-1fd85dc1-86fb-41ba-b061-46fe77bcca43 button.colab-df-convert');\n",
              "        buttonEl.style.display =\n",
              "          google.colab.kernel.accessAllowed ? 'block' : 'none';\n",
              "\n",
              "        async function convertToInteractive(key) {\n",
              "          const element = document.querySelector('#df-1fd85dc1-86fb-41ba-b061-46fe77bcca43');\n",
              "          const dataTable =\n",
              "            await google.colab.kernel.invokeFunction('convertToInteractive',\n",
              "                                                     [key], {});\n",
              "          if (!dataTable) return;\n",
              "\n",
              "          const docLinkHtml = 'Like what you see? Visit the ' +\n",
              "            '<a target=\"_blank\" href=https://colab.research.google.com/notebooks/data_table.ipynb>data table notebook</a>'\n",
              "            + ' to learn more about interactive tables.';\n",
              "          element.innerHTML = '';\n",
              "          dataTable['output_type'] = 'display_data';\n",
              "          await google.colab.output.renderOutput(dataTable, element);\n",
              "          const docLink = document.createElement('div');\n",
              "          docLink.innerHTML = docLinkHtml;\n",
              "          element.appendChild(docLink);\n",
              "        }\n",
              "      </script>\n",
              "    </div>\n",
              "  </div>\n",
              "  "
            ]
          },
          "metadata": {},
          "execution_count": 46
        }
      ]
    },
    {
      "cell_type": "code",
      "source": [
        "x = df.drop(['sales','sno'], axis=1)\n",
        "y = pd.Series(df['sales'], name = 'sales')\n",
        "print(x.head())\n",
        "print(y.head())"
      ],
      "metadata": {
        "colab": {
          "base_uri": "https://localhost:8080/"
        },
        "id": "O30FqCHFJzOu",
        "outputId": "dff4b41f-6adf-49ee-a4ef-42daab42ce3c"
      },
      "execution_count": 47,
      "outputs": [
        {
          "output_type": "stream",
          "name": "stdout",
          "text": [
            "   youtube  92.7FM  annualreports\n",
            "0    230.1    37.8           69.2\n",
            "1     44.5    39.3           45.1\n",
            "2     17.2    45.9           69.3\n",
            "3    151.5    41.3           58.5\n",
            "4    180.8    10.8           58.4\n",
            "0    22.1\n",
            "1    10.4\n",
            "2     9.3\n",
            "3    18.5\n",
            "4    12.9\n",
            "Name: sales, dtype: float64\n"
          ]
        }
      ]
    },
    {
      "cell_type": "code",
      "source": [
        "type(y)"
      ],
      "metadata": {
        "colab": {
          "base_uri": "https://localhost:8080/"
        },
        "id": "AiPMGXixryEr",
        "outputId": "040f8605-be75-460a-901e-632a3ed87c15"
      },
      "execution_count": null,
      "outputs": [
        {
          "output_type": "execute_result",
          "data": {
            "text/plain": [
              "pandas.core.series.Series"
            ]
          },
          "metadata": {},
          "execution_count": 7
        }
      ]
    },
    {
      "cell_type": "code",
      "source": [
        "import statsmodels.api as sm\n",
        "\n",
        "X_constant = sm.add_constant(x)        ## this line is to include intercept like x0 captured in compact form\n",
        "lin_reg = sm.OLS(y,X_constant).fit()\n",
        "lin_reg.summary()"
      ],
      "metadata": {
        "colab": {
          "base_uri": "https://localhost:8080/",
          "height": 540
        },
        "id": "SDOotTJSK2Za",
        "outputId": "889ee0f9-3134-4496-fd41-34cb30234054"
      },
      "execution_count": 48,
      "outputs": [
        {
          "output_type": "stream",
          "name": "stderr",
          "text": [
            "/usr/local/lib/python3.7/dist-packages/statsmodels/tsa/tsatools.py:142: FutureWarning: In a future version of pandas all arguments of concat except for the argument 'objs' will be keyword-only\n",
            "  x = pd.concat(x[::order], 1)\n"
          ]
        },
        {
          "output_type": "execute_result",
          "data": {
            "text/plain": [
              "<class 'statsmodels.iolib.summary.Summary'>\n",
              "\"\"\"\n",
              "                            OLS Regression Results                            \n",
              "==============================================================================\n",
              "Dep. Variable:                  sales   R-squared:                       0.897\n",
              "Model:                            OLS   Adj. R-squared:                  0.896\n",
              "Method:                 Least Squares   F-statistic:                     570.3\n",
              "Date:                Tue, 06 Sep 2022   Prob (F-statistic):           1.58e-96\n",
              "Time:                        15:37:26   Log-Likelihood:                -386.18\n",
              "No. Observations:                 200   AIC:                             780.4\n",
              "Df Residuals:                     196   BIC:                             793.6\n",
              "Df Model:                           3                                         \n",
              "Covariance Type:            nonrobust                                         \n",
              "=================================================================================\n",
              "                    coef    std err          t      P>|t|      [0.025      0.975]\n",
              "---------------------------------------------------------------------------------\n",
              "const             2.9389      0.312      9.422      0.000       2.324       3.554\n",
              "youtube           0.0458      0.001     32.809      0.000       0.043       0.049\n",
              "92.7FM            0.1885      0.009     21.893      0.000       0.172       0.206\n",
              "annualreports    -0.0010      0.006     -0.177      0.860      -0.013       0.011\n",
              "==============================================================================\n",
              "Omnibus:                       60.414   Durbin-Watson:                   2.084\n",
              "Prob(Omnibus):                  0.000   Jarque-Bera (JB):              151.241\n",
              "Skew:                          -1.327   Prob(JB):                     1.44e-33\n",
              "Kurtosis:                       6.332   Cond. No.                         454.\n",
              "==============================================================================\n",
              "\n",
              "Notes:\n",
              "[1] Standard Errors assume that the covariance matrix of the errors is correctly specified.\n",
              "\"\"\""
            ],
            "text/html": [
              "<table class=\"simpletable\">\n",
              "<caption>OLS Regression Results</caption>\n",
              "<tr>\n",
              "  <th>Dep. Variable:</th>          <td>sales</td>      <th>  R-squared:         </th> <td>   0.897</td>\n",
              "</tr>\n",
              "<tr>\n",
              "  <th>Model:</th>                   <td>OLS</td>       <th>  Adj. R-squared:    </th> <td>   0.896</td>\n",
              "</tr>\n",
              "<tr>\n",
              "  <th>Method:</th>             <td>Least Squares</td>  <th>  F-statistic:       </th> <td>   570.3</td>\n",
              "</tr>\n",
              "<tr>\n",
              "  <th>Date:</th>             <td>Tue, 06 Sep 2022</td> <th>  Prob (F-statistic):</th> <td>1.58e-96</td>\n",
              "</tr>\n",
              "<tr>\n",
              "  <th>Time:</th>                 <td>15:37:26</td>     <th>  Log-Likelihood:    </th> <td> -386.18</td>\n",
              "</tr>\n",
              "<tr>\n",
              "  <th>No. Observations:</th>      <td>   200</td>      <th>  AIC:               </th> <td>   780.4</td>\n",
              "</tr>\n",
              "<tr>\n",
              "  <th>Df Residuals:</th>          <td>   196</td>      <th>  BIC:               </th> <td>   793.6</td>\n",
              "</tr>\n",
              "<tr>\n",
              "  <th>Df Model:</th>              <td>     3</td>      <th>                     </th>     <td> </td>   \n",
              "</tr>\n",
              "<tr>\n",
              "  <th>Covariance Type:</th>      <td>nonrobust</td>    <th>                     </th>     <td> </td>   \n",
              "</tr>\n",
              "</table>\n",
              "<table class=\"simpletable\">\n",
              "<tr>\n",
              "        <td></td>           <th>coef</th>     <th>std err</th>      <th>t</th>      <th>P>|t|</th>  <th>[0.025</th>    <th>0.975]</th>  \n",
              "</tr>\n",
              "<tr>\n",
              "  <th>const</th>         <td>    2.9389</td> <td>    0.312</td> <td>    9.422</td> <td> 0.000</td> <td>    2.324</td> <td>    3.554</td>\n",
              "</tr>\n",
              "<tr>\n",
              "  <th>youtube</th>       <td>    0.0458</td> <td>    0.001</td> <td>   32.809</td> <td> 0.000</td> <td>    0.043</td> <td>    0.049</td>\n",
              "</tr>\n",
              "<tr>\n",
              "  <th>92.7FM</th>        <td>    0.1885</td> <td>    0.009</td> <td>   21.893</td> <td> 0.000</td> <td>    0.172</td> <td>    0.206</td>\n",
              "</tr>\n",
              "<tr>\n",
              "  <th>annualreports</th> <td>   -0.0010</td> <td>    0.006</td> <td>   -0.177</td> <td> 0.860</td> <td>   -0.013</td> <td>    0.011</td>\n",
              "</tr>\n",
              "</table>\n",
              "<table class=\"simpletable\">\n",
              "<tr>\n",
              "  <th>Omnibus:</th>       <td>60.414</td> <th>  Durbin-Watson:     </th> <td>   2.084</td>\n",
              "</tr>\n",
              "<tr>\n",
              "  <th>Prob(Omnibus):</th> <td> 0.000</td> <th>  Jarque-Bera (JB):  </th> <td> 151.241</td>\n",
              "</tr>\n",
              "<tr>\n",
              "  <th>Skew:</th>          <td>-1.327</td> <th>  Prob(JB):          </th> <td>1.44e-33</td>\n",
              "</tr>\n",
              "<tr>\n",
              "  <th>Kurtosis:</th>      <td> 6.332</td> <th>  Cond. No.          </th> <td>    454.</td>\n",
              "</tr>\n",
              "</table><br/><br/>Notes:<br/>[1] Standard Errors assume that the covariance matrix of the errors is correctly specified."
            ]
          },
          "metadata": {},
          "execution_count": 48
        }
      ]
    },
    {
      "cell_type": "markdown",
      "source": [
        "Too Many interpretations right! \n",
        "\n",
        "Dont worry - lets decompose every parameter as step by step process to diagonize our model"
      ],
      "metadata": {
        "id": "UfHtHCuAUJfS"
      }
    },
    {
      "cell_type": "markdown",
      "source": [
        "**First check:**\n",
        "\n",
        "Check for relation of independent variables (youtube, 92.7FM, annualreports) to target variable (sales) is true.\n",
        "\n",
        "Interpretation from above report:\n",
        "\n",
        "Sales = 2.9389 + 0.046*youtube + 0.189*92.7FM + (-0.001)*annualreports.\n",
        "\n",
        "This means if we spend:\n",
        "\n",
        " Additional 1000 dollars on youtube media it increases the sales of products by 46 units.\n",
        "\n",
        " Additional 1000 dollars on 92.7FM it increases the sales of products by 189 units.\n",
        "\n",
        " Additional 1000 dollars on annualreports publishing it decreases the sales of products by 1 unit.\n",
        "\n",
        "This gives us how strongly the youtube media and 92.7FM associated with the sales\n",
        "\n",
        "**How much can we rely on this coefficients?**\n",
        "\n",
        "The true relationship may not be perfectly linear, so there is an error that can be reduced by using a more complex model such as the polynomial regression model. These types of errors are called **reducible errors.**\n",
        "\n",
        "On the other hand, errors may introduce because of errors in measurement and environmental conditions such as the office is closed for one week due to heavy rain which affects the sales. These types of errors are called **irreducible errors.**\n",
        "\n",
        "Because of these errors, we can say that the coefficients are not perfect estimates.\n",
        "\n",
        "To find this error in coefficient estimates we use Standard Error (SE) (Please note **std err** in report above).\n",
        "\n",
        "SE (**std err**) of a coefficient represents the average distance that observed values deviate from the regression line. If the standard errors of the coefficient estimate of a variable are smaller then the model can estimate the coefficient for that variable with greater precision.\n",
        "\n",
        "SE of the coefficient of youtube and intercept can be given by,\n",
        "\n",
        "![An image](https://miro.medium.com/max/538/1*tw75qQ-KCNaepCH_xmbSgw.png)\n",
        "\n",
        "\n",
        "The standard error is used to compute,\n",
        "\n",
        "**1] Confidence Interval:**\n",
        "\n",
        "The 95% confidence interval means that there is a 95% probability that the range will contain the true unknown values of the parameter. \n",
        "\n",
        "The range is defined by the upper and lower limit. 95% confidence interval for a β can be calculated as β ± 2*SE(β).\n",
        "\n",
        "From above report:\n",
        "\n",
        "95% confidence interval for intercept β0 is [2.324, 3.554] which shows that in the absence of any advertising, sales will, on average, fall somewhere between 2,324 and 3,554 units.\n",
        "\n",
        "95% confidence interval for β1 is [0.043, 0.049] shows that for each $1,000 increase in youtube advertising, there will be an average increase in sales of between 43 and 49 units.\n",
        "\n",
        "95% confidence interval for β2 is [0.172, 0.206] shows that for each $1,000 increase in 92.7FM advertising, there will be an average increase in sales of between 172 and 206 units.\n",
        "\n",
        "**2] To Perform Hypothesis Testing:**\n",
        "\n",
        "Now with the help of hypothesis testing let’s find out, Is there is a real relationship/association between Sales and youtube advertising budget or we got the results by chance?\n",
        "\n",
        "Let’s define the hypothesis for the model.\n",
        "\n",
        "H0 = There is no relationship between sales and youtube advertising. (β1 = 0)\n",
        "\n",
        "Ha = There is a relationship between sales and youtube advertising. (β1 ≠ 0)\n",
        "\n",
        "To prove that there exists a real relationship/association between sales and youtube advertising budget, we need to determine β1 is sufficiently far from zero that we can be confident that β1 is non-zero with the calculated SE.\n",
        "\n",
        "To find how far β1 from zero (This, depends on the accuracy of β1 — that is, it depends on SE( β1).) we use t statistics as\n",
        "\n",
        "![An image](https://miro.medium.com/max/300/1*36sIM0kDZzY2NAJeotXgDg.png)\n",
        "\n",
        "From the above report, the **t statistics for β1 is 32.809**\n",
        "\n",
        "Let’s consider the significance level(α) = 0.01, it is the probability of making the wrong decision when the null hypothesis is true.\n",
        "\n",
        "![An image](https://miro.medium.com/max/700/1*IIMpum07auBd9OPiV02Rfg.jpeg)\n",
        "\n",
        "**(Errata: tcal in image must be 32.809 instead of 17.668)**\n",
        "\n",
        "We can perform hypothesis testing with two methods\n",
        "\n",
        "**1] critical value Method:**\n",
        "\n",
        "Critical value for α = 0.01 for a two-tailed hypothesis test is ±2.345 means, an area of 0.01 is equal to a t-score of ±2.345 as shown in the figure.\n",
        "\n",
        "Now the t value calculated from the above formula is 32.809. As calculated T-value is numerically greater than the critical value so it falls in the rejection region as shown in the diagram.\n",
        "\n",
        "So we have enough evidence to reject the null hypothesis.\n",
        "\n",
        "So β1 ≠ 0.\n",
        "\n",
        "**2] P-value method**\n",
        "\n",
        "P-value for t statistics = ±32.809 is 0.0001 .\n",
        "\n",
        "i.e. By assuming the Null hypothesis (β1 = 0) is true, the probability of getting a T-value equal to 32.809 or more is only 0.0001.\n",
        "\n",
        "Significance level (α) = 0.01 means we can accept the null hypothesis only if there is at least 1 in 100 chance of getting the T value equal to 32.809 or extreme. So as P-value (0.0001) << α (0.01) So we can reject the null hypothesis. Simply, the P-value is area corresponds to the given test statistics.\n",
        "\n",
        "So, from the above results, we can conclude that β1 ≠ 0.\n",
        "\n",
        "**credits: Abhay Jidge\n",
        "\n",
        "https://towardsdatascience.com/the-complete-guide-to-linear-regression-analysis-38a421a89dc2 "
      ],
      "metadata": {
        "id": "Y5_6PGzzUiQM"
      }
    },
    {
      "cell_type": "markdown",
      "source": [
        "We can analyse that the coefficient estimate for the annualreports is close to zero and the p-value is no longer significant(p-value >> 0.005) with a value around 0.86. This shows that money spent on annualreports publishing has no relation to the sale of the product.\n",
        "\n",
        "Now to understand why this is happening, let’s analyse the correlation matrix."
      ],
      "metadata": {
        "id": "YXveikOang2W"
      }
    },
    {
      "cell_type": "code",
      "source": [
        "df_variables = df.drop(['sno'], axis=1)\n",
        "corr_var = df_variables.corr()\n",
        "corr_var"
      ],
      "metadata": {
        "colab": {
          "base_uri": "https://localhost:8080/",
          "height": 173
        },
        "id": "qxCZrblyoljH",
        "outputId": "c80fd5c6-2363-4162-ba35-0972320619c0"
      },
      "execution_count": 49,
      "outputs": [
        {
          "output_type": "execute_result",
          "data": {
            "text/plain": [
              "                youtube    92.7FM  annualreports     sales\n",
              "youtube        1.000000  0.054809       0.056648  0.782224\n",
              "92.7FM         0.054809  1.000000       0.354104  0.576223\n",
              "annualreports  0.056648  0.354104       1.000000  0.228299\n",
              "sales          0.782224  0.576223       0.228299  1.000000"
            ],
            "text/html": [
              "\n",
              "  <div id=\"df-714dd85b-670c-4572-8912-d387df827391\">\n",
              "    <div class=\"colab-df-container\">\n",
              "      <div>\n",
              "<style scoped>\n",
              "    .dataframe tbody tr th:only-of-type {\n",
              "        vertical-align: middle;\n",
              "    }\n",
              "\n",
              "    .dataframe tbody tr th {\n",
              "        vertical-align: top;\n",
              "    }\n",
              "\n",
              "    .dataframe thead th {\n",
              "        text-align: right;\n",
              "    }\n",
              "</style>\n",
              "<table border=\"1\" class=\"dataframe\">\n",
              "  <thead>\n",
              "    <tr style=\"text-align: right;\">\n",
              "      <th></th>\n",
              "      <th>youtube</th>\n",
              "      <th>92.7FM</th>\n",
              "      <th>annualreports</th>\n",
              "      <th>sales</th>\n",
              "    </tr>\n",
              "  </thead>\n",
              "  <tbody>\n",
              "    <tr>\n",
              "      <th>youtube</th>\n",
              "      <td>1.000000</td>\n",
              "      <td>0.054809</td>\n",
              "      <td>0.056648</td>\n",
              "      <td>0.782224</td>\n",
              "    </tr>\n",
              "    <tr>\n",
              "      <th>92.7FM</th>\n",
              "      <td>0.054809</td>\n",
              "      <td>1.000000</td>\n",
              "      <td>0.354104</td>\n",
              "      <td>0.576223</td>\n",
              "    </tr>\n",
              "    <tr>\n",
              "      <th>annualreports</th>\n",
              "      <td>0.056648</td>\n",
              "      <td>0.354104</td>\n",
              "      <td>1.000000</td>\n",
              "      <td>0.228299</td>\n",
              "    </tr>\n",
              "    <tr>\n",
              "      <th>sales</th>\n",
              "      <td>0.782224</td>\n",
              "      <td>0.576223</td>\n",
              "      <td>0.228299</td>\n",
              "      <td>1.000000</td>\n",
              "    </tr>\n",
              "  </tbody>\n",
              "</table>\n",
              "</div>\n",
              "      <button class=\"colab-df-convert\" onclick=\"convertToInteractive('df-714dd85b-670c-4572-8912-d387df827391')\"\n",
              "              title=\"Convert this dataframe to an interactive table.\"\n",
              "              style=\"display:none;\">\n",
              "        \n",
              "  <svg xmlns=\"http://www.w3.org/2000/svg\" height=\"24px\"viewBox=\"0 0 24 24\"\n",
              "       width=\"24px\">\n",
              "    <path d=\"M0 0h24v24H0V0z\" fill=\"none\"/>\n",
              "    <path d=\"M18.56 5.44l.94 2.06.94-2.06 2.06-.94-2.06-.94-.94-2.06-.94 2.06-2.06.94zm-11 1L8.5 8.5l.94-2.06 2.06-.94-2.06-.94L8.5 2.5l-.94 2.06-2.06.94zm10 10l.94 2.06.94-2.06 2.06-.94-2.06-.94-.94-2.06-.94 2.06-2.06.94z\"/><path d=\"M17.41 7.96l-1.37-1.37c-.4-.4-.92-.59-1.43-.59-.52 0-1.04.2-1.43.59L10.3 9.45l-7.72 7.72c-.78.78-.78 2.05 0 2.83L4 21.41c.39.39.9.59 1.41.59.51 0 1.02-.2 1.41-.59l7.78-7.78 2.81-2.81c.8-.78.8-2.07 0-2.86zM5.41 20L4 18.59l7.72-7.72 1.47 1.35L5.41 20z\"/>\n",
              "  </svg>\n",
              "      </button>\n",
              "      \n",
              "  <style>\n",
              "    .colab-df-container {\n",
              "      display:flex;\n",
              "      flex-wrap:wrap;\n",
              "      gap: 12px;\n",
              "    }\n",
              "\n",
              "    .colab-df-convert {\n",
              "      background-color: #E8F0FE;\n",
              "      border: none;\n",
              "      border-radius: 50%;\n",
              "      cursor: pointer;\n",
              "      display: none;\n",
              "      fill: #1967D2;\n",
              "      height: 32px;\n",
              "      padding: 0 0 0 0;\n",
              "      width: 32px;\n",
              "    }\n",
              "\n",
              "    .colab-df-convert:hover {\n",
              "      background-color: #E2EBFA;\n",
              "      box-shadow: 0px 1px 2px rgba(60, 64, 67, 0.3), 0px 1px 3px 1px rgba(60, 64, 67, 0.15);\n",
              "      fill: #174EA6;\n",
              "    }\n",
              "\n",
              "    [theme=dark] .colab-df-convert {\n",
              "      background-color: #3B4455;\n",
              "      fill: #D2E3FC;\n",
              "    }\n",
              "\n",
              "    [theme=dark] .colab-df-convert:hover {\n",
              "      background-color: #434B5C;\n",
              "      box-shadow: 0px 1px 3px 1px rgba(0, 0, 0, 0.15);\n",
              "      filter: drop-shadow(0px 1px 2px rgba(0, 0, 0, 0.3));\n",
              "      fill: #FFFFFF;\n",
              "    }\n",
              "  </style>\n",
              "\n",
              "      <script>\n",
              "        const buttonEl =\n",
              "          document.querySelector('#df-714dd85b-670c-4572-8912-d387df827391 button.colab-df-convert');\n",
              "        buttonEl.style.display =\n",
              "          google.colab.kernel.accessAllowed ? 'block' : 'none';\n",
              "\n",
              "        async function convertToInteractive(key) {\n",
              "          const element = document.querySelector('#df-714dd85b-670c-4572-8912-d387df827391');\n",
              "          const dataTable =\n",
              "            await google.colab.kernel.invokeFunction('convertToInteractive',\n",
              "                                                     [key], {});\n",
              "          if (!dataTable) return;\n",
              "\n",
              "          const docLinkHtml = 'Like what you see? Visit the ' +\n",
              "            '<a target=\"_blank\" href=https://colab.research.google.com/notebooks/data_table.ipynb>data table notebook</a>'\n",
              "            + ' to learn more about interactive tables.';\n",
              "          element.innerHTML = '';\n",
              "          dataTable['output_type'] = 'display_data';\n",
              "          await google.colab.output.renderOutput(dataTable, element);\n",
              "          const docLink = document.createElement('div');\n",
              "          docLink.innerHTML = docLinkHtml;\n",
              "          element.appendChild(docLink);\n",
              "        }\n",
              "      </script>\n",
              "    </div>\n",
              "  </div>\n",
              "  "
            ]
          },
          "metadata": {},
          "execution_count": 49
        }
      ]
    },
    {
      "cell_type": "markdown",
      "source": [
        "Correlation between 92.7FM and annualreports is 0.354, this reveals a tendency to spend more on annualreports publishing in markets where more is spent on 92.7FM. The correlation between sales and annualreports publishing is less, this shows that annualreports publishing has no direct effect on sales.\n",
        "\n",
        "More money spent on annualreports publishing tends to more money spent on 92.7FM advertisement, so an increase in the budget for 92.7FM advertising increases sales.Simple linear regression only examines the sales versus the annualreports so the annualreports gets credit for the effect of radio on sales.\n",
        "\n",
        "So, from the above analysis, we can say that the annualreports publishing variable do not increase the sales of product. So let’s build a model by removing the annualreports publishing variable."
      ],
      "metadata": {
        "id": "SX3MsA8LqR7H"
      }
    },
    {
      "cell_type": "code",
      "source": [
        "x_annualdropped = df.drop(['sales','sno','annualreports'], axis=1)\n",
        "y = pd.Series(df['sales'], name = 'sales')\n",
        "print(x_annualdropped.head())\n",
        "print(y.head())"
      ],
      "metadata": {
        "colab": {
          "base_uri": "https://localhost:8080/"
        },
        "id": "jJx9ElCTq4au",
        "outputId": "4601c291-81bd-44bb-b1c1-d74b81b38bc4"
      },
      "execution_count": 50,
      "outputs": [
        {
          "output_type": "stream",
          "name": "stdout",
          "text": [
            "   youtube  92.7FM\n",
            "0    230.1    37.8\n",
            "1     44.5    39.3\n",
            "2     17.2    45.9\n",
            "3    151.5    41.3\n",
            "4    180.8    10.8\n",
            "0    22.1\n",
            "1    10.4\n",
            "2     9.3\n",
            "3    18.5\n",
            "4    12.9\n",
            "Name: sales, dtype: float64\n"
          ]
        }
      ]
    },
    {
      "cell_type": "code",
      "source": [
        "import statsmodels.api as sm\n",
        "\n",
        "X_const_dropvar = sm.add_constant(x_annualdropped)        ## this line is to include intercept like x0 captured in compact form\n",
        "lin_reg_dropvar = sm.OLS(y,X_const_dropvar).fit()\n",
        "lin_reg_dropvar.summary()"
      ],
      "metadata": {
        "colab": {
          "base_uri": "https://localhost:8080/",
          "height": 519
        },
        "id": "4AOUbTQJraQ-",
        "outputId": "d60a7e07-8334-49c7-942e-c208f80649c9"
      },
      "execution_count": 51,
      "outputs": [
        {
          "output_type": "stream",
          "name": "stderr",
          "text": [
            "/usr/local/lib/python3.7/dist-packages/statsmodels/tsa/tsatools.py:142: FutureWarning: In a future version of pandas all arguments of concat except for the argument 'objs' will be keyword-only\n",
            "  x = pd.concat(x[::order], 1)\n"
          ]
        },
        {
          "output_type": "execute_result",
          "data": {
            "text/plain": [
              "<class 'statsmodels.iolib.summary.Summary'>\n",
              "\"\"\"\n",
              "                            OLS Regression Results                            \n",
              "==============================================================================\n",
              "Dep. Variable:                  sales   R-squared:                       0.897\n",
              "Model:                            OLS   Adj. R-squared:                  0.896\n",
              "Method:                 Least Squares   F-statistic:                     859.6\n",
              "Date:                Tue, 06 Sep 2022   Prob (F-statistic):           4.83e-98\n",
              "Time:                        15:37:49   Log-Likelihood:                -386.20\n",
              "No. Observations:                 200   AIC:                             778.4\n",
              "Df Residuals:                     197   BIC:                             788.3\n",
              "Df Model:                           2                                         \n",
              "Covariance Type:            nonrobust                                         \n",
              "==============================================================================\n",
              "                 coef    std err          t      P>|t|      [0.025      0.975]\n",
              "------------------------------------------------------------------------------\n",
              "const          2.9211      0.294      9.919      0.000       2.340       3.502\n",
              "youtube        0.0458      0.001     32.909      0.000       0.043       0.048\n",
              "92.7FM         0.1880      0.008     23.382      0.000       0.172       0.204\n",
              "==============================================================================\n",
              "Omnibus:                       60.022   Durbin-Watson:                   2.081\n",
              "Prob(Omnibus):                  0.000   Jarque-Bera (JB):              148.679\n",
              "Skew:                          -1.323   Prob(JB):                     5.19e-33\n",
              "Kurtosis:                       6.292   Cond. No.                         425.\n",
              "==============================================================================\n",
              "\n",
              "Notes:\n",
              "[1] Standard Errors assume that the covariance matrix of the errors is correctly specified.\n",
              "\"\"\""
            ],
            "text/html": [
              "<table class=\"simpletable\">\n",
              "<caption>OLS Regression Results</caption>\n",
              "<tr>\n",
              "  <th>Dep. Variable:</th>          <td>sales</td>      <th>  R-squared:         </th> <td>   0.897</td>\n",
              "</tr>\n",
              "<tr>\n",
              "  <th>Model:</th>                   <td>OLS</td>       <th>  Adj. R-squared:    </th> <td>   0.896</td>\n",
              "</tr>\n",
              "<tr>\n",
              "  <th>Method:</th>             <td>Least Squares</td>  <th>  F-statistic:       </th> <td>   859.6</td>\n",
              "</tr>\n",
              "<tr>\n",
              "  <th>Date:</th>             <td>Tue, 06 Sep 2022</td> <th>  Prob (F-statistic):</th> <td>4.83e-98</td>\n",
              "</tr>\n",
              "<tr>\n",
              "  <th>Time:</th>                 <td>15:37:49</td>     <th>  Log-Likelihood:    </th> <td> -386.20</td>\n",
              "</tr>\n",
              "<tr>\n",
              "  <th>No. Observations:</th>      <td>   200</td>      <th>  AIC:               </th> <td>   778.4</td>\n",
              "</tr>\n",
              "<tr>\n",
              "  <th>Df Residuals:</th>          <td>   197</td>      <th>  BIC:               </th> <td>   788.3</td>\n",
              "</tr>\n",
              "<tr>\n",
              "  <th>Df Model:</th>              <td>     2</td>      <th>                     </th>     <td> </td>   \n",
              "</tr>\n",
              "<tr>\n",
              "  <th>Covariance Type:</th>      <td>nonrobust</td>    <th>                     </th>     <td> </td>   \n",
              "</tr>\n",
              "</table>\n",
              "<table class=\"simpletable\">\n",
              "<tr>\n",
              "     <td></td>        <th>coef</th>     <th>std err</th>      <th>t</th>      <th>P>|t|</th>  <th>[0.025</th>    <th>0.975]</th>  \n",
              "</tr>\n",
              "<tr>\n",
              "  <th>const</th>   <td>    2.9211</td> <td>    0.294</td> <td>    9.919</td> <td> 0.000</td> <td>    2.340</td> <td>    3.502</td>\n",
              "</tr>\n",
              "<tr>\n",
              "  <th>youtube</th> <td>    0.0458</td> <td>    0.001</td> <td>   32.909</td> <td> 0.000</td> <td>    0.043</td> <td>    0.048</td>\n",
              "</tr>\n",
              "<tr>\n",
              "  <th>92.7FM</th>  <td>    0.1880</td> <td>    0.008</td> <td>   23.382</td> <td> 0.000</td> <td>    0.172</td> <td>    0.204</td>\n",
              "</tr>\n",
              "</table>\n",
              "<table class=\"simpletable\">\n",
              "<tr>\n",
              "  <th>Omnibus:</th>       <td>60.022</td> <th>  Durbin-Watson:     </th> <td>   2.081</td>\n",
              "</tr>\n",
              "<tr>\n",
              "  <th>Prob(Omnibus):</th> <td> 0.000</td> <th>  Jarque-Bera (JB):  </th> <td> 148.679</td>\n",
              "</tr>\n",
              "<tr>\n",
              "  <th>Skew:</th>          <td>-1.323</td> <th>  Prob(JB):          </th> <td>5.19e-33</td>\n",
              "</tr>\n",
              "<tr>\n",
              "  <th>Kurtosis:</th>      <td> 6.292</td> <th>  Cond. No.          </th> <td>    425.</td>\n",
              "</tr>\n",
              "</table><br/><br/>Notes:<br/>[1] Standard Errors assume that the covariance matrix of the errors is correctly specified."
            ]
          },
          "metadata": {},
          "execution_count": 51
        }
      ]
    },
    {
      "cell_type": "markdown",
      "source": [
        "Significance of F-statistic:\n",
        "\n",
        "The F-statistic is calculated as regression MS/residual MS. This statistic indicates whether the regression model provides a better fit to the data than a model that contains no independent variables. In essence, it tests if the regression model as a whole is useful.\n",
        "\n"
      ],
      "metadata": {
        "id": "0fAnOLq_AF62"
      }
    },
    {
      "cell_type": "markdown",
      "source": [
        "**Test all assumptions**"
      ],
      "metadata": {
        "id": "tmeesF_COhqW"
      }
    },
    {
      "cell_type": "markdown",
      "source": [
        "**Linearity**"
      ],
      "metadata": {
        "id": "H6b_R9fyPH8R"
      }
    },
    {
      "cell_type": "code",
      "source": [
        "def calculate_residuals(model, features, label):\n",
        "    \"\"\"\n",
        "    Creates predictions on the features with the model and calculates residuals\n",
        "    \"\"\"\n",
        "    predictions = model.predict(features)\n",
        "    df_results = pd.DataFrame({'Actual': label, 'Predicted': predictions})\n",
        "    df_results['Residuals'] = abs(df_results['Actual']) - abs(df_results['Predicted'])\n",
        "    \n",
        "    return df_results"
      ],
      "metadata": {
        "id": "wiBFJGJjQRce"
      },
      "execution_count": null,
      "outputs": []
    },
    {
      "cell_type": "code",
      "source": [
        "def linear_assumption(model, features, label):\n",
        "    \"\"\"\n",
        "    Linearity: Assumes that there is a linear relationship between the predictors and\n",
        "               the response variable. If not, either a quadratic term or another\n",
        "               algorithm should be used.\n",
        "    \"\"\"\n",
        "    print('Assumption: Linear Relationship between the Target and the Feature', '\\n')\n",
        "        \n",
        "    print('Checking with a scatter plot of actual vs. predicted.',\n",
        "           'Predictions should follow the diagonal line.')\n",
        "    \n",
        "    # Calculating residuals for the plot\n",
        "    df_results = calculate_residuals(model, features, label)\n",
        "    \n",
        "    # Plotting the actual vs predicted values\n",
        "    sns.lmplot(x='Actual', y='Predicted', data=df_results, fit_reg=False, size=7)\n",
        "        \n",
        "    # Plotting the diagonal line\n",
        "    line_coords = np.arange(df_results.min().min(), df_results.max().max())\n",
        "    plt.plot(line_coords, line_coords,  # X and y points\n",
        "             color='darkorange', linestyle='--')\n",
        "    plt.title('Actual vs. Predicted')\n",
        "    plt.show()"
      ],
      "metadata": {
        "id": "ATi_8u9rPUlL"
      },
      "execution_count": null,
      "outputs": []
    },
    {
      "cell_type": "code",
      "source": [
        "linear_assumption(lin_reg_dropvar, X_const_dropvar, y)"
      ],
      "metadata": {
        "colab": {
          "base_uri": "https://localhost:8080/",
          "height": 634
        },
        "id": "nEy90t5BQ5nD",
        "outputId": "c8b669f6-bc0f-4a6c-e182-d19cb325ada3"
      },
      "execution_count": null,
      "outputs": [
        {
          "output_type": "stream",
          "name": "stdout",
          "text": [
            "Assumption: Linear Relationship between the Target and the Feature \n",
            "\n",
            "Checking with a scatter plot of actual vs. predicted. Predictions should follow the diagonal line.\n"
          ]
        },
        {
          "output_type": "stream",
          "name": "stderr",
          "text": [
            "/usr/local/lib/python3.7/dist-packages/seaborn/regression.py:581: UserWarning: The `size` parameter has been renamed to `height`; please update your code.\n",
            "  warnings.warn(msg, UserWarning)\n"
          ]
        },
        {
          "output_type": "display_data",
          "data": {
            "text/plain": [
              "<Figure size 504x504 with 1 Axes>"
            ],
            "image/png": "[encoded data removed]"
          },
          "metadata": {
            "needs_background": "light"
          }
        }
      ]
    },
    {
      "cell_type": "code",
      "source": [
        "fitted_vals = lin_reg_dropvar.predict()\n",
        "resids = lin_reg_dropvar.resid\n",
        "\n",
        "fig, ax = plt.subplots(1,2)\n",
        "    \n",
        "sns.regplot(x=fitted_vals, y=y, lowess=True, ax=ax[0], line_kws={'color': 'red'})\n",
        "ax[0].set_title('Observed vs. Predicted Values', fontsize=16)\n",
        "ax[0].set(xlabel='Predicted', ylabel='Observed')\n",
        "\n",
        "sns.regplot(x=fitted_vals, y=resids, lowess=True, ax=ax[1], line_kws={'color': 'red'})\n",
        "ax[1].set_title('Residuals vs. Predicted Values', fontsize=16)\n",
        "ax[1].set(xlabel='Predicted', ylabel='Residuals')"
      ],
      "metadata": {
        "colab": {
          "base_uri": "https://localhost:8080/",
          "height": 314
        },
        "id": "f4sumy1cT_2s",
        "outputId": "11ab59bb-abd5-4c38-9c7b-4b60b8cfd52f"
      },
      "execution_count": null,
      "outputs": [
        {
          "output_type": "execute_result",
          "data": {
            "text/plain": [
              "[Text(0, 0.5, 'Residuals'), Text(0.5, 0, 'Predicted')]"
            ]
          },
          "metadata": {},
          "execution_count": 34
        },
        {
          "output_type": "display_data",
          "data": {
            "text/plain": [
              "<Figure size 432x288 with 2 Axes>"
            ],
            "image/png": "[encoded data removed]"
          },
          "metadata": {
            "needs_background": "light"
          }
        }
      ]
    },
    {
      "cell_type": "markdown",
      "source": [
        "**Normality of the Error Terms**"
      ],
      "metadata": {
        "id": "hpVL7hOFWxRh"
      }
    },
    {
      "cell_type": "code",
      "source": [
        "def normal_errors_assumption(model, features, label, p_value_thresh=0.05):\n",
        "    \"\"\"\n",
        "    Normality: Assumes that the error terms are normally distributed. If they are not,\n",
        "    nonlinear transformations of variables may solve this.\n",
        "               \n",
        "    This assumption being violated primarily causes issues with the confidence intervals\n",
        "    \"\"\"\n",
        "    from statsmodels.stats.diagnostic import normal_ad\n",
        "    print('Assumption: The error terms are normally distributed', '\\n')\n",
        "    \n",
        "    # Calculating residuals for the Anderson-Darling test\n",
        "    df_results = calculate_residuals(model, features, label)\n",
        "    \n",
        "    print('Using the Anderson-Darling test for normal distribution')\n",
        "\n",
        "    # Performing the test on the residuals\n",
        "    p_value = normal_ad(df_results['Residuals'])[1]\n",
        "    print('p-value from the test - below 0.05 generally means non-normal:', p_value)\n",
        "    \n",
        "    # Reporting the normality of the residuals\n",
        "    if p_value < p_value_thresh:\n",
        "        print('Residuals are not normally distributed')\n",
        "    else:\n",
        "        print('Residuals are normally distributed')\n",
        "    \n",
        "    # Plotting the residuals distribution\n",
        "    plt.subplots(figsize=(12, 6))\n",
        "    plt.title('Distribution of Residuals')\n",
        "    sns.distplot(df_results['Residuals'])\n",
        "    plt.show()\n",
        "    \n",
        "    print()\n",
        "    if p_value > p_value_thresh:\n",
        "        print('Assumption satisfied')\n",
        "    else:\n",
        "        print('Assumption not satisfied')\n",
        "        print()\n",
        "        print('Confidence intervals will likely be affected')\n",
        "        print('Try performing nonlinear transformations on variables')"
      ],
      "metadata": {
        "id": "njylDYMUWzH1"
      },
      "execution_count": null,
      "outputs": []
    },
    {
      "cell_type": "code",
      "source": [
        "normal_errors_assumption(lin_reg_dropvar, X_const_dropvar, y)"
      ],
      "metadata": {
        "colab": {
          "base_uri": "https://localhost:8080/",
          "height": 628
        },
        "id": "CIjeQZVFXLlD",
        "outputId": "2f31fff6-83ee-44d9-8fc5-707bff15062d"
      },
      "execution_count": null,
      "outputs": [
        {
          "output_type": "stream",
          "name": "stdout",
          "text": [
            "Assumption: The error terms are normally distributed \n",
            "\n",
            "Using the Anderson-Darling test for normal distribution\n",
            "p-value from the test - below 0.05 generally means non-normal: 2.957935616737092e-09\n",
            "Residuals are not normally distributed\n"
          ]
        },
        {
          "output_type": "stream",
          "name": "stderr",
          "text": [
            "/usr/local/lib/python3.7/dist-packages/seaborn/distributions.py:2619: FutureWarning: `distplot` is a deprecated function and will be removed in a future version. Please adapt your code to use either `displot` (a figure-level function with similar flexibility) or `histplot` (an axes-level function for histograms).\n",
            "  warnings.warn(msg, FutureWarning)\n"
          ]
        },
        {
          "output_type": "display_data",
          "data": {
            "text/plain": [
              "<Figure size 864x432 with 1 Axes>"
            ],
            "image/png": "[encoded data removed]"
          },
          "metadata": {
            "needs_background": "light"
          }
        },
        {
          "output_type": "stream",
          "name": "stdout",
          "text": [
            "\n",
            "Assumption not satisfied\n",
            "\n",
            "Confidence intervals will likely be affected\n",
            "Try performing nonlinear transformations on variables\n"
          ]
        }
      ]
    },
    {
      "cell_type": "markdown",
      "source": [
        "**No Multicollinearity among Predictors**"
      ],
      "metadata": {
        "id": "3RXbPSlefA6_"
      }
    },
    {
      "cell_type": "markdown",
      "source": [
        "We can detect multicollinearity using the variance inflation factor (VIF). \n",
        "\n",
        "Without going into too many details, the interpretation of VIF is as follows: the square root of a given variable’s VIF shows how much larger the standard error is, compared with what it would be if that predictor were uncorrelated with the other features in the model. If no features are correlated, then all values for VIF will be 1.\n",
        "\n",
        "To deal with multicollinearity we should iteratively remove features with high values of VIF. \n",
        "\n",
        "A rule of thumb for removal could be VIF larger than 10 (5 is also common)."
      ],
      "metadata": {
        "id": "MFUxOgU9mWJi"
      }
    },
    {
      "cell_type": "code",
      "source": [
        "from statsmodels.stats.outliers_influence import variance_inflation_factor\n",
        "\n",
        "vif = [variance_inflation_factor(X_const_dropvar.values, i) for i in range(X_const_dropvar.shape[1])]\n",
        "pd.DataFrame({'vif': vif[1:]}, index=x_annualdropped.columns).T\n",
        "    "
      ],
      "metadata": {
        "colab": {
          "base_uri": "https://localhost:8080/",
          "height": 80
        },
        "id": "QCWiQsvffCtu",
        "outputId": "2d30a25f-e643-4743-a737-d4d846f1fffd"
      },
      "execution_count": null,
      "outputs": [
        {
          "output_type": "execute_result",
          "data": {
            "text/plain": [
              "      youtube    92.7FM\n",
              "vif  1.003013  1.003013"
            ],
            "text/html": [
              "\n",
              "  <div id=\"df-620c2f4e-2069-4d73-b82a-e6464f5aca28\">\n",
              "    <div class=\"colab-df-container\">\n",
              "      <div>\n",
              "<style scoped>\n",
              "    .dataframe tbody tr th:only-of-type {\n",
              "        vertical-align: middle;\n",
              "    }\n",
              "\n",
              "    .dataframe tbody tr th {\n",
              "        vertical-align: top;\n",
              "    }\n",
              "\n",
              "    .dataframe thead th {\n",
              "        text-align: right;\n",
              "    }\n",
              "</style>\n",
              "<table border=\"1\" class=\"dataframe\">\n",
              "  <thead>\n",
              "    <tr style=\"text-align: right;\">\n",
              "      <th></th>\n",
              "      <th>youtube</th>\n",
              "      <th>92.7FM</th>\n",
              "    </tr>\n",
              "  </thead>\n",
              "  <tbody>\n",
              "    <tr>\n",
              "      <th>vif</th>\n",
              "      <td>1.003013</td>\n",
              "      <td>1.003013</td>\n",
              "    </tr>\n",
              "  </tbody>\n",
              "</table>\n",
              "</div>\n",
              "      <button class=\"colab-df-convert\" onclick=\"convertToInteractive('df-620c2f4e-2069-4d73-b82a-e6464f5aca28')\"\n",
              "              title=\"Convert this dataframe to an interactive table.\"\n",
              "              style=\"display:none;\">\n",
              "        \n",
              "  <svg xmlns=\"http://www.w3.org/2000/svg\" height=\"24px\"viewBox=\"0 0 24 24\"\n",
              "       width=\"24px\">\n",
              "    <path d=\"M0 0h24v24H0V0z\" fill=\"none\"/>\n",
              "    <path d=\"M18.56 5.44l.94 2.06.94-2.06 2.06-.94-2.06-.94-.94-2.06-.94 2.06-2.06.94zm-11 1L8.5 8.5l.94-2.06 2.06-.94-2.06-.94L8.5 2.5l-.94 2.06-2.06.94zm10 10l.94 2.06.94-2.06 2.06-.94-2.06-.94-.94-2.06-.94 2.06-2.06.94z\"/><path d=\"M17.41 7.96l-1.37-1.37c-.4-.4-.92-.59-1.43-.59-.52 0-1.04.2-1.43.59L10.3 9.45l-7.72 7.72c-.78.78-.78 2.05 0 2.83L4 21.41c.39.39.9.59 1.41.59.51 0 1.02-.2 1.41-.59l7.78-7.78 2.81-2.81c.8-.78.8-2.07 0-2.86zM5.41 20L4 18.59l7.72-7.72 1.47 1.35L5.41 20z\"/>\n",
              "  </svg>\n",
              "      </button>\n",
              "      \n",
              "  <style>\n",
              "    .colab-df-container {\n",
              "      display:flex;\n",
              "      flex-wrap:wrap;\n",
              "      gap: 12px;\n",
              "    }\n",
              "\n",
              "    .colab-df-convert {\n",
              "      background-color: #E8F0FE;\n",
              "      border: none;\n",
              "      border-radius: 50%;\n",
              "      cursor: pointer;\n",
              "      display: none;\n",
              "      fill: #1967D2;\n",
              "      height: 32px;\n",
              "      padding: 0 0 0 0;\n",
              "      width: 32px;\n",
              "    }\n",
              "\n",
              "    .colab-df-convert:hover {\n",
              "      background-color: #E2EBFA;\n",
              "      box-shadow: 0px 1px 2px rgba(60, 64, 67, 0.3), 0px 1px 3px 1px rgba(60, 64, 67, 0.15);\n",
              "      fill: #174EA6;\n",
              "    }\n",
              "\n",
              "    [theme=dark] .colab-df-convert {\n",
              "      background-color: #3B4455;\n",
              "      fill: #D2E3FC;\n",
              "    }\n",
              "\n",
              "    [theme=dark] .colab-df-convert:hover {\n",
              "      background-color: #434B5C;\n",
              "      box-shadow: 0px 1px 3px 1px rgba(0, 0, 0, 0.15);\n",
              "      filter: drop-shadow(0px 1px 2px rgba(0, 0, 0, 0.3));\n",
              "      fill: #FFFFFF;\n",
              "    }\n",
              "  </style>\n",
              "\n",
              "      <script>\n",
              "        const buttonEl =\n",
              "          document.querySelector('#df-620c2f4e-2069-4d73-b82a-e6464f5aca28 button.colab-df-convert');\n",
              "        buttonEl.style.display =\n",
              "          google.colab.kernel.accessAllowed ? 'block' : 'none';\n",
              "\n",
              "        async function convertToInteractive(key) {\n",
              "          const element = document.querySelector('#df-620c2f4e-2069-4d73-b82a-e6464f5aca28');\n",
              "          const dataTable =\n",
              "            await google.colab.kernel.invokeFunction('convertToInteractive',\n",
              "                                                     [key], {});\n",
              "          if (!dataTable) return;\n",
              "\n",
              "          const docLinkHtml = 'Like what you see? Visit the ' +\n",
              "            '<a target=\"_blank\" href=https://colab.research.google.com/notebooks/data_table.ipynb>data table notebook</a>'\n",
              "            + ' to learn more about interactive tables.';\n",
              "          element.innerHTML = '';\n",
              "          dataTable['output_type'] = 'display_data';\n",
              "          await google.colab.output.renderOutput(dataTable, element);\n",
              "          const docLink = document.createElement('div');\n",
              "          docLink.innerHTML = docLinkHtml;\n",
              "          element.appendChild(docLink);\n",
              "        }\n",
              "      </script>\n",
              "    </div>\n",
              "  </div>\n",
              "  "
            ]
          },
          "metadata": {},
          "execution_count": 37
        }
      ]
    },
    {
      "cell_type": "markdown",
      "source": [
        "**No Autocorrelation of the Error Terms**"
      ],
      "metadata": {
        "id": "00vrna08nAWB"
      }
    },
    {
      "cell_type": "code",
      "source": [
        "def autocorrelation_assumption(model, features, label):\n",
        "    \"\"\"\n",
        "    Autocorrelation: Assumes that there is no autocorrelation in the residuals. If there is\n",
        "                     autocorrelation, then there is a pattern that is not explained due to\n",
        "                     the current value being dependent on the previous value.\n",
        "                     This may be resolved by adding a lag variable of either the dependent\n",
        "                     variable or some of the predictors.\n",
        "    \"\"\"\n",
        "    from statsmodels.stats.stattools import durbin_watson\n",
        "    print('Assumption: No Autocorrelation', '\\n')\n",
        "    \n",
        "    # Calculating residuals for the Durbin Watson-tests\n",
        "    df_results = calculate_residuals(model, features, label)\n",
        "\n",
        "    print('\\nPerforming Durbin-Watson Test')\n",
        "    print('Values of 1.5 < d < 2.5 generally show that there is no autocorrelation in the data')\n",
        "    print('0 to 2< is positive autocorrelation')\n",
        "    print('>2 to 4 is negative autocorrelation')\n",
        "    print('-------------------------------------')\n",
        "    durbinWatson = durbin_watson(df_results['Residuals'])\n",
        "    print('Durbin-Watson:', durbinWatson)\n",
        "    if durbinWatson < 1.5:\n",
        "        print('Signs of positive autocorrelation', '\\n')\n",
        "        print('Assumption not satisfied')\n",
        "    elif durbinWatson > 2.5:\n",
        "        print('Signs of negative autocorrelation', '\\n')\n",
        "        print('Assumption not satisfied')\n",
        "    else:\n",
        "        print('Little to no autocorrelation', '\\n')\n",
        "        print('Assumption satisfied')"
      ],
      "metadata": {
        "id": "GZOelDGxnB89"
      },
      "execution_count": null,
      "outputs": []
    },
    {
      "cell_type": "code",
      "source": [
        "autocorrelation_assumption(lin_reg_dropvar, X_const_dropvar, y)"
      ],
      "metadata": {
        "colab": {
          "base_uri": "https://localhost:8080/"
        },
        "id": "deJ_0Ym0nUmS",
        "outputId": "2f379da6-60a7-46d8-f7ed-c5239cdec0eb"
      },
      "execution_count": null,
      "outputs": [
        {
          "output_type": "stream",
          "name": "stdout",
          "text": [
            "Assumption: No Autocorrelation \n",
            "\n",
            "\n",
            "Performing Durbin-Watson Test\n",
            "Values of 1.5 < d < 2.5 generally show that there is no autocorrelation in the data\n",
            "0 to 2< is positive autocorrelation\n",
            ">2 to 4 is negative autocorrelation\n",
            "-------------------------------------\n",
            "Durbin-Watson: 2.0807806010045318\n",
            "Little to no autocorrelation \n",
            "\n",
            "Assumption satisfied\n"
          ]
        }
      ]
    },
    {
      "cell_type": "markdown",
      "source": [
        "**Homoscedasticity**"
      ],
      "metadata": {
        "id": "LXa_NEdFnwpa"
      }
    },
    {
      "cell_type": "code",
      "source": [
        "def homoscedasticity_assumption(model, features, label):\n",
        "    \"\"\"\n",
        "    Homoscedasticity: Assumes that the errors exhibit constant variance\n",
        "    \"\"\"\n",
        "    print('Assumption: Homoscedasticity of Error Terms', '\\n')\n",
        "    \n",
        "    print('Residuals should have relative constant variance')\n",
        "        \n",
        "    # Calculating residuals for the plot\n",
        "    df_results = calculate_residuals(model, features, label)\n",
        "\n",
        "    # Plotting the residuals\n",
        "    plt.subplots(figsize=(12, 6))\n",
        "    ax = plt.subplot(111)  # To remove spines\n",
        "    plt.scatter(x=df_results.index, y=df_results.Residuals, alpha=0.5)\n",
        "    plt.plot(np.repeat(0, df_results.index.max()), color='darkorange', linestyle='--')\n",
        "    ax.spines['right'].set_visible(False)  # Removing the right spine\n",
        "    ax.spines['top'].set_visible(False)  # Removing the top spine\n",
        "    plt.title('Residuals')\n",
        "    plt.show()  "
      ],
      "metadata": {
        "id": "y2NhlUksn5ov"
      },
      "execution_count": null,
      "outputs": []
    },
    {
      "cell_type": "code",
      "source": [
        "homoscedasticity_assumption(lin_reg_dropvar, X_const_dropvar, y)"
      ],
      "metadata": {
        "colab": {
          "base_uri": "https://localhost:8080/",
          "height": 441
        },
        "id": "sSfDml4HoQRs",
        "outputId": "f49cb998-c0f3-4e4e-cca8-5ac434a414ba"
      },
      "execution_count": null,
      "outputs": [
        {
          "output_type": "stream",
          "name": "stdout",
          "text": [
            "Assumption: Homoscedasticity of Error Terms \n",
            "\n",
            "Residuals should have relative constant variance\n"
          ]
        },
        {
          "output_type": "display_data",
          "data": {
            "text/plain": [
              "<Figure size 864x432 with 1 Axes>"
            ],
            "image/png": "[encoded data removed]"
          },
          "metadata": {
            "needs_background": "light"
          }
        }
      ]
    },
    {
      "cell_type": "markdown",
      "source": [
        "**Train Test Split**"
      ],
      "metadata": {
        "id": "L7MHyF7-Q2XS"
      }
    },
    {
      "cell_type": "code",
      "source": [
        "from sklearn.model_selection import train_test_split\n",
        "X_train, X_test, y_train, y_test = train_test_split(X_const_dropvar, y, test_size=0.4)"
      ],
      "metadata": {
        "id": "E9BKBdwrQ5Mn"
      },
      "execution_count": 34,
      "outputs": []
    },
    {
      "cell_type": "code",
      "source": [
        "len(X_train)"
      ],
      "metadata": {
        "colab": {
          "base_uri": "https://localhost:8080/"
        },
        "id": "EXKmwfD5RQ6z",
        "outputId": "b97c1f02-daa1-4c1b-eac6-2b4a89d24331"
      },
      "execution_count": 21,
      "outputs": [
        {
          "output_type": "execute_result",
          "data": {
            "text/plain": [
              "120"
            ]
          },
          "metadata": {},
          "execution_count": 21
        }
      ]
    },
    {
      "cell_type": "code",
      "source": [
        "len(X_test)"
      ],
      "metadata": {
        "colab": {
          "base_uri": "https://localhost:8080/"
        },
        "id": "xLr9ap15RUmV",
        "outputId": "fb5a7f47-cbdb-408a-bf24-aa9cb6fa1eb2"
      },
      "execution_count": 22,
      "outputs": [
        {
          "output_type": "execute_result",
          "data": {
            "text/plain": [
              "80"
            ]
          },
          "metadata": {},
          "execution_count": 22
        }
      ]
    },
    {
      "cell_type": "code",
      "source": [
        "X_test.head()"
      ],
      "metadata": {
        "colab": {
          "base_uri": "https://localhost:8080/",
          "height": 204
        },
        "id": "pkpdoKujRGnR",
        "outputId": "cd278fc7-0f00-4460-bf99-0d7787d3ad28"
      },
      "execution_count": 35,
      "outputs": [
        {
          "output_type": "execute_result",
          "data": {
            "text/plain": [
              "     const  youtube  92.7FM\n",
              "21     1.0    237.4     5.1\n",
              "137    1.0    273.7    28.9\n",
              "89     1.0    109.8    47.8\n",
              "48     1.0    227.2    15.8\n",
              "16     1.0     67.8    36.6"
            ],
            "text/html": [
              "\n",
              "  <div id=\"df-315c0ab1-fe84-421b-b09a-85f4289b601d\">\n",
              "    <div class=\"colab-df-container\">\n",
              "      <div>\n",
              "<style scoped>\n",
              "    .dataframe tbody tr th:only-of-type {\n",
              "        vertical-align: middle;\n",
              "    }\n",
              "\n",
              "    .dataframe tbody tr th {\n",
              "        vertical-align: top;\n",
              "    }\n",
              "\n",
              "    .dataframe thead th {\n",
              "        text-align: right;\n",
              "    }\n",
              "</style>\n",
              "<table border=\"1\" class=\"dataframe\">\n",
              "  <thead>\n",
              "    <tr style=\"text-align: right;\">\n",
              "      <th></th>\n",
              "      <th>const</th>\n",
              "      <th>youtube</th>\n",
              "      <th>92.7FM</th>\n",
              "    </tr>\n",
              "  </thead>\n",
              "  <tbody>\n",
              "    <tr>\n",
              "      <th>21</th>\n",
              "      <td>1.0</td>\n",
              "      <td>237.4</td>\n",
              "      <td>5.1</td>\n",
              "    </tr>\n",
              "    <tr>\n",
              "      <th>137</th>\n",
              "      <td>1.0</td>\n",
              "      <td>273.7</td>\n",
              "      <td>28.9</td>\n",
              "    </tr>\n",
              "    <tr>\n",
              "      <th>89</th>\n",
              "      <td>1.0</td>\n",
              "      <td>109.8</td>\n",
              "      <td>47.8</td>\n",
              "    </tr>\n",
              "    <tr>\n",
              "      <th>48</th>\n",
              "      <td>1.0</td>\n",
              "      <td>227.2</td>\n",
              "      <td>15.8</td>\n",
              "    </tr>\n",
              "    <tr>\n",
              "      <th>16</th>\n",
              "      <td>1.0</td>\n",
              "      <td>67.8</td>\n",
              "      <td>36.6</td>\n",
              "    </tr>\n",
              "  </tbody>\n",
              "</table>\n",
              "</div>\n",
              "      <button class=\"colab-df-convert\" onclick=\"convertToInteractive('df-315c0ab1-fe84-421b-b09a-85f4289b601d')\"\n",
              "              title=\"Convert this dataframe to an interactive table.\"\n",
              "              style=\"display:none;\">\n",
              "        \n",
              "  <svg xmlns=\"http://www.w3.org/2000/svg\" height=\"24px\"viewBox=\"0 0 24 24\"\n",
              "       width=\"24px\">\n",
              "    <path d=\"M0 0h24v24H0V0z\" fill=\"none\"/>\n",
              "    <path d=\"M18.56 5.44l.94 2.06.94-2.06 2.06-.94-2.06-.94-.94-2.06-.94 2.06-2.06.94zm-11 1L8.5 8.5l.94-2.06 2.06-.94-2.06-.94L8.5 2.5l-.94 2.06-2.06.94zm10 10l.94 2.06.94-2.06 2.06-.94-2.06-.94-.94-2.06-.94 2.06-2.06.94z\"/><path d=\"M17.41 7.96l-1.37-1.37c-.4-.4-.92-.59-1.43-.59-.52 0-1.04.2-1.43.59L10.3 9.45l-7.72 7.72c-.78.78-.78 2.05 0 2.83L4 21.41c.39.39.9.59 1.41.59.51 0 1.02-.2 1.41-.59l7.78-7.78 2.81-2.81c.8-.78.8-2.07 0-2.86zM5.41 20L4 18.59l7.72-7.72 1.47 1.35L5.41 20z\"/>\n",
              "  </svg>\n",
              "      </button>\n",
              "      \n",
              "  <style>\n",
              "    .colab-df-container {\n",
              "      display:flex;\n",
              "      flex-wrap:wrap;\n",
              "      gap: 12px;\n",
              "    }\n",
              "\n",
              "    .colab-df-convert {\n",
              "      background-color: #E8F0FE;\n",
              "      border: none;\n",
              "      border-radius: 50%;\n",
              "      cursor: pointer;\n",
              "      display: none;\n",
              "      fill: #1967D2;\n",
              "      height: 32px;\n",
              "      padding: 0 0 0 0;\n",
              "      width: 32px;\n",
              "    }\n",
              "\n",
              "    .colab-df-convert:hover {\n",
              "      background-color: #E2EBFA;\n",
              "      box-shadow: 0px 1px 2px rgba(60, 64, 67, 0.3), 0px 1px 3px 1px rgba(60, 64, 67, 0.15);\n",
              "      fill: #174EA6;\n",
              "    }\n",
              "\n",
              "    [theme=dark] .colab-df-convert {\n",
              "      background-color: #3B4455;\n",
              "      fill: #D2E3FC;\n",
              "    }\n",
              "\n",
              "    [theme=dark] .colab-df-convert:hover {\n",
              "      background-color: #434B5C;\n",
              "      box-shadow: 0px 1px 3px 1px rgba(0, 0, 0, 0.15);\n",
              "      filter: drop-shadow(0px 1px 2px rgba(0, 0, 0, 0.3));\n",
              "      fill: #FFFFFF;\n",
              "    }\n",
              "  </style>\n",
              "\n",
              "      <script>\n",
              "        const buttonEl =\n",
              "          document.querySelector('#df-315c0ab1-fe84-421b-b09a-85f4289b601d button.colab-df-convert');\n",
              "        buttonEl.style.display =\n",
              "          google.colab.kernel.accessAllowed ? 'block' : 'none';\n",
              "\n",
              "        async function convertToInteractive(key) {\n",
              "          const element = document.querySelector('#df-315c0ab1-fe84-421b-b09a-85f4289b601d');\n",
              "          const dataTable =\n",
              "            await google.colab.kernel.invokeFunction('convertToInteractive',\n",
              "                                                     [key], {});\n",
              "          if (!dataTable) return;\n",
              "\n",
              "          const docLinkHtml = 'Like what you see? Visit the ' +\n",
              "            '<a target=\"_blank\" href=https://colab.research.google.com/notebooks/data_table.ipynb>data table notebook</a>'\n",
              "            + ' to learn more about interactive tables.';\n",
              "          element.innerHTML = '';\n",
              "          dataTable['output_type'] = 'display_data';\n",
              "          await google.colab.output.renderOutput(dataTable, element);\n",
              "          const docLink = document.createElement('div');\n",
              "          docLink.innerHTML = docLinkHtml;\n",
              "          element.appendChild(docLink);\n",
              "        }\n",
              "      </script>\n",
              "    </div>\n",
              "  </div>\n",
              "  "
            ]
          },
          "metadata": {},
          "execution_count": 35
        }
      ]
    },
    {
      "cell_type": "markdown",
      "source": [
        "Create test dataframe from X_test and y_test"
      ],
      "metadata": {
        "id": "T7bxpUxvAr8w"
      }
    },
    {
      "cell_type": "code",
      "source": [
        "df_test = X_test.copy()\n",
        "df_test['sales'] = y_test\n",
        "df_test.head()"
      ],
      "metadata": {
        "colab": {
          "base_uri": "https://localhost:8080/",
          "height": 204
        },
        "id": "m_NT9TU7AbZe",
        "outputId": "655a3dee-15d7-4b68-e94a-aa4df0f1dade"
      },
      "execution_count": 36,
      "outputs": [
        {
          "output_type": "execute_result",
          "data": {
            "text/plain": [
              "     const  youtube  92.7FM  sales\n",
              "21     1.0    237.4     5.1   12.5\n",
              "137    1.0    273.7    28.9   20.8\n",
              "89     1.0    109.8    47.8   16.7\n",
              "48     1.0    227.2    15.8   14.8\n",
              "16     1.0     67.8    36.6   12.5"
            ],
            "text/html": [
              "\n",
              "  <div id=\"df-30170ac3-c219-4c01-8a53-c6c9df3088dd\">\n",
              "    <div class=\"colab-df-container\">\n",
              "      <div>\n",
              "<style scoped>\n",
              "    .dataframe tbody tr th:only-of-type {\n",
              "        vertical-align: middle;\n",
              "    }\n",
              "\n",
              "    .dataframe tbody tr th {\n",
              "        vertical-align: top;\n",
              "    }\n",
              "\n",
              "    .dataframe thead th {\n",
              "        text-align: right;\n",
              "    }\n",
              "</style>\n",
              "<table border=\"1\" class=\"dataframe\">\n",
              "  <thead>\n",
              "    <tr style=\"text-align: right;\">\n",
              "      <th></th>\n",
              "      <th>const</th>\n",
              "      <th>youtube</th>\n",
              "      <th>92.7FM</th>\n",
              "      <th>sales</th>\n",
              "    </tr>\n",
              "  </thead>\n",
              "  <tbody>\n",
              "    <tr>\n",
              "      <th>21</th>\n",
              "      <td>1.0</td>\n",
              "      <td>237.4</td>\n",
              "      <td>5.1</td>\n",
              "      <td>12.5</td>\n",
              "    </tr>\n",
              "    <tr>\n",
              "      <th>137</th>\n",
              "      <td>1.0</td>\n",
              "      <td>273.7</td>\n",
              "      <td>28.9</td>\n",
              "      <td>20.8</td>\n",
              "    </tr>\n",
              "    <tr>\n",
              "      <th>89</th>\n",
              "      <td>1.0</td>\n",
              "      <td>109.8</td>\n",
              "      <td>47.8</td>\n",
              "      <td>16.7</td>\n",
              "    </tr>\n",
              "    <tr>\n",
              "      <th>48</th>\n",
              "      <td>1.0</td>\n",
              "      <td>227.2</td>\n",
              "      <td>15.8</td>\n",
              "      <td>14.8</td>\n",
              "    </tr>\n",
              "    <tr>\n",
              "      <th>16</th>\n",
              "      <td>1.0</td>\n",
              "      <td>67.8</td>\n",
              "      <td>36.6</td>\n",
              "      <td>12.5</td>\n",
              "    </tr>\n",
              "  </tbody>\n",
              "</table>\n",
              "</div>\n",
              "      <button class=\"colab-df-convert\" onclick=\"convertToInteractive('df-30170ac3-c219-4c01-8a53-c6c9df3088dd')\"\n",
              "              title=\"Convert this dataframe to an interactive table.\"\n",
              "              style=\"display:none;\">\n",
              "        \n",
              "  <svg xmlns=\"http://www.w3.org/2000/svg\" height=\"24px\"viewBox=\"0 0 24 24\"\n",
              "       width=\"24px\">\n",
              "    <path d=\"M0 0h24v24H0V0z\" fill=\"none\"/>\n",
              "    <path d=\"M18.56 5.44l.94 2.06.94-2.06 2.06-.94-2.06-.94-.94-2.06-.94 2.06-2.06.94zm-11 1L8.5 8.5l.94-2.06 2.06-.94-2.06-.94L8.5 2.5l-.94 2.06-2.06.94zm10 10l.94 2.06.94-2.06 2.06-.94-2.06-.94-.94-2.06-.94 2.06-2.06.94z\"/><path d=\"M17.41 7.96l-1.37-1.37c-.4-.4-.92-.59-1.43-.59-.52 0-1.04.2-1.43.59L10.3 9.45l-7.72 7.72c-.78.78-.78 2.05 0 2.83L4 21.41c.39.39.9.59 1.41.59.51 0 1.02-.2 1.41-.59l7.78-7.78 2.81-2.81c.8-.78.8-2.07 0-2.86zM5.41 20L4 18.59l7.72-7.72 1.47 1.35L5.41 20z\"/>\n",
              "  </svg>\n",
              "      </button>\n",
              "      \n",
              "  <style>\n",
              "    .colab-df-container {\n",
              "      display:flex;\n",
              "      flex-wrap:wrap;\n",
              "      gap: 12px;\n",
              "    }\n",
              "\n",
              "    .colab-df-convert {\n",
              "      background-color: #E8F0FE;\n",
              "      border: none;\n",
              "      border-radius: 50%;\n",
              "      cursor: pointer;\n",
              "      display: none;\n",
              "      fill: #1967D2;\n",
              "      height: 32px;\n",
              "      padding: 0 0 0 0;\n",
              "      width: 32px;\n",
              "    }\n",
              "\n",
              "    .colab-df-convert:hover {\n",
              "      background-color: #E2EBFA;\n",
              "      box-shadow: 0px 1px 2px rgba(60, 64, 67, 0.3), 0px 1px 3px 1px rgba(60, 64, 67, 0.15);\n",
              "      fill: #174EA6;\n",
              "    }\n",
              "\n",
              "    [theme=dark] .colab-df-convert {\n",
              "      background-color: #3B4455;\n",
              "      fill: #D2E3FC;\n",
              "    }\n",
              "\n",
              "    [theme=dark] .colab-df-convert:hover {\n",
              "      background-color: #434B5C;\n",
              "      box-shadow: 0px 1px 3px 1px rgba(0, 0, 0, 0.15);\n",
              "      filter: drop-shadow(0px 1px 2px rgba(0, 0, 0, 0.3));\n",
              "      fill: #FFFFFF;\n",
              "    }\n",
              "  </style>\n",
              "\n",
              "      <script>\n",
              "        const buttonEl =\n",
              "          document.querySelector('#df-30170ac3-c219-4c01-8a53-c6c9df3088dd button.colab-df-convert');\n",
              "        buttonEl.style.display =\n",
              "          google.colab.kernel.accessAllowed ? 'block' : 'none';\n",
              "\n",
              "        async function convertToInteractive(key) {\n",
              "          const element = document.querySelector('#df-30170ac3-c219-4c01-8a53-c6c9df3088dd');\n",
              "          const dataTable =\n",
              "            await google.colab.kernel.invokeFunction('convertToInteractive',\n",
              "                                                     [key], {});\n",
              "          if (!dataTable) return;\n",
              "\n",
              "          const docLinkHtml = 'Like what you see? Visit the ' +\n",
              "            '<a target=\"_blank\" href=https://colab.research.google.com/notebooks/data_table.ipynb>data table notebook</a>'\n",
              "            + ' to learn more about interactive tables.';\n",
              "          element.innerHTML = '';\n",
              "          dataTable['output_type'] = 'display_data';\n",
              "          await google.colab.output.renderOutput(dataTable, element);\n",
              "          const docLink = document.createElement('div');\n",
              "          docLink.innerHTML = docLinkHtml;\n",
              "          element.appendChild(docLink);\n",
              "        }\n",
              "      </script>\n",
              "    </div>\n",
              "  </div>\n",
              "  "
            ]
          },
          "metadata": {},
          "execution_count": 36
        }
      ]
    },
    {
      "cell_type": "markdown",
      "source": [
        "Training the OLS Model on Train data"
      ],
      "metadata": {
        "id": "exNBn1iYeYgN"
      }
    },
    {
      "cell_type": "code",
      "source": [
        "from statsmodels.regression import linear_model\n",
        "X_train_const = sm.add_constant(X_train)\n",
        "sm_ols = linear_model.OLS(y_train, X_train_const) \n",
        "sm_model = sm_ols.fit()\n"
      ],
      "metadata": {
        "colab": {
          "base_uri": "https://localhost:8080/"
        },
        "id": "DuLw_bJNRqoN",
        "outputId": "759cab0f-550d-409b-e078-01e92b8fdb0c"
      },
      "execution_count": 52,
      "outputs": [
        {
          "output_type": "stream",
          "name": "stderr",
          "text": [
            "/usr/local/lib/python3.7/dist-packages/statsmodels/tsa/tsatools.py:142: FutureWarning: In a future version of pandas all arguments of concat except for the argument 'objs' will be keyword-only\n",
            "  x = pd.concat(x[::order], 1)\n"
          ]
        }
      ]
    },
    {
      "cell_type": "markdown",
      "source": [
        "Predicting on Test data"
      ],
      "metadata": {
        "id": "lY0U_WepefZV"
      }
    },
    {
      "cell_type": "code",
      "source": [
        "y_predicted = sm_model.predict(X_test)\n",
        "residuals_adv = y_test - y_predicted"
      ],
      "metadata": {
        "id": "q8Vy80LnZgyG"
      },
      "execution_count": 53,
      "outputs": []
    },
    {
      "cell_type": "markdown",
      "source": [
        "Residuals calculation and insertion in test dataframe"
      ],
      "metadata": {
        "id": "ADSAnnlueil4"
      }
    },
    {
      "cell_type": "code",
      "source": [
        "df_test['residuals'] = residuals_adv\n",
        "df_test['predicted_sales'] = y_predicted"
      ],
      "metadata": {
        "id": "kYb-hB47Z-hG"
      },
      "execution_count": 54,
      "outputs": []
    },
    {
      "cell_type": "code",
      "source": [
        "df_test.head()"
      ],
      "metadata": {
        "id": "dh-aF3ryaW9G",
        "outputId": "ad87ab27-2597-4aa5-cb9a-d9d86f3e8027",
        "colab": {
          "base_uri": "https://localhost:8080/",
          "height": 204
        }
      },
      "execution_count": 55,
      "outputs": [
        {
          "output_type": "execute_result",
          "data": {
            "text/plain": [
              "     const  youtube  92.7FM  sales  residuals  predicted_sales\n",
              "21     1.0    237.4     5.1   12.5  -2.025416        14.525416\n",
              "137    1.0    273.7    28.9   20.8  -0.076914        20.876914\n",
              "89     1.0    109.8    47.8   16.7  -0.557135        17.257135\n",
              "48     1.0    227.2    15.8   14.8  -1.388782        16.188782\n",
              "16     1.0     67.8    36.6   12.5  -0.648074        13.148074"
            ],
            "text/html": [
              "\n",
              "  <div id=\"df-de3ccae4-8995-4df2-a1e9-01b7f33aae2f\">\n",
              "    <div class=\"colab-df-container\">\n",
              "      <div>\n",
              "<style scoped>\n",
              "    .dataframe tbody tr th:only-of-type {\n",
              "        vertical-align: middle;\n",
              "    }\n",
              "\n",
              "    .dataframe tbody tr th {\n",
              "        vertical-align: top;\n",
              "    }\n",
              "\n",
              "    .dataframe thead th {\n",
              "        text-align: right;\n",
              "    }\n",
              "</style>\n",
              "<table border=\"1\" class=\"dataframe\">\n",
              "  <thead>\n",
              "    <tr style=\"text-align: right;\">\n",
              "      <th></th>\n",
              "      <th>const</th>\n",
              "      <th>youtube</th>\n",
              "      <th>92.7FM</th>\n",
              "      <th>sales</th>\n",
              "      <th>residuals</th>\n",
              "      <th>predicted_sales</th>\n",
              "    </tr>\n",
              "  </thead>\n",
              "  <tbody>\n",
              "    <tr>\n",
              "      <th>21</th>\n",
              "      <td>1.0</td>\n",
              "      <td>237.4</td>\n",
              "      <td>5.1</td>\n",
              "      <td>12.5</td>\n",
              "      <td>-2.025416</td>\n",
              "      <td>14.525416</td>\n",
              "    </tr>\n",
              "    <tr>\n",
              "      <th>137</th>\n",
              "      <td>1.0</td>\n",
              "      <td>273.7</td>\n",
              "      <td>28.9</td>\n",
              "      <td>20.8</td>\n",
              "      <td>-0.076914</td>\n",
              "      <td>20.876914</td>\n",
              "    </tr>\n",
              "    <tr>\n",
              "      <th>89</th>\n",
              "      <td>1.0</td>\n",
              "      <td>109.8</td>\n",
              "      <td>47.8</td>\n",
              "      <td>16.7</td>\n",
              "      <td>-0.557135</td>\n",
              "      <td>17.257135</td>\n",
              "    </tr>\n",
              "    <tr>\n",
              "      <th>48</th>\n",
              "      <td>1.0</td>\n",
              "      <td>227.2</td>\n",
              "      <td>15.8</td>\n",
              "      <td>14.8</td>\n",
              "      <td>-1.388782</td>\n",
              "      <td>16.188782</td>\n",
              "    </tr>\n",
              "    <tr>\n",
              "      <th>16</th>\n",
              "      <td>1.0</td>\n",
              "      <td>67.8</td>\n",
              "      <td>36.6</td>\n",
              "      <td>12.5</td>\n",
              "      <td>-0.648074</td>\n",
              "      <td>13.148074</td>\n",
              "    </tr>\n",
              "  </tbody>\n",
              "</table>\n",
              "</div>\n",
              "      <button class=\"colab-df-convert\" onclick=\"convertToInteractive('df-de3ccae4-8995-4df2-a1e9-01b7f33aae2f')\"\n",
              "              title=\"Convert this dataframe to an interactive table.\"\n",
              "              style=\"display:none;\">\n",
              "        \n",
              "  <svg xmlns=\"http://www.w3.org/2000/svg\" height=\"24px\"viewBox=\"0 0 24 24\"\n",
              "       width=\"24px\">\n",
              "    <path d=\"M0 0h24v24H0V0z\" fill=\"none\"/>\n",
              "    <path d=\"M18.56 5.44l.94 2.06.94-2.06 2.06-.94-2.06-.94-.94-2.06-.94 2.06-2.06.94zm-11 1L8.5 8.5l.94-2.06 2.06-.94-2.06-.94L8.5 2.5l-.94 2.06-2.06.94zm10 10l.94 2.06.94-2.06 2.06-.94-2.06-.94-.94-2.06-.94 2.06-2.06.94z\"/><path d=\"M17.41 7.96l-1.37-1.37c-.4-.4-.92-.59-1.43-.59-.52 0-1.04.2-1.43.59L10.3 9.45l-7.72 7.72c-.78.78-.78 2.05 0 2.83L4 21.41c.39.39.9.59 1.41.59.51 0 1.02-.2 1.41-.59l7.78-7.78 2.81-2.81c.8-.78.8-2.07 0-2.86zM5.41 20L4 18.59l7.72-7.72 1.47 1.35L5.41 20z\"/>\n",
              "  </svg>\n",
              "      </button>\n",
              "      \n",
              "  <style>\n",
              "    .colab-df-container {\n",
              "      display:flex;\n",
              "      flex-wrap:wrap;\n",
              "      gap: 12px;\n",
              "    }\n",
              "\n",
              "    .colab-df-convert {\n",
              "      background-color: #E8F0FE;\n",
              "      border: none;\n",
              "      border-radius: 50%;\n",
              "      cursor: pointer;\n",
              "      display: none;\n",
              "      fill: #1967D2;\n",
              "      height: 32px;\n",
              "      padding: 0 0 0 0;\n",
              "      width: 32px;\n",
              "    }\n",
              "\n",
              "    .colab-df-convert:hover {\n",
              "      background-color: #E2EBFA;\n",
              "      box-shadow: 0px 1px 2px rgba(60, 64, 67, 0.3), 0px 1px 3px 1px rgba(60, 64, 67, 0.15);\n",
              "      fill: #174EA6;\n",
              "    }\n",
              "\n",
              "    [theme=dark] .colab-df-convert {\n",
              "      background-color: #3B4455;\n",
              "      fill: #D2E3FC;\n",
              "    }\n",
              "\n",
              "    [theme=dark] .colab-df-convert:hover {\n",
              "      background-color: #434B5C;\n",
              "      box-shadow: 0px 1px 3px 1px rgba(0, 0, 0, 0.15);\n",
              "      filter: drop-shadow(0px 1px 2px rgba(0, 0, 0, 0.3));\n",
              "      fill: #FFFFFF;\n",
              "    }\n",
              "  </style>\n",
              "\n",
              "      <script>\n",
              "        const buttonEl =\n",
              "          document.querySelector('#df-de3ccae4-8995-4df2-a1e9-01b7f33aae2f button.colab-df-convert');\n",
              "        buttonEl.style.display =\n",
              "          google.colab.kernel.accessAllowed ? 'block' : 'none';\n",
              "\n",
              "        async function convertToInteractive(key) {\n",
              "          const element = document.querySelector('#df-de3ccae4-8995-4df2-a1e9-01b7f33aae2f');\n",
              "          const dataTable =\n",
              "            await google.colab.kernel.invokeFunction('convertToInteractive',\n",
              "                                                     [key], {});\n",
              "          if (!dataTable) return;\n",
              "\n",
              "          const docLinkHtml = 'Like what you see? Visit the ' +\n",
              "            '<a target=\"_blank\" href=https://colab.research.google.com/notebooks/data_table.ipynb>data table notebook</a>'\n",
              "            + ' to learn more about interactive tables.';\n",
              "          element.innerHTML = '';\n",
              "          dataTable['output_type'] = 'display_data';\n",
              "          await google.colab.output.renderOutput(dataTable, element);\n",
              "          const docLink = document.createElement('div');\n",
              "          docLink.innerHTML = docLinkHtml;\n",
              "          element.appendChild(docLink);\n",
              "        }\n",
              "      </script>\n",
              "    </div>\n",
              "  </div>\n",
              "  "
            ]
          },
          "metadata": {},
          "execution_count": 55
        }
      ]
    },
    {
      "cell_type": "markdown",
      "source": [
        "RMSE of Test data"
      ],
      "metadata": {
        "id": "-Eu3pCNzeu_0"
      }
    },
    {
      "cell_type": "code",
      "source": [
        "rmse_test = np.sqrt(mean_squared_error(y_test, y_predicted))\n",
        "rmse_test"
      ],
      "metadata": {
        "colab": {
          "base_uri": "https://localhost:8080/"
        },
        "id": "Hgs_hQ6QdPc9",
        "outputId": "f9a2bfba-f88b-41cf-8e28-2bfe7596cf35"
      },
      "execution_count": 56,
      "outputs": [
        {
          "output_type": "execute_result",
          "data": {
            "text/plain": [
              "1.8767894011892752"
            ]
          },
          "metadata": {},
          "execution_count": 56
        }
      ]
    },
    {
      "cell_type": "markdown",
      "source": [
        "**Checking errors on Train Data and compare with test data to understand overfitting and underfitting**"
      ],
      "metadata": {
        "id": "Yl8hB0fHfE3f"
      }
    },
    {
      "cell_type": "code",
      "source": [
        "df_train = X_train.copy()\n",
        "df_train['sales'] = y_train\n",
        "df_train.head()"
      ],
      "metadata": {
        "colab": {
          "base_uri": "https://localhost:8080/",
          "height": 204
        },
        "id": "pPW3C1pZfYIE",
        "outputId": "64e09889-4899-47ec-e5b9-115946027d1b"
      },
      "execution_count": 57,
      "outputs": [
        {
          "output_type": "execute_result",
          "data": {
            "text/plain": [
              "     const  youtube  92.7FM  sales\n",
              "12     1.0     23.8    35.1    9.2\n",
              "15     1.0    195.4    47.7   22.4\n",
              "3      1.0    151.5    41.3   18.5\n",
              "187    1.0    191.1    28.7   17.3\n",
              "153    1.0    171.3    39.7   19.0"
            ],
            "text/html": [
              "\n",
              "  <div id=\"df-ce2095e5-7790-4bcd-a6ff-7345f25ab3c4\">\n",
              "    <div class=\"colab-df-container\">\n",
              "      <div>\n",
              "<style scoped>\n",
              "    .dataframe tbody tr th:only-of-type {\n",
              "        vertical-align: middle;\n",
              "    }\n",
              "\n",
              "    .dataframe tbody tr th {\n",
              "        vertical-align: top;\n",
              "    }\n",
              "\n",
              "    .dataframe thead th {\n",
              "        text-align: right;\n",
              "    }\n",
              "</style>\n",
              "<table border=\"1\" class=\"dataframe\">\n",
              "  <thead>\n",
              "    <tr style=\"text-align: right;\">\n",
              "      <th></th>\n",
              "      <th>const</th>\n",
              "      <th>youtube</th>\n",
              "      <th>92.7FM</th>\n",
              "      <th>sales</th>\n",
              "    </tr>\n",
              "  </thead>\n",
              "  <tbody>\n",
              "    <tr>\n",
              "      <th>12</th>\n",
              "      <td>1.0</td>\n",
              "      <td>23.8</td>\n",
              "      <td>35.1</td>\n",
              "      <td>9.2</td>\n",
              "    </tr>\n",
              "    <tr>\n",
              "      <th>15</th>\n",
              "      <td>1.0</td>\n",
              "      <td>195.4</td>\n",
              "      <td>47.7</td>\n",
              "      <td>22.4</td>\n",
              "    </tr>\n",
              "    <tr>\n",
              "      <th>3</th>\n",
              "      <td>1.0</td>\n",
              "      <td>151.5</td>\n",
              "      <td>41.3</td>\n",
              "      <td>18.5</td>\n",
              "    </tr>\n",
              "    <tr>\n",
              "      <th>187</th>\n",
              "      <td>1.0</td>\n",
              "      <td>191.1</td>\n",
              "      <td>28.7</td>\n",
              "      <td>17.3</td>\n",
              "    </tr>\n",
              "    <tr>\n",
              "      <th>153</th>\n",
              "      <td>1.0</td>\n",
              "      <td>171.3</td>\n",
              "      <td>39.7</td>\n",
              "      <td>19.0</td>\n",
              "    </tr>\n",
              "  </tbody>\n",
              "</table>\n",
              "</div>\n",
              "      <button class=\"colab-df-convert\" onclick=\"convertToInteractive('df-ce2095e5-7790-4bcd-a6ff-7345f25ab3c4')\"\n",
              "              title=\"Convert this dataframe to an interactive table.\"\n",
              "              style=\"display:none;\">\n",
              "        \n",
              "  <svg xmlns=\"http://www.w3.org/2000/svg\" height=\"24px\"viewBox=\"0 0 24 24\"\n",
              "       width=\"24px\">\n",
              "    <path d=\"M0 0h24v24H0V0z\" fill=\"none\"/>\n",
              "    <path d=\"M18.56 5.44l.94 2.06.94-2.06 2.06-.94-2.06-.94-.94-2.06-.94 2.06-2.06.94zm-11 1L8.5 8.5l.94-2.06 2.06-.94-2.06-.94L8.5 2.5l-.94 2.06-2.06.94zm10 10l.94 2.06.94-2.06 2.06-.94-2.06-.94-.94-2.06-.94 2.06-2.06.94z\"/><path d=\"M17.41 7.96l-1.37-1.37c-.4-.4-.92-.59-1.43-.59-.52 0-1.04.2-1.43.59L10.3 9.45l-7.72 7.72c-.78.78-.78 2.05 0 2.83L4 21.41c.39.39.9.59 1.41.59.51 0 1.02-.2 1.41-.59l7.78-7.78 2.81-2.81c.8-.78.8-2.07 0-2.86zM5.41 20L4 18.59l7.72-7.72 1.47 1.35L5.41 20z\"/>\n",
              "  </svg>\n",
              "      </button>\n",
              "      \n",
              "  <style>\n",
              "    .colab-df-container {\n",
              "      display:flex;\n",
              "      flex-wrap:wrap;\n",
              "      gap: 12px;\n",
              "    }\n",
              "\n",
              "    .colab-df-convert {\n",
              "      background-color: #E8F0FE;\n",
              "      border: none;\n",
              "      border-radius: 50%;\n",
              "      cursor: pointer;\n",
              "      display: none;\n",
              "      fill: #1967D2;\n",
              "      height: 32px;\n",
              "      padding: 0 0 0 0;\n",
              "      width: 32px;\n",
              "    }\n",
              "\n",
              "    .colab-df-convert:hover {\n",
              "      background-color: #E2EBFA;\n",
              "      box-shadow: 0px 1px 2px rgba(60, 64, 67, 0.3), 0px 1px 3px 1px rgba(60, 64, 67, 0.15);\n",
              "      fill: #174EA6;\n",
              "    }\n",
              "\n",
              "    [theme=dark] .colab-df-convert {\n",
              "      background-color: #3B4455;\n",
              "      fill: #D2E3FC;\n",
              "    }\n",
              "\n",
              "    [theme=dark] .colab-df-convert:hover {\n",
              "      background-color: #434B5C;\n",
              "      box-shadow: 0px 1px 3px 1px rgba(0, 0, 0, 0.15);\n",
              "      filter: drop-shadow(0px 1px 2px rgba(0, 0, 0, 0.3));\n",
              "      fill: #FFFFFF;\n",
              "    }\n",
              "  </style>\n",
              "\n",
              "      <script>\n",
              "        const buttonEl =\n",
              "          document.querySelector('#df-ce2095e5-7790-4bcd-a6ff-7345f25ab3c4 button.colab-df-convert');\n",
              "        buttonEl.style.display =\n",
              "          google.colab.kernel.accessAllowed ? 'block' : 'none';\n",
              "\n",
              "        async function convertToInteractive(key) {\n",
              "          const element = document.querySelector('#df-ce2095e5-7790-4bcd-a6ff-7345f25ab3c4');\n",
              "          const dataTable =\n",
              "            await google.colab.kernel.invokeFunction('convertToInteractive',\n",
              "                                                     [key], {});\n",
              "          if (!dataTable) return;\n",
              "\n",
              "          const docLinkHtml = 'Like what you see? Visit the ' +\n",
              "            '<a target=\"_blank\" href=https://colab.research.google.com/notebooks/data_table.ipynb>data table notebook</a>'\n",
              "            + ' to learn more about interactive tables.';\n",
              "          element.innerHTML = '';\n",
              "          dataTable['output_type'] = 'display_data';\n",
              "          await google.colab.output.renderOutput(dataTable, element);\n",
              "          const docLink = document.createElement('div');\n",
              "          docLink.innerHTML = docLinkHtml;\n",
              "          element.appendChild(docLink);\n",
              "        }\n",
              "      </script>\n",
              "    </div>\n",
              "  </div>\n",
              "  "
            ]
          },
          "metadata": {},
          "execution_count": 57
        }
      ]
    },
    {
      "cell_type": "code",
      "source": [
        "y_pred_train = sm_model.predict(X_train)\n",
        "residuals_train = y_train - y_pred_train"
      ],
      "metadata": {
        "id": "C4noLyKfflQe"
      },
      "execution_count": 58,
      "outputs": []
    },
    {
      "cell_type": "code",
      "source": [
        "df_train['residuals'] = residuals_train\n",
        "df_train['predicted_sales'] = y_pred_train"
      ],
      "metadata": {
        "id": "z8IIQn4JfzOr"
      },
      "execution_count": 59,
      "outputs": []
    },
    {
      "cell_type": "code",
      "source": [
        "df_train.head()"
      ],
      "metadata": {
        "colab": {
          "base_uri": "https://localhost:8080/",
          "height": 204
        },
        "id": "1qwJfgrEgAmU",
        "outputId": "34ebeafd-83c9-4e02-b3b6-fc6aebdc902d"
      },
      "execution_count": 60,
      "outputs": [
        {
          "output_type": "execute_result",
          "data": {
            "text/plain": [
              "     const  youtube  92.7FM  sales  residuals  predicted_sales\n",
              "12     1.0     23.8    35.1    9.2  -1.672685        10.872685\n",
              "15     1.0    195.4    47.7   22.4   1.314726        21.085274\n",
              "3      1.0    151.5    41.3   18.5   0.657324        17.842676\n",
              "187    1.0    191.1    28.7   17.3   0.175858        17.124142\n",
              "153    1.0    171.3    39.7   19.0   0.584548        18.415452"
            ],
            "text/html": [
              "\n",
              "  <div id=\"df-db9c0a76-d7f7-48a7-a7dc-e3a10b25a980\">\n",
              "    <div class=\"colab-df-container\">\n",
              "      <div>\n",
              "<style scoped>\n",
              "    .dataframe tbody tr th:only-of-type {\n",
              "        vertical-align: middle;\n",
              "    }\n",
              "\n",
              "    .dataframe tbody tr th {\n",
              "        vertical-align: top;\n",
              "    }\n",
              "\n",
              "    .dataframe thead th {\n",
              "        text-align: right;\n",
              "    }\n",
              "</style>\n",
              "<table border=\"1\" class=\"dataframe\">\n",
              "  <thead>\n",
              "    <tr style=\"text-align: right;\">\n",
              "      <th></th>\n",
              "      <th>const</th>\n",
              "      <th>youtube</th>\n",
              "      <th>92.7FM</th>\n",
              "      <th>sales</th>\n",
              "      <th>residuals</th>\n",
              "      <th>predicted_sales</th>\n",
              "    </tr>\n",
              "  </thead>\n",
              "  <tbody>\n",
              "    <tr>\n",
              "      <th>12</th>\n",
              "      <td>1.0</td>\n",
              "      <td>23.8</td>\n",
              "      <td>35.1</td>\n",
              "      <td>9.2</td>\n",
              "      <td>-1.672685</td>\n",
              "      <td>10.872685</td>\n",
              "    </tr>\n",
              "    <tr>\n",
              "      <th>15</th>\n",
              "      <td>1.0</td>\n",
              "      <td>195.4</td>\n",
              "      <td>47.7</td>\n",
              "      <td>22.4</td>\n",
              "      <td>1.314726</td>\n",
              "      <td>21.085274</td>\n",
              "    </tr>\n",
              "    <tr>\n",
              "      <th>3</th>\n",
              "      <td>1.0</td>\n",
              "      <td>151.5</td>\n",
              "      <td>41.3</td>\n",
              "      <td>18.5</td>\n",
              "      <td>0.657324</td>\n",
              "      <td>17.842676</td>\n",
              "    </tr>\n",
              "    <tr>\n",
              "      <th>187</th>\n",
              "      <td>1.0</td>\n",
              "      <td>191.1</td>\n",
              "      <td>28.7</td>\n",
              "      <td>17.3</td>\n",
              "      <td>0.175858</td>\n",
              "      <td>17.124142</td>\n",
              "    </tr>\n",
              "    <tr>\n",
              "      <th>153</th>\n",
              "      <td>1.0</td>\n",
              "      <td>171.3</td>\n",
              "      <td>39.7</td>\n",
              "      <td>19.0</td>\n",
              "      <td>0.584548</td>\n",
              "      <td>18.415452</td>\n",
              "    </tr>\n",
              "  </tbody>\n",
              "</table>\n",
              "</div>\n",
              "      <button class=\"colab-df-convert\" onclick=\"convertToInteractive('df-db9c0a76-d7f7-48a7-a7dc-e3a10b25a980')\"\n",
              "              title=\"Convert this dataframe to an interactive table.\"\n",
              "              style=\"display:none;\">\n",
              "        \n",
              "  <svg xmlns=\"http://www.w3.org/2000/svg\" height=\"24px\"viewBox=\"0 0 24 24\"\n",
              "       width=\"24px\">\n",
              "    <path d=\"M0 0h24v24H0V0z\" fill=\"none\"/>\n",
              "    <path d=\"M18.56 5.44l.94 2.06.94-2.06 2.06-.94-2.06-.94-.94-2.06-.94 2.06-2.06.94zm-11 1L8.5 8.5l.94-2.06 2.06-.94-2.06-.94L8.5 2.5l-.94 2.06-2.06.94zm10 10l.94 2.06.94-2.06 2.06-.94-2.06-.94-.94-2.06-.94 2.06-2.06.94z\"/><path d=\"M17.41 7.96l-1.37-1.37c-.4-.4-.92-.59-1.43-.59-.52 0-1.04.2-1.43.59L10.3 9.45l-7.72 7.72c-.78.78-.78 2.05 0 2.83L4 21.41c.39.39.9.59 1.41.59.51 0 1.02-.2 1.41-.59l7.78-7.78 2.81-2.81c.8-.78.8-2.07 0-2.86zM5.41 20L4 18.59l7.72-7.72 1.47 1.35L5.41 20z\"/>\n",
              "  </svg>\n",
              "      </button>\n",
              "      \n",
              "  <style>\n",
              "    .colab-df-container {\n",
              "      display:flex;\n",
              "      flex-wrap:wrap;\n",
              "      gap: 12px;\n",
              "    }\n",
              "\n",
              "    .colab-df-convert {\n",
              "      background-color: #E8F0FE;\n",
              "      border: none;\n",
              "      border-radius: 50%;\n",
              "      cursor: pointer;\n",
              "      display: none;\n",
              "      fill: #1967D2;\n",
              "      height: 32px;\n",
              "      padding: 0 0 0 0;\n",
              "      width: 32px;\n",
              "    }\n",
              "\n",
              "    .colab-df-convert:hover {\n",
              "      background-color: #E2EBFA;\n",
              "      box-shadow: 0px 1px 2px rgba(60, 64, 67, 0.3), 0px 1px 3px 1px rgba(60, 64, 67, 0.15);\n",
              "      fill: #174EA6;\n",
              "    }\n",
              "\n",
              "    [theme=dark] .colab-df-convert {\n",
              "      background-color: #3B4455;\n",
              "      fill: #D2E3FC;\n",
              "    }\n",
              "\n",
              "    [theme=dark] .colab-df-convert:hover {\n",
              "      background-color: #434B5C;\n",
              "      box-shadow: 0px 1px 3px 1px rgba(0, 0, 0, 0.15);\n",
              "      filter: drop-shadow(0px 1px 2px rgba(0, 0, 0, 0.3));\n",
              "      fill: #FFFFFF;\n",
              "    }\n",
              "  </style>\n",
              "\n",
              "      <script>\n",
              "        const buttonEl =\n",
              "          document.querySelector('#df-db9c0a76-d7f7-48a7-a7dc-e3a10b25a980 button.colab-df-convert');\n",
              "        buttonEl.style.display =\n",
              "          google.colab.kernel.accessAllowed ? 'block' : 'none';\n",
              "\n",
              "        async function convertToInteractive(key) {\n",
              "          const element = document.querySelector('#df-db9c0a76-d7f7-48a7-a7dc-e3a10b25a980');\n",
              "          const dataTable =\n",
              "            await google.colab.kernel.invokeFunction('convertToInteractive',\n",
              "                                                     [key], {});\n",
              "          if (!dataTable) return;\n",
              "\n",
              "          const docLinkHtml = 'Like what you see? Visit the ' +\n",
              "            '<a target=\"_blank\" href=https://colab.research.google.com/notebooks/data_table.ipynb>data table notebook</a>'\n",
              "            + ' to learn more about interactive tables.';\n",
              "          element.innerHTML = '';\n",
              "          dataTable['output_type'] = 'display_data';\n",
              "          await google.colab.output.renderOutput(dataTable, element);\n",
              "          const docLink = document.createElement('div');\n",
              "          docLink.innerHTML = docLinkHtml;\n",
              "          element.appendChild(docLink);\n",
              "        }\n",
              "      </script>\n",
              "    </div>\n",
              "  </div>\n",
              "  "
            ]
          },
          "metadata": {},
          "execution_count": 60
        }
      ]
    },
    {
      "cell_type": "code",
      "source": [
        "rmse_train = np.sqrt(mean_squared_error(y_train, y_pred_train))\n",
        "rmse_train"
      ],
      "metadata": {
        "colab": {
          "base_uri": "https://localhost:8080/"
        },
        "id": "vR5LI_UJgKxQ",
        "outputId": "f640f012-2f81-4094-edb8-c760bfe93573"
      },
      "execution_count": 61,
      "outputs": [
        {
          "output_type": "execute_result",
          "data": {
            "text/plain": [
              "1.529916948358939"
            ]
          },
          "metadata": {},
          "execution_count": 61
        }
      ]
    },
    {
      "cell_type": "markdown",
      "source": [
        "Let us also plot histograms of error of train and test data"
      ],
      "metadata": {
        "id": "VjoQvQPxjWTl"
      }
    },
    {
      "cell_type": "markdown",
      "source": [
        "Histogram of Test errors"
      ],
      "metadata": {
        "id": "D7GICoJ2kUyt"
      }
    },
    {
      "cell_type": "code",
      "source": [
        "counts, bins = np.histogram(residuals_adv)\n",
        "plt.hist(bins[:-1], bins, weights=counts)"
      ],
      "metadata": {
        "colab": {
          "base_uri": "https://localhost:8080/",
          "height": 350
        },
        "id": "GedfLZgijdf-",
        "outputId": "b85b978a-69ec-40a0-c1f8-13986bd9a9a9"
      },
      "execution_count": 62,
      "outputs": [
        {
          "output_type": "execute_result",
          "data": {
            "text/plain": [
              "(array([ 1.,  0.,  1.,  0.,  1.,  9., 12., 25., 22.,  9.]),\n",
              " array([-9.12665418, -7.91751641, -6.70837864, -5.49924088, -4.29010311,\n",
              "        -3.08096534, -1.87182757, -0.6626898 ,  0.54644797,  1.75558573,\n",
              "         2.9647235 ]),\n",
              " <a list of 10 Patch objects>)"
            ]
          },
          "metadata": {},
          "execution_count": 62
        },
        {
          "output_type": "display_data",
          "data": {
            "text/plain": [
              "<Figure size 432x288 with 1 Axes>"
            ],
            "image/png": "[encoded data removed]"
          },
          "metadata": {
            "needs_background": "light"
          }
        }
      ]
    },
    {
      "cell_type": "markdown",
      "source": [
        "Histogram of Train errors"
      ],
      "metadata": {
        "id": "LlWnYpRtkbAS"
      }
    },
    {
      "cell_type": "code",
      "source": [
        "counts, bins = np.histogram(residuals_train)\n",
        "plt.hist(bins[:-1], bins, weights=counts)"
      ],
      "metadata": {
        "colab": {
          "base_uri": "https://localhost:8080/",
          "height": 350
        },
        "id": "1EKkr9IjkeMY",
        "outputId": "c25ae35e-8c8f-4ede-f235-69ea6c8717c2"
      },
      "execution_count": 63,
      "outputs": [
        {
          "output_type": "execute_result",
          "data": {
            "text/plain": [
              "(array([ 4.,  5.,  3.,  8., 10., 14., 34., 23., 15.,  4.]),\n",
              " array([-4.30700494e+00, -3.58883866e+00, -2.87067238e+00, -2.15250610e+00,\n",
              "        -1.43433982e+00, -7.16173542e-01,  1.99273773e-03,  7.20159017e-01,\n",
              "         1.43832530e+00,  2.15649158e+00,  2.87465785e+00]),\n",
              " <a list of 10 Patch objects>)"
            ]
          },
          "metadata": {},
          "execution_count": 63
        },
        {
          "output_type": "display_data",
          "data": {
            "text/plain": [
              "<Figure size 432x288 with 1 Axes>"
            ],
            "image/png": "[encoded data removed]"
          },
          "metadata": {
            "needs_background": "light"
          }
        }
      ]
    },
    {
      "cell_type": "markdown",
      "source": [
        "For this dataset, we can observe the range of errors for test data is slightly larger than range of errors for train data.\n",
        "\n",
        "So,liberally we can conclude that there is overfitting of model"
      ],
      "metadata": {
        "id": "I07j5DReifDw"
      }
    },
    {
      "cell_type": "markdown",
      "source": [
        "**Lets formalize overfitting and underfitting conceptually**"
      ],
      "metadata": {
        "id": "Th0uA2NBlz-e"
      }
    },
    {
      "cell_type": "markdown",
      "source": [
        "*Note: Diagrams and plots in the following cells are not related to the dataset we are working. But,depiction is for conceptual understanding"
      ],
      "metadata": {
        "id": "TvjX-P4BoEpf"
      }
    },
    {
      "cell_type": "markdown",
      "source": [
        "Underfitting is a situation when your model is too simple for your data. \n",
        "\n",
        "More formally, your hypothesis about data distribution is wrong and too simple — for example, your data is quadratic and your model is linear. This situation is also called high bias. This means that your algorithm can do accurate predictions, but the initial assumption about the data is incorrect.\n",
        "\n",
        "![An image](https://miro.medium.com/max/612/1*2lH2YCBteTcsNfb2M7wU-A.jpeg)\n",
        "\n",
        "overfitting is a situation when your model is too complex for your data. \n",
        "\n",
        "More formally, your hypothesis about data distribution is wrong and too complex — for example, your data is linear and your model is high-degree polynomial. This situation is also called high variance. This means that your algorithm can’t do accurate predictions — changing the input data only a little, the model output changes very much.\n",
        "\n",
        "![An image](https://miro.medium.com/max/612/1*4c9jedXxoc6Y-urqh4k-SQ.jpeg)\n",
        "\n",
        "These are two extremes of the same problem and the optimal solution always lies somewhere in the middle.\n",
        "\n",
        "![An image](https://miro.medium.com/max/612/1*RgzD6hDLY2esO5EGV4ZpyQ.jpeg)\n",
        "\n",
        "**Bias-Variance Trade off**\n",
        "\n",
        "low bias, low variance — is a good result, just right.\n",
        "\n",
        "low bias, high variance — overfitting — the algorithm outputs very different predictions for similar data.\n",
        "\n",
        "high bias, low variance — underfitting — the algorithm outputs similar predictions for similar data, but predictions are wrong (algorithm “miss”).\n",
        "\n",
        "high bias, high variance — very bad algorithm. You will most likely never see this.\n",
        "\n",
        "![An image](https://miro.medium.com/max/460/1*idzNMBgNIPLF_njyOg4VUw.jpeg)\n",
        "\n",
        "All these cases can be placed on the same plot. It is a bit less clear than the previous one but more compact.\n",
        "\n",
        "![An image](https://miro.medium.com/max/453/1*Rvbk-AyHq0YCfWzeawgatQ.jpeg)\n",
        "\n",
        "**How to Detect Underfitting and Overfitting**\n",
        "\n",
        "![An image](https://miro.medium.com/max/700/1*4f2R4EpXYUUY8rfKH888RQ.png)\n",
        "\n",
        "Underfitting means that your model makes accurate, but initially incorrect predictions. In this case, train error is large and val/test error is large too.\n",
        "\n",
        "Overfitting means that your model makes not accurate predictions. In this case, train error is very small and val/test error is large.\n",
        "\n",
        "![An image](https://miro.medium.com/max/700/1*EqjPJebq38w9pBdXH54KGw.png)\n",
        "\n",
        "**underfitting occurs when your model is too simple for your data.**\n",
        "\n",
        "**overfitting occurs when your model is too complex for your data.**\n",
        "\n",
        "**To fix underfitting, you should complicate the model.**\n",
        "\n",
        "**To fix overfitting, you should simplify the model.**\n",
        "\n",
        "Regularization is the key to handle this for regression\n",
        "\n"
      ],
      "metadata": {
        "id": "zo6cJu07l_eb"
      }
    },
    {
      "cell_type": "markdown",
      "source": [
        "**Regularization Techniques:**\n",
        "\n",
        "Important step to improve the model prediction and reduce errors. This is also called the Shrinkage method which we use to add the penalty term to control the complex model and to avoid overfitting by reducing the variance.\n",
        "\n",
        "![An image](https://editor.analyticsvidhya.com/uploads/11971LR-var.png)\n",
        "\n",
        "**1. Ridge Regression (L2 Regularization):**\n",
        "\n",
        "Basic idea is to minimize the sum of squared errors and sum of the squared coefficients (β).\n",
        "\n",
        "In the background,\n",
        "the coefficients (β) with a large magnitude will generate the graph peak and\n",
        "deep slope, to suppress this we’re using the lambda (λ) use to be called a\n",
        "Penalty Factor and help us to get a smooth surface instead of an irregular-graph. \n",
        "\n",
        "Ridge Regression is used to push the coefficients(β) value nearing zero in terms of magnitude. \n",
        "\n",
        "This is L2 regularization, since its adding a penalty-equivalent to the Square-of-the Magnitude of coefficients.\n",
        "\n",
        "**Ridge Regression = Loss function + Regularized term**\n",
        "\n",
        "![An image](https://editor.analyticsvidhya.com/uploads/90026RR.png)\n",
        "\n",
        "**2. Lasso Regression (L1 Regularization):**\n",
        "\n",
        "This is very similar to Ridge Regression, with little difference in Penalty Factor that coefficient is magnitude instead of squared. In which there are possibilities of many coefficients becoming zero, so that corresponding attribute/features become zero and dropped from the list, this ultimately reduces the dimensions and supports for dimensionality reduction. So which deciding that those attributes/features are not suitable as predators for predicting target value. \n",
        "\n",
        "This is L1 regularization, because of adding the Absolute-Value as penalty-equivalent to the magnitude of coefficients.\n",
        "\n",
        "**Lasso Regression = Loss function + Regularized term**\n",
        "\n",
        "![An image](https://editor.analyticsvidhya.com/uploads/20996LRR.png)\n",
        "\n",
        "**3. Characteristics of Lambda:**\n",
        "\n",
        "**λ = 0:** \n",
        "No impact on coefficients(β) and model would be Overfit. Not suitable\n",
        "for Production\n",
        "\n",
        "**λ => Minimal**\n",
        "Generalised model and acceptable accuracy and eligible for Test and\n",
        "Train. Fit for Production\n",
        "\n",
        "**λ =>High**\n",
        "Very high impact on coefficients (β) and leading to underfit. Ultimately not fit for Production.\n",
        "\n",
        "Ridge never make coefficients into zero, Lasso will do. So, you can use the Lasso for feature selection.\n",
        "\n",
        "Impact of Regularization\n",
        "\n",
        "![An image](https://editor.analyticsvidhya.com/uploads/83837impact%20of%20req.png)\n",
        "\n",
        "**Pictorial representation of Regularization Techniques**\n",
        "\n",
        "![An image](https://editor.analyticsvidhya.com/uploads/85659L1-L2-L1L2.png)\n",
        "\n",
        "**Mathematical approach for L1 and L2**\n",
        "\n",
        "y=β0+ β1 x1+ β2 x2+………………+ βn xn —————–1\n",
        "\n",
        "yi= β0+ Σ βi xi —————–2\n",
        "\n",
        "Σ yi– β0– Σ βi xi\n",
        "\n",
        "Cost/Loss function:  Σ{ yi– β0– Σ βi xij}2—————–3\n",
        "\n",
        "Regularized term: λΣ βi2—————-4\n",
        "\n",
        "Ridge Regression = Loss function + Regularized term—————–5\n",
        "\n",
        "Put 3 and 4 in 5\n",
        "\n",
        "Ridge Regression = Σ { yi– β0– Σ βi xij}2+ λ Σ βi2\n",
        "\n",
        "Lasso Regression = Σ { yi– β0– Σ βi xij}2+ λ Σ |βi|\n",
        "\n",
        "x ==> independent variables\n",
        "\n",
        "y ==> target variables\n",
        "\n",
        "β ==> coefficients\n",
        "\n",
        "λ ==> penalty-factor\n",
        "\n",
        "How coefficients(β) are calculated internally\n",
        "\n",
        "![An image](https://editor.analyticsvidhya.com/uploads/82404coefficients%20calc.png)"
      ],
      "metadata": {
        "id": "UZKi7DaEs7tu"
      }
    },
    {
      "cell_type": "markdown",
      "source": [
        "**Ridge Regression code (L2 Regularization)**"
      ],
      "metadata": {
        "id": "VsZI_DKy2ng4"
      }
    },
    {
      "cell_type": "code",
      "source": [
        "ridge = Ridge(alpha=.3)\n",
        "ridge.fit(X_train,y_train)\n",
        "print (\"Ridge model:\", (ridge.coef_))"
      ],
      "metadata": {
        "colab": {
          "base_uri": "https://localhost:8080/"
        },
        "id": "p2ysxpky1fL0",
        "outputId": "af839f09-1418-4a88-a4ec-844d02b44402"
      },
      "execution_count": 65,
      "outputs": [
        {
          "output_type": "stream",
          "name": "stdout",
          "text": [
            "Ridge model: [0.         0.04495292 0.19830483]\n"
          ]
        }
      ]
    },
    {
      "cell_type": "code",
      "source": [
        "y_pred_ridge = ridge.predict(X_test)\n",
        "resid_ridge = y_test - y_pred_ridge"
      ],
      "metadata": {
        "id": "pOiDB2yt3A8f"
      },
      "execution_count": 68,
      "outputs": []
    },
    {
      "cell_type": "code",
      "source": [
        "rmse_ridge_test = np.sqrt(mean_squared_error(y_test, y_pred_ridge))\n",
        "rmse_ridge_test"
      ],
      "metadata": {
        "colab": {
          "base_uri": "https://localhost:8080/"
        },
        "id": "IHu6iLZR30UZ",
        "outputId": "a1538d98-cd1b-46ca-d5d0-26e5e48579c3"
      },
      "execution_count": 70,
      "outputs": [
        {
          "output_type": "execute_result",
          "data": {
            "text/plain": [
              "1.8767829558335247"
            ]
          },
          "metadata": {},
          "execution_count": 70
        }
      ]
    },
    {
      "cell_type": "code",
      "source": [
        "y_ridge_train = ridge.predict(X_train)\n",
        "resid_ridge_train = y_train - y_ridge_train"
      ],
      "metadata": {
        "id": "QehFrKnD4UT5"
      },
      "execution_count": 71,
      "outputs": []
    },
    {
      "cell_type": "code",
      "source": [
        "rmse_ridge_train = np.sqrt(mean_squared_error(y_train, y_ridge_train))\n",
        "rmse_ridge_train"
      ],
      "metadata": {
        "colab": {
          "base_uri": "https://localhost:8080/"
        },
        "id": "SRwOY-pe4QEt",
        "outputId": "853202e2-01e7-4587-b430-0eda9a3648d7"
      },
      "execution_count": 72,
      "outputs": [
        {
          "output_type": "execute_result",
          "data": {
            "text/plain": [
              "1.529916948717913"
            ]
          },
          "metadata": {},
          "execution_count": 72
        }
      ]
    },
    {
      "cell_type": "markdown",
      "source": [
        "In this case, there is no much improvement of model using ridge as deviation of errors is very less"
      ],
      "metadata": {
        "id": "dCXai1nn44sR"
      }
    },
    {
      "cell_type": "markdown",
      "source": [
        "**Lasso regression code**"
      ],
      "metadata": {
        "id": "e_evXEUQ5Fp4"
      }
    },
    {
      "cell_type": "code",
      "source": [
        "lasso = Lasso(alpha=0.1)\n",
        "lasso.fit(X_train,y_train)\n",
        "print (\"Lasso model:\", (lasso.coef_))"
      ],
      "metadata": {
        "colab": {
          "base_uri": "https://localhost:8080/"
        },
        "id": "dZQjCufs5N0R",
        "outputId": "a75d4f2b-b356-4a74-ef26-83804c8eccb8"
      },
      "execution_count": 73,
      "outputs": [
        {
          "output_type": "stream",
          "name": "stdout",
          "text": [
            "Lasso model: [0.         0.04494373 0.19786346]\n"
          ]
        }
      ]
    },
    {
      "cell_type": "code",
      "source": [
        "y_pred_lasso = lasso.predict(X_test)\n",
        "resid_lasso = y_test - y_pred_lasso"
      ],
      "metadata": {
        "id": "CxnY7az55fxL"
      },
      "execution_count": 74,
      "outputs": []
    },
    {
      "cell_type": "code",
      "source": [
        "rmse_lasso_test = np.sqrt(mean_squared_error(y_test, y_pred_lasso))\n",
        "rmse_lasso_test"
      ],
      "metadata": {
        "colab": {
          "base_uri": "https://localhost:8080/"
        },
        "id": "A2_sdbgp5rvH",
        "outputId": "96c5827a-c35a-4085-b1c4-a64ddde8d76c"
      },
      "execution_count": 75,
      "outputs": [
        {
          "output_type": "execute_result",
          "data": {
            "text/plain": [
              "1.875586909347028"
            ]
          },
          "metadata": {},
          "execution_count": 75
        }
      ]
    },
    {
      "cell_type": "code",
      "source": [
        "y_lasso_train = lasso.predict(X_train)\n",
        "resid_lasso_train = y_train - y_lasso_train"
      ],
      "metadata": {
        "id": "0-f7wJEe5656"
      },
      "execution_count": 76,
      "outputs": []
    },
    {
      "cell_type": "code",
      "source": [
        "rmse_lasso_train = np.sqrt(mean_squared_error(y_train, y_lasso_train))\n",
        "rmse_lasso_train"
      ],
      "metadata": {
        "colab": {
          "base_uri": "https://localhost:8080/"
        },
        "id": "TLS1nCnx6DNO",
        "outputId": "2445ea02-a194-4e5b-d80b-d5b3fc1d4651"
      },
      "execution_count": 77,
      "outputs": [
        {
          "output_type": "execute_result",
          "data": {
            "text/plain": [
              "1.529931744791119"
            ]
          },
          "metadata": {},
          "execution_count": 77
        }
      ]
    }
  ]
}