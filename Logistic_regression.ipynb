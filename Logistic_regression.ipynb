{
  "nbformat": 4,
  "nbformat_minor": 0,
  "metadata": {
    "colab": {
      "provenance": [],
      "collapsed_sections": [],
      "authorship_tag": "ABX9TyPnCeOghxqNJ03wfzASDswf",
      "include_colab_link": true
    },
    "kernelspec": {
      "name": "python3",
      "display_name": "Python 3"
    },
    "language_info": {
      "name": "python"
    }
  },
  "cells": [
    {
      "cell_type": "markdown",
      "metadata": {
        "id": "view-in-github",
        "colab_type": "text"
      },
      "source": [
        "<a href=\"https://colab.research.google.com/github/chain-veerender/datascience/blob/master/Logistic_regression.ipynb\" target=\"_parent\"><img src=\"https://colab.research.google.com/assets/colab-badge.svg\" alt=\"Open In Colab\"/></a>"
      ]
    },
    {
      "cell_type": "markdown",
      "source": [
        "**Classification**"
      ],
      "metadata": {
        "id": "HkJLkvWc-kNx"
      }
    },
    {
      "cell_type": "markdown",
      "source": [
        "**Logistic regression:**\n",
        "\n",
        "Logistic regression is the appropriate regression analysis to conduct when the dependent variable is dichotomous (binary). \n",
        "\n",
        "Like all regression analyses, logistic regression is a predictive analysis. Logistic regression is used to describe data and to explain the relationship between one dependent binary variable and one or more nominal, ordinal, interval or ratio-level independent variables.\n",
        "\n",
        "Logistic Regression is another statistical analysis method borrowed by Machine Learning.\n",
        "\n",
        "It is used when our dependent variable is dichotomous or binary. It just means a variable that has only 2 outputs, for example, A person will survive this accident or not, The student will pass this exam or not. The outcome can either be yes or no (2 outputs). \n",
        "\n",
        "This regression technique is similar to linear regression and can be used to predict the Probabilities for classification problems.\n",
        "\n",
        "**Why do we use Logistic Regression rather than Linear Regression?**\n",
        "\n",
        "It is only used when our dependent variable is binary and in linear regression this dependent variable is continuous.\n",
        "\n",
        "The second problem is that if we add an outlier in our dataset, the best fit line in linear regression shifts to fit that point.\n",
        "\n",
        "Now, if we use linear regression to find the best fit line which aims at minimizing the distance between the predicted value and actual value, the line will be like this:\n",
        "\n",
        "![An image](https://miro.medium.com/max/700/1*Kdth3dTZRTeeg0QY3l1P_w.jpeg)\n",
        "\n",
        "Image courtesy: https://towardsdatascience.com/understanding-logistic-regression-9b02c2aec102\n",
        "\n",
        "Here the threshold value is 0.5, which means if the value of h(x) is greater than 0.5 then we predict malignant tumor (1) and if it is less than 0.5 then we predict benign tumor (0). Everything seems okay here but now let’s change it a bit, we add some outliers in our dataset, now this best fit line will shift to that point. Hence the line will be somewhat like this:\n",
        "\n",
        "![An image](https://miro.medium.com/max/700/1*57QgHJNelV829yj4XoD8RQ.png)\n",
        "\n",
        "Image courtesy: https://towardsdatascience.com/understanding-logistic-regression-9b02c2aec102\n",
        "\n",
        "**Problem with thresholding linear regression:**\n",
        "\n",
        "The blue line represents the old threshold and the yellow line represents the new threshold which is maybe 0.2 here. To keep our predictions right we had to lower our threshold value. Hence we can say that linear regression is prone to outliers. Now here if h(x) is greater than 0.2 then only this regression will give correct outputs.\n",
        "\n",
        "Another problem with linear regression is that the predicted values may be out of range. We know that probability can be between 0 and 1, but if we use linear regression this probability may exceed 1 or go below 0.\n",
        "\n",
        "**what is the solution?**\n",
        "\n",
        "To overcome these problems we use Logistic Regression, which converts this straight best fit line in linear regression to an S-curve using the logistic or sigmoid function, which will always give values between 0 and 1.\n",
        "\n",
        "**Logistic(Sigmoid) function:**\n",
        "\n",
        "![An image](https://editor.analyticsvidhya.com/uploads/642295.png)\n",
        "\n",
        "Instead of y we are taking probabilities (P). But there is an issue here, the value of (P) will exceed 1 or go below 0 and we know that range of Probability is (0-1). To overcome this issue we take “odds” of P:\n",
        "\n",
        "![An image](https://editor.analyticsvidhya.com/uploads/827707.png)\n"
      ],
      "metadata": {
        "id": "Mlz5QTMI-p1-"
      }
    },
    {
      "cell_type": "markdown",
      "source": [
        "**Logistic Regression Assumptions**\n",
        "\n",
        "Binary logistic regression requires the dependent variable to be binary.\n",
        "\n",
        "For a binary regression, the factor level 1 of the dependent variable should represent the desired outcome.\n",
        "\n",
        "Only the meaningful variables should be included.\n",
        "\n",
        "The independent variables should be independent of each other. That is, the model should have little or no multicollinearity.\n",
        "\n",
        "The independent variables are linearly related to the log odds.\n",
        "\n",
        "Logistic regression requires quite large sample sizes."
      ],
      "metadata": {
        "id": "oHj5ZFuvf3A3"
      }
    },
    {
      "cell_type": "markdown",
      "source": [
        "**Dataset**"
      ],
      "metadata": {
        "id": "DprqMadaiH6l"
      }
    },
    {
      "cell_type": "markdown",
      "source": [
        "Dataset is related to direct marketing campaigns (phone calls) of a Portuguese banking institution.\n",
        "\n",
        "The classification goal is to predict whether the client will subscribe (1/0) to a term deposit (variable y). "
      ],
      "metadata": {
        "id": "7pp6CIKth01w"
      }
    },
    {
      "cell_type": "markdown",
      "source": [
        "You can download the dataset [here](https://raw.githubusercontent.com/chain-veerender/datascience/master/portugese_banking.csv)"
      ],
      "metadata": {
        "id": "Qq1LYdIsHdND"
      }
    },
    {
      "cell_type": "code",
      "source": [
        "from google.colab import files\n",
        " \n",
        " \n",
        "upload_data = files.upload()"
      ],
      "metadata": {
        "colab": {
          "resources": {
            "http://localhost:8080/nbextensions/google.colab/files.js": {
              "data": "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",
              "ok": true,
              "headers": [
                [
                  "content-type",
                  "application/javascript"
                ]
              ],
              "status": 200,
              "status_text": ""
            }
          },
          "base_uri": "https://localhost:8080/",
          "height": 72
        },
        "id": "mUj9vpQmfHs9",
        "outputId": "6fdcd2d1-ce3d-4586-b477-2cd3a8f10341"
      },
      "execution_count": 1,
      "outputs": [
        {
          "output_type": "display_data",
          "data": {
            "text/plain": [
              "<IPython.core.display.HTML object>"
            ],
            "text/html": [
              "\n",
              "     <input type=\"file\" id=\"files-1c863ff0-a5bf-4aa5-9401-92c172beba17\" name=\"files[]\" multiple disabled\n",
              "        style=\"border:none\" />\n",
              "     <output id=\"result-1c863ff0-a5bf-4aa5-9401-92c172beba17\">\n",
              "      Upload widget is only available when the cell has been executed in the\n",
              "      current browser session. Please rerun this cell to enable.\n",
              "      </output>\n",
              "      <script src=\"/nbextensions/google.colab/files.js\"></script> "
            ]
          },
          "metadata": {}
        },
        {
          "output_type": "stream",
          "name": "stdout",
          "text": [
            "Saving portugese_banking.csv to portugese_banking.csv\n"
          ]
        }
      ]
    },
    {
      "cell_type": "code",
      "source": [
        "# import all libraries here\n",
        "\n",
        "import pandas as pd\n",
        "import numpy as np\n",
        "import io\n",
        "\n",
        "from sklearn import *\n",
        "from sklearn.linear_model import *\n",
        "from sklearn.model_selection import *\n",
        "from sklearn.feature_selection import *\n",
        "from sklearn.metrics import *\n",
        "\n",
        "\n",
        "import statsmodels.api as sm\n",
        "\n",
        "from imblearn.over_sampling import *\n",
        "\n",
        "import matplotlib.pyplot as plt \n",
        "plt.rc(\"font\", size=14)\n",
        "\n",
        "import seaborn as sns\n",
        "sns.set(style=\"white\")\n",
        "sns.set(style=\"whitegrid\", color_codes=True)"
      ],
      "metadata": {
        "id": "QsJ1Bt-nlVJc"
      },
      "execution_count": 2,
      "outputs": []
    },
    {
      "cell_type": "code",
      "source": [
        "df = pd.read_csv(io.BytesIO(upload_data['portugese_banking.csv']))\n",
        "df.head()"
      ],
      "metadata": {
        "colab": {
          "base_uri": "https://localhost:8080/",
          "height": 297
        },
        "id": "y1noZzWMkieh",
        "outputId": "74452290-f063-4c82-9d72-cdabff5d5f0e"
      },
      "execution_count": 3,
      "outputs": [
        {
          "output_type": "execute_result",
          "data": {
            "text/plain": [
              "   age          job  marital          education  default housing loan  \\\n",
              "0   44  blue-collar  married           basic.4y  unknown     yes   no   \n",
              "1   53   technician  married            unknown       no      no   no   \n",
              "2   28   management   single  university.degree       no     yes   no   \n",
              "3   39     services  married        high.school       no      no   no   \n",
              "4   55      retired  married           basic.4y       no     yes   no   \n",
              "\n",
              "    contact month day_of_week  ...  campaign  pdays  previous     poutcome  \\\n",
              "0  cellular   aug         thu  ...         1    999         0  nonexistent   \n",
              "1  cellular   nov         fri  ...         1    999         0  nonexistent   \n",
              "2  cellular   jun         thu  ...         3      6         2      success   \n",
              "3  cellular   apr         fri  ...         2    999         0  nonexistent   \n",
              "4  cellular   aug         fri  ...         1      3         1      success   \n",
              "\n",
              "  emp_var_rate  cons_price_idx  cons_conf_idx  euribor3m  nr_employed  y  \n",
              "0          1.4          93.444          -36.1      4.963       5228.1  0  \n",
              "1         -0.1          93.200          -42.0      4.021       5195.8  0  \n",
              "2         -1.7          94.055          -39.8      0.729       4991.6  1  \n",
              "3         -1.8          93.075          -47.1      1.405       5099.1  0  \n",
              "4         -2.9          92.201          -31.4      0.869       5076.2  1  \n",
              "\n",
              "[5 rows x 21 columns]"
            ],
            "text/html": [
              "\n",
              "  <div id=\"df-cc91cb70-b1db-4cde-8e35-13f9c39dfe9d\">\n",
              "    <div class=\"colab-df-container\">\n",
              "      <div>\n",
              "<style scoped>\n",
              "    .dataframe tbody tr th:only-of-type {\n",
              "        vertical-align: middle;\n",
              "    }\n",
              "\n",
              "    .dataframe tbody tr th {\n",
              "        vertical-align: top;\n",
              "    }\n",
              "\n",
              "    .dataframe thead th {\n",
              "        text-align: right;\n",
              "    }\n",
              "</style>\n",
              "<table border=\"1\" class=\"dataframe\">\n",
              "  <thead>\n",
              "    <tr style=\"text-align: right;\">\n",
              "      <th></th>\n",
              "      <th>age</th>\n",
              "      <th>job</th>\n",
              "      <th>marital</th>\n",
              "      <th>education</th>\n",
              "      <th>default</th>\n",
              "      <th>housing</th>\n",
              "      <th>loan</th>\n",
              "      <th>contact</th>\n",
              "      <th>month</th>\n",
              "      <th>day_of_week</th>\n",
              "      <th>...</th>\n",
              "      <th>campaign</th>\n",
              "      <th>pdays</th>\n",
              "      <th>previous</th>\n",
              "      <th>poutcome</th>\n",
              "      <th>emp_var_rate</th>\n",
              "      <th>cons_price_idx</th>\n",
              "      <th>cons_conf_idx</th>\n",
              "      <th>euribor3m</th>\n",
              "      <th>nr_employed</th>\n",
              "      <th>y</th>\n",
              "    </tr>\n",
              "  </thead>\n",
              "  <tbody>\n",
              "    <tr>\n",
              "      <th>0</th>\n",
              "      <td>44</td>\n",
              "      <td>blue-collar</td>\n",
              "      <td>married</td>\n",
              "      <td>basic.4y</td>\n",
              "      <td>unknown</td>\n",
              "      <td>yes</td>\n",
              "      <td>no</td>\n",
              "      <td>cellular</td>\n",
              "      <td>aug</td>\n",
              "      <td>thu</td>\n",
              "      <td>...</td>\n",
              "      <td>1</td>\n",
              "      <td>999</td>\n",
              "      <td>0</td>\n",
              "      <td>nonexistent</td>\n",
              "      <td>1.4</td>\n",
              "      <td>93.444</td>\n",
              "      <td>-36.1</td>\n",
              "      <td>4.963</td>\n",
              "      <td>5228.1</td>\n",
              "      <td>0</td>\n",
              "    </tr>\n",
              "    <tr>\n",
              "      <th>1</th>\n",
              "      <td>53</td>\n",
              "      <td>technician</td>\n",
              "      <td>married</td>\n",
              "      <td>unknown</td>\n",
              "      <td>no</td>\n",
              "      <td>no</td>\n",
              "      <td>no</td>\n",
              "      <td>cellular</td>\n",
              "      <td>nov</td>\n",
              "      <td>fri</td>\n",
              "      <td>...</td>\n",
              "      <td>1</td>\n",
              "      <td>999</td>\n",
              "      <td>0</td>\n",
              "      <td>nonexistent</td>\n",
              "      <td>-0.1</td>\n",
              "      <td>93.200</td>\n",
              "      <td>-42.0</td>\n",
              "      <td>4.021</td>\n",
              "      <td>5195.8</td>\n",
              "      <td>0</td>\n",
              "    </tr>\n",
              "    <tr>\n",
              "      <th>2</th>\n",
              "      <td>28</td>\n",
              "      <td>management</td>\n",
              "      <td>single</td>\n",
              "      <td>university.degree</td>\n",
              "      <td>no</td>\n",
              "      <td>yes</td>\n",
              "      <td>no</td>\n",
              "      <td>cellular</td>\n",
              "      <td>jun</td>\n",
              "      <td>thu</td>\n",
              "      <td>...</td>\n",
              "      <td>3</td>\n",
              "      <td>6</td>\n",
              "      <td>2</td>\n",
              "      <td>success</td>\n",
              "      <td>-1.7</td>\n",
              "      <td>94.055</td>\n",
              "      <td>-39.8</td>\n",
              "      <td>0.729</td>\n",
              "      <td>4991.6</td>\n",
              "      <td>1</td>\n",
              "    </tr>\n",
              "    <tr>\n",
              "      <th>3</th>\n",
              "      <td>39</td>\n",
              "      <td>services</td>\n",
              "      <td>married</td>\n",
              "      <td>high.school</td>\n",
              "      <td>no</td>\n",
              "      <td>no</td>\n",
              "      <td>no</td>\n",
              "      <td>cellular</td>\n",
              "      <td>apr</td>\n",
              "      <td>fri</td>\n",
              "      <td>...</td>\n",
              "      <td>2</td>\n",
              "      <td>999</td>\n",
              "      <td>0</td>\n",
              "      <td>nonexistent</td>\n",
              "      <td>-1.8</td>\n",
              "      <td>93.075</td>\n",
              "      <td>-47.1</td>\n",
              "      <td>1.405</td>\n",
              "      <td>5099.1</td>\n",
              "      <td>0</td>\n",
              "    </tr>\n",
              "    <tr>\n",
              "      <th>4</th>\n",
              "      <td>55</td>\n",
              "      <td>retired</td>\n",
              "      <td>married</td>\n",
              "      <td>basic.4y</td>\n",
              "      <td>no</td>\n",
              "      <td>yes</td>\n",
              "      <td>no</td>\n",
              "      <td>cellular</td>\n",
              "      <td>aug</td>\n",
              "      <td>fri</td>\n",
              "      <td>...</td>\n",
              "      <td>1</td>\n",
              "      <td>3</td>\n",
              "      <td>1</td>\n",
              "      <td>success</td>\n",
              "      <td>-2.9</td>\n",
              "      <td>92.201</td>\n",
              "      <td>-31.4</td>\n",
              "      <td>0.869</td>\n",
              "      <td>5076.2</td>\n",
              "      <td>1</td>\n",
              "    </tr>\n",
              "  </tbody>\n",
              "</table>\n",
              "<p>5 rows × 21 columns</p>\n",
              "</div>\n",
              "      <button class=\"colab-df-convert\" onclick=\"convertToInteractive('df-cc91cb70-b1db-4cde-8e35-13f9c39dfe9d')\"\n",
              "              title=\"Convert this dataframe to an interactive table.\"\n",
              "              style=\"display:none;\">\n",
              "        \n",
              "  <svg xmlns=\"http://www.w3.org/2000/svg\" height=\"24px\"viewBox=\"0 0 24 24\"\n",
              "       width=\"24px\">\n",
              "    <path d=\"M0 0h24v24H0V0z\" fill=\"none\"/>\n",
              "    <path d=\"M18.56 5.44l.94 2.06.94-2.06 2.06-.94-2.06-.94-.94-2.06-.94 2.06-2.06.94zm-11 1L8.5 8.5l.94-2.06 2.06-.94-2.06-.94L8.5 2.5l-.94 2.06-2.06.94zm10 10l.94 2.06.94-2.06 2.06-.94-2.06-.94-.94-2.06-.94 2.06-2.06.94z\"/><path d=\"M17.41 7.96l-1.37-1.37c-.4-.4-.92-.59-1.43-.59-.52 0-1.04.2-1.43.59L10.3 9.45l-7.72 7.72c-.78.78-.78 2.05 0 2.83L4 21.41c.39.39.9.59 1.41.59.51 0 1.02-.2 1.41-.59l7.78-7.78 2.81-2.81c.8-.78.8-2.07 0-2.86zM5.41 20L4 18.59l7.72-7.72 1.47 1.35L5.41 20z\"/>\n",
              "  </svg>\n",
              "      </button>\n",
              "      \n",
              "  <style>\n",
              "    .colab-df-container {\n",
              "      display:flex;\n",
              "      flex-wrap:wrap;\n",
              "      gap: 12px;\n",
              "    }\n",
              "\n",
              "    .colab-df-convert {\n",
              "      background-color: #E8F0FE;\n",
              "      border: none;\n",
              "      border-radius: 50%;\n",
              "      cursor: pointer;\n",
              "      display: none;\n",
              "      fill: #1967D2;\n",
              "      height: 32px;\n",
              "      padding: 0 0 0 0;\n",
              "      width: 32px;\n",
              "    }\n",
              "\n",
              "    .colab-df-convert:hover {\n",
              "      background-color: #E2EBFA;\n",
              "      box-shadow: 0px 1px 2px rgba(60, 64, 67, 0.3), 0px 1px 3px 1px rgba(60, 64, 67, 0.15);\n",
              "      fill: #174EA6;\n",
              "    }\n",
              "\n",
              "    [theme=dark] .colab-df-convert {\n",
              "      background-color: #3B4455;\n",
              "      fill: #D2E3FC;\n",
              "    }\n",
              "\n",
              "    [theme=dark] .colab-df-convert:hover {\n",
              "      background-color: #434B5C;\n",
              "      box-shadow: 0px 1px 3px 1px rgba(0, 0, 0, 0.15);\n",
              "      filter: drop-shadow(0px 1px 2px rgba(0, 0, 0, 0.3));\n",
              "      fill: #FFFFFF;\n",
              "    }\n",
              "  </style>\n",
              "\n",
              "      <script>\n",
              "        const buttonEl =\n",
              "          document.querySelector('#df-cc91cb70-b1db-4cde-8e35-13f9c39dfe9d button.colab-df-convert');\n",
              "        buttonEl.style.display =\n",
              "          google.colab.kernel.accessAllowed ? 'block' : 'none';\n",
              "\n",
              "        async function convertToInteractive(key) {\n",
              "          const element = document.querySelector('#df-cc91cb70-b1db-4cde-8e35-13f9c39dfe9d');\n",
              "          const dataTable =\n",
              "            await google.colab.kernel.invokeFunction('convertToInteractive',\n",
              "                                                     [key], {});\n",
              "          if (!dataTable) return;\n",
              "\n",
              "          const docLinkHtml = 'Like what you see? Visit the ' +\n",
              "            '<a target=\"_blank\" href=https://colab.research.google.com/notebooks/data_table.ipynb>data table notebook</a>'\n",
              "            + ' to learn more about interactive tables.';\n",
              "          element.innerHTML = '';\n",
              "          dataTable['output_type'] = 'display_data';\n",
              "          await google.colab.output.renderOutput(dataTable, element);\n",
              "          const docLink = document.createElement('div');\n",
              "          docLink.innerHTML = docLinkHtml;\n",
              "          element.appendChild(docLink);\n",
              "        }\n",
              "      </script>\n",
              "    </div>\n",
              "  </div>\n",
              "  "
            ]
          },
          "metadata": {},
          "execution_count": 3
        }
      ]
    },
    {
      "cell_type": "code",
      "source": [
        "df = df.dropna()\n",
        "print(df.shape)\n",
        "print(list(df.columns))"
      ],
      "metadata": {
        "colab": {
          "base_uri": "https://localhost:8080/"
        },
        "id": "rclsPicRle1U",
        "outputId": "24f833e7-1242-4340-f216-6e87eeae18db"
      },
      "execution_count": null,
      "outputs": [
        {
          "output_type": "stream",
          "name": "stdout",
          "text": [
            "(41188, 21)\n",
            "['age', 'job', 'marital', 'education', 'default', 'housing', 'loan', 'contact', 'month', 'day_of_week', 'duration', 'campaign', 'pdays', 'previous', 'poutcome', 'emp_var_rate', 'cons_price_idx', 'cons_conf_idx', 'euribor3m', 'nr_employed', 'y']\n"
          ]
        }
      ]
    },
    {
      "cell_type": "code",
      "source": [
        "df.dtypes"
      ],
      "metadata": {
        "colab": {
          "base_uri": "https://localhost:8080/"
        },
        "id": "Yznu4o2dl1__",
        "outputId": "2bfa1eb8-4927-49e8-d1ab-c02063736523"
      },
      "execution_count": null,
      "outputs": [
        {
          "output_type": "execute_result",
          "data": {
            "text/plain": [
              "age                 int64\n",
              "job                object\n",
              "marital            object\n",
              "education          object\n",
              "default            object\n",
              "housing            object\n",
              "loan               object\n",
              "contact            object\n",
              "month              object\n",
              "day_of_week        object\n",
              "duration            int64\n",
              "campaign            int64\n",
              "pdays               int64\n",
              "previous            int64\n",
              "poutcome           object\n",
              "emp_var_rate      float64\n",
              "cons_price_idx    float64\n",
              "cons_conf_idx     float64\n",
              "euribor3m         float64\n",
              "nr_employed       float64\n",
              "y                   int64\n",
              "dtype: object"
            ]
          },
          "metadata": {},
          "execution_count": 5
        }
      ]
    },
    {
      "cell_type": "code",
      "source": [
        "df['education'].unique()"
      ],
      "metadata": {
        "colab": {
          "base_uri": "https://localhost:8080/"
        },
        "id": "TscVTOdrmTVD",
        "outputId": "6b5ce905-ee5f-47a3-a0db-22877a5280f8"
      },
      "execution_count": null,
      "outputs": [
        {
          "output_type": "execute_result",
          "data": {
            "text/plain": [
              "array(['basic.4y', 'unknown', 'university.degree', 'high.school',\n",
              "       'basic.9y', 'professional.course', 'basic.6y', 'illiterate'],\n",
              "      dtype=object)"
            ]
          },
          "metadata": {},
          "execution_count": 6
        }
      ]
    },
    {
      "cell_type": "markdown",
      "source": [
        "group “basic.4y”, “basic.9y” and “basic.6y” together and call them “basic”"
      ],
      "metadata": {
        "id": "Fi7CZwrEmabB"
      }
    },
    {
      "cell_type": "code",
      "source": [
        "df['education']=np.where(df['education'] =='basic.9y', 'Basic', df['education'])\n",
        "df['education']=np.where(df['education'] =='basic.6y', 'Basic', df['education'])\n",
        "df['education']=np.where(df['education'] =='basic.4y', 'Basic', df['education'])\n",
        "df['education']"
      ],
      "metadata": {
        "colab": {
          "base_uri": "https://localhost:8080/"
        },
        "id": "_ldUKWkZmi9Q",
        "outputId": "5acba863-eac3-4621-f23e-db78b9c7290a"
      },
      "execution_count": null,
      "outputs": [
        {
          "output_type": "execute_result",
          "data": {
            "text/plain": [
              "0                      Basic\n",
              "1                    unknown\n",
              "2          university.degree\n",
              "3                high.school\n",
              "4                      Basic\n",
              "                ...         \n",
              "41183            high.school\n",
              "41184                  Basic\n",
              "41185      university.degree\n",
              "41186    professional.course\n",
              "41187            high.school\n",
              "Name: education, Length: 41188, dtype: object"
            ]
          },
          "metadata": {},
          "execution_count": 7
        }
      ]
    },
    {
      "cell_type": "code",
      "source": [
        "df['education'].unique()"
      ],
      "metadata": {
        "colab": {
          "base_uri": "https://localhost:8080/"
        },
        "id": "D4-VImPCm4F-",
        "outputId": "de9f18d6-da0b-434b-df3e-cf679d26bd14"
      },
      "execution_count": null,
      "outputs": [
        {
          "output_type": "execute_result",
          "data": {
            "text/plain": [
              "array(['Basic', 'unknown', 'university.degree', 'high.school',\n",
              "       'professional.course', 'illiterate'], dtype=object)"
            ]
          },
          "metadata": {},
          "execution_count": 8
        }
      ]
    },
    {
      "cell_type": "markdown",
      "source": [
        "Target variable class wise counts"
      ],
      "metadata": {
        "id": "BkkmRF-QnQto"
      }
    },
    {
      "cell_type": "code",
      "source": [
        "df['y'].value_counts()"
      ],
      "metadata": {
        "colab": {
          "base_uri": "https://localhost:8080/"
        },
        "id": "oma_fv-3nWFG",
        "outputId": "a638ff9f-0354-464b-9a66-c5184b20bd89"
      },
      "execution_count": null,
      "outputs": [
        {
          "output_type": "execute_result",
          "data": {
            "text/plain": [
              "0    36548\n",
              "1     4640\n",
              "Name: y, dtype: int64"
            ]
          },
          "metadata": {},
          "execution_count": 9
        }
      ]
    },
    {
      "cell_type": "code",
      "source": [
        "sns.countplot(x='y',data=df,palette='hls')\n",
        "plt.show()"
      ],
      "metadata": {
        "colab": {
          "base_uri": "https://localhost:8080/",
          "height": 285
        },
        "id": "dlJw5G4unixg",
        "outputId": "e1125c56-9b80-48dd-e30b-8086db4fdd72"
      },
      "execution_count": null,
      "outputs": [
        {
          "output_type": "display_data",
          "data": {
            "text/plain": [
              "<Figure size 432x288 with 1 Axes>"
            ],
            "image/png": "[encoded data removed]"
          },
          "metadata": {}
        }
      ]
    },
    {
      "cell_type": "markdown",
      "source": [
        "**You can observe that data is highly imbalanced across classes**"
      ],
      "metadata": {
        "id": "CiRUjbJoLLlw"
      }
    },
    {
      "cell_type": "code",
      "source": [
        "count_no_sub = len(df[df['y']==0])\n",
        "count_sub = len(df[df['y']==1])\n",
        "pct_of_no_sub = count_no_sub/(count_no_sub+count_sub)\n",
        "print(\"percentage of no subscription is\", pct_of_no_sub*100)\n",
        "pct_of_sub = count_sub/(count_no_sub+count_sub)\n",
        "print(\"percentage of subscription\", pct_of_sub*100)"
      ],
      "metadata": {
        "colab": {
          "base_uri": "https://localhost:8080/"
        },
        "id": "FVFu1KywoEkk",
        "outputId": "730163c8-db60-48af-a1c0-177ae2f698fa"
      },
      "execution_count": null,
      "outputs": [
        {
          "output_type": "stream",
          "name": "stdout",
          "text": [
            "percentage of no subscription is 88.73458288821988\n",
            "percentage of subscription 11.265417111780131\n"
          ]
        }
      ]
    },
    {
      "cell_type": "markdown",
      "source": [
        "Classes are imbalanced, and the ratio of no-subscription to subscription instances is 89:11."
      ],
      "metadata": {
        "id": "xgTR1e3noZSA"
      }
    },
    {
      "cell_type": "code",
      "source": [
        "df.groupby('y').mean()"
      ],
      "metadata": {
        "colab": {
          "base_uri": "https://localhost:8080/",
          "height": 142
        },
        "id": "n_zdIjbQocle",
        "outputId": "8984bfdf-c258-4d08-d68c-c0fbc52942f0"
      },
      "execution_count": null,
      "outputs": [
        {
          "output_type": "execute_result",
          "data": {
            "text/plain": [
              "         age    duration  campaign       pdays  previous  emp_var_rate  \\\n",
              "y                                                                        \n",
              "0  39.911185  220.844807  2.633085  984.113878  0.132374      0.248875   \n",
              "1  40.913147  553.191164  2.051724  792.035560  0.492672     -1.233448   \n",
              "\n",
              "   cons_price_idx  cons_conf_idx  euribor3m  nr_employed  \n",
              "y                                                         \n",
              "0       93.603757     -40.593097   3.811491  5176.166600  \n",
              "1       93.354386     -39.789784   2.123135  5095.115991  "
            ],
            "text/html": [
              "\n",
              "  <div id=\"df-6829724c-c18e-4b23-84d3-c5dd1e6d8352\">\n",
              "    <div class=\"colab-df-container\">\n",
              "      <div>\n",
              "<style scoped>\n",
              "    .dataframe tbody tr th:only-of-type {\n",
              "        vertical-align: middle;\n",
              "    }\n",
              "\n",
              "    .dataframe tbody tr th {\n",
              "        vertical-align: top;\n",
              "    }\n",
              "\n",
              "    .dataframe thead th {\n",
              "        text-align: right;\n",
              "    }\n",
              "</style>\n",
              "<table border=\"1\" class=\"dataframe\">\n",
              "  <thead>\n",
              "    <tr style=\"text-align: right;\">\n",
              "      <th></th>\n",
              "      <th>age</th>\n",
              "      <th>duration</th>\n",
              "      <th>campaign</th>\n",
              "      <th>pdays</th>\n",
              "      <th>previous</th>\n",
              "      <th>emp_var_rate</th>\n",
              "      <th>cons_price_idx</th>\n",
              "      <th>cons_conf_idx</th>\n",
              "      <th>euribor3m</th>\n",
              "      <th>nr_employed</th>\n",
              "    </tr>\n",
              "    <tr>\n",
              "      <th>y</th>\n",
              "      <th></th>\n",
              "      <th></th>\n",
              "      <th></th>\n",
              "      <th></th>\n",
              "      <th></th>\n",
              "      <th></th>\n",
              "      <th></th>\n",
              "      <th></th>\n",
              "      <th></th>\n",
              "      <th></th>\n",
              "    </tr>\n",
              "  </thead>\n",
              "  <tbody>\n",
              "    <tr>\n",
              "      <th>0</th>\n",
              "      <td>39.911185</td>\n",
              "      <td>220.844807</td>\n",
              "      <td>2.633085</td>\n",
              "      <td>984.113878</td>\n",
              "      <td>0.132374</td>\n",
              "      <td>0.248875</td>\n",
              "      <td>93.603757</td>\n",
              "      <td>-40.593097</td>\n",
              "      <td>3.811491</td>\n",
              "      <td>5176.166600</td>\n",
              "    </tr>\n",
              "    <tr>\n",
              "      <th>1</th>\n",
              "      <td>40.913147</td>\n",
              "      <td>553.191164</td>\n",
              "      <td>2.051724</td>\n",
              "      <td>792.035560</td>\n",
              "      <td>0.492672</td>\n",
              "      <td>-1.233448</td>\n",
              "      <td>93.354386</td>\n",
              "      <td>-39.789784</td>\n",
              "      <td>2.123135</td>\n",
              "      <td>5095.115991</td>\n",
              "    </tr>\n",
              "  </tbody>\n",
              "</table>\n",
              "</div>\n",
              "      <button class=\"colab-df-convert\" onclick=\"convertToInteractive('df-6829724c-c18e-4b23-84d3-c5dd1e6d8352')\"\n",
              "              title=\"Convert this dataframe to an interactive table.\"\n",
              "              style=\"display:none;\">\n",
              "        \n",
              "  <svg xmlns=\"http://www.w3.org/2000/svg\" height=\"24px\"viewBox=\"0 0 24 24\"\n",
              "       width=\"24px\">\n",
              "    <path d=\"M0 0h24v24H0V0z\" fill=\"none\"/>\n",
              "    <path d=\"M18.56 5.44l.94 2.06.94-2.06 2.06-.94-2.06-.94-.94-2.06-.94 2.06-2.06.94zm-11 1L8.5 8.5l.94-2.06 2.06-.94-2.06-.94L8.5 2.5l-.94 2.06-2.06.94zm10 10l.94 2.06.94-2.06 2.06-.94-2.06-.94-.94-2.06-.94 2.06-2.06.94z\"/><path d=\"M17.41 7.96l-1.37-1.37c-.4-.4-.92-.59-1.43-.59-.52 0-1.04.2-1.43.59L10.3 9.45l-7.72 7.72c-.78.78-.78 2.05 0 2.83L4 21.41c.39.39.9.59 1.41.59.51 0 1.02-.2 1.41-.59l7.78-7.78 2.81-2.81c.8-.78.8-2.07 0-2.86zM5.41 20L4 18.59l7.72-7.72 1.47 1.35L5.41 20z\"/>\n",
              "  </svg>\n",
              "      </button>\n",
              "      \n",
              "  <style>\n",
              "    .colab-df-container {\n",
              "      display:flex;\n",
              "      flex-wrap:wrap;\n",
              "      gap: 12px;\n",
              "    }\n",
              "\n",
              "    .colab-df-convert {\n",
              "      background-color: #E8F0FE;\n",
              "      border: none;\n",
              "      border-radius: 50%;\n",
              "      cursor: pointer;\n",
              "      display: none;\n",
              "      fill: #1967D2;\n",
              "      height: 32px;\n",
              "      padding: 0 0 0 0;\n",
              "      width: 32px;\n",
              "    }\n",
              "\n",
              "    .colab-df-convert:hover {\n",
              "      background-color: #E2EBFA;\n",
              "      box-shadow: 0px 1px 2px rgba(60, 64, 67, 0.3), 0px 1px 3px 1px rgba(60, 64, 67, 0.15);\n",
              "      fill: #174EA6;\n",
              "    }\n",
              "\n",
              "    [theme=dark] .colab-df-convert {\n",
              "      background-color: #3B4455;\n",
              "      fill: #D2E3FC;\n",
              "    }\n",
              "\n",
              "    [theme=dark] .colab-df-convert:hover {\n",
              "      background-color: #434B5C;\n",
              "      box-shadow: 0px 1px 3px 1px rgba(0, 0, 0, 0.15);\n",
              "      filter: drop-shadow(0px 1px 2px rgba(0, 0, 0, 0.3));\n",
              "      fill: #FFFFFF;\n",
              "    }\n",
              "  </style>\n",
              "\n",
              "      <script>\n",
              "        const buttonEl =\n",
              "          document.querySelector('#df-6829724c-c18e-4b23-84d3-c5dd1e6d8352 button.colab-df-convert');\n",
              "        buttonEl.style.display =\n",
              "          google.colab.kernel.accessAllowed ? 'block' : 'none';\n",
              "\n",
              "        async function convertToInteractive(key) {\n",
              "          const element = document.querySelector('#df-6829724c-c18e-4b23-84d3-c5dd1e6d8352');\n",
              "          const dataTable =\n",
              "            await google.colab.kernel.invokeFunction('convertToInteractive',\n",
              "                                                     [key], {});\n",
              "          if (!dataTable) return;\n",
              "\n",
              "          const docLinkHtml = 'Like what you see? Visit the ' +\n",
              "            '<a target=\"_blank\" href=https://colab.research.google.com/notebooks/data_table.ipynb>data table notebook</a>'\n",
              "            + ' to learn more about interactive tables.';\n",
              "          element.innerHTML = '';\n",
              "          dataTable['output_type'] = 'display_data';\n",
              "          await google.colab.output.renderOutput(dataTable, element);\n",
              "          const docLink = document.createElement('div');\n",
              "          docLink.innerHTML = docLinkHtml;\n",
              "          element.appendChild(docLink);\n",
              "        }\n",
              "      </script>\n",
              "    </div>\n",
              "  </div>\n",
              "  "
            ]
          },
          "metadata": {},
          "execution_count": 12
        }
      ]
    },
    {
      "cell_type": "markdown",
      "source": [
        "Interpretations:\n",
        "\n",
        "The average age of customers who bought the term deposit is higher than that of the customers who didn’t.\n",
        "\n",
        "The pdays (days since the customer was last contacted) is understandably lower for the customers who bought it. The lower the pdays, the better the memory of the last call and hence the better chances of a sale.\n",
        "\n",
        "Campaigns (number of contacts or calls made during the current campaign) are lower for customers who bought the term deposit."
      ],
      "metadata": {
        "id": "fvxPa6lQo5Uo"
      }
    },
    {
      "cell_type": "code",
      "source": [
        "df.groupby('job').mean()"
      ],
      "metadata": {
        "colab": {
          "base_uri": "https://localhost:8080/",
          "height": 533
        },
        "id": "ph3MwogVpXug",
        "outputId": "9aec3bec-3d16-4c72-ddb2-ebcbb83c10df"
      },
      "execution_count": null,
      "outputs": [
        {
          "output_type": "execute_result",
          "data": {
            "text/plain": [
              "                     age    duration  campaign       pdays  previous  \\\n",
              "job                                                                    \n",
              "admin.         38.187296  254.312128  2.623489  954.319229  0.189023   \n",
              "blue-collar    39.555760  264.542360  2.558461  985.160363  0.122542   \n",
              "entrepreneur   41.723214  263.267857  2.535714  981.267170  0.138736   \n",
              "housemaid      45.500000  250.454717  2.639623  960.579245  0.137736   \n",
              "management     42.362859  257.058140  2.476060  962.647059  0.185021   \n",
              "retired        62.027326  273.712209  2.476744  897.936047  0.327326   \n",
              "self-employed  39.949331  264.142153  2.660802  976.621393  0.143561   \n",
              "services       37.926430  258.398085  2.587805  979.974049  0.154951   \n",
              "student        25.894857  283.683429  2.104000  840.217143  0.524571   \n",
              "technician     38.507638  250.232241  2.577339  964.408127  0.153789   \n",
              "unemployed     39.733728  249.451677  2.564103  935.316568  0.199211   \n",
              "unknown        45.563636  239.675758  2.648485  938.727273  0.154545   \n",
              "\n",
              "               emp_var_rate  cons_price_idx  cons_conf_idx  euribor3m  \\\n",
              "job                                                                     \n",
              "admin.             0.015563       93.534054     -40.245433   3.550274   \n",
              "blue-collar        0.248995       93.656656     -41.375816   3.771996   \n",
              "entrepreneur       0.158723       93.605372     -41.283654   3.791120   \n",
              "housemaid          0.433396       93.676576     -39.495283   4.009645   \n",
              "management        -0.012688       93.522755     -40.489466   3.611316   \n",
              "retired           -0.698314       93.430786     -38.573081   2.770066   \n",
              "self-employed      0.094159       93.559982     -40.488107   3.689376   \n",
              "services           0.175359       93.634659     -41.290048   3.699187   \n",
              "student           -1.408000       93.331613     -40.187543   1.884224   \n",
              "technician         0.274566       93.561471     -39.927569   3.820401   \n",
              "unemployed        -0.111736       93.563781     -40.007594   3.466583   \n",
              "unknown            0.357879       93.718942     -38.797879   3.949033   \n",
              "\n",
              "               nr_employed         y  \n",
              "job                                   \n",
              "admin.         5164.125350  0.129726  \n",
              "blue-collar    5175.615150  0.068943  \n",
              "entrepreneur   5176.313530  0.085165  \n",
              "housemaid      5179.529623  0.100000  \n",
              "management     5166.650513  0.112175  \n",
              "retired        5122.262151  0.252326  \n",
              "self-employed  5170.674384  0.104856  \n",
              "services       5171.600126  0.081381  \n",
              "student        5085.939086  0.314286  \n",
              "technician     5175.648391  0.108260  \n",
              "unemployed     5157.156509  0.142012  \n",
              "unknown        5172.931818  0.112121  "
            ],
            "text/html": [
              "\n",
              "  <div id=\"df-be83efae-2b79-4a8d-a064-b433496096e8\">\n",
              "    <div class=\"colab-df-container\">\n",
              "      <div>\n",
              "<style scoped>\n",
              "    .dataframe tbody tr th:only-of-type {\n",
              "        vertical-align: middle;\n",
              "    }\n",
              "\n",
              "    .dataframe tbody tr th {\n",
              "        vertical-align: top;\n",
              "    }\n",
              "\n",
              "    .dataframe thead th {\n",
              "        text-align: right;\n",
              "    }\n",
              "</style>\n",
              "<table border=\"1\" class=\"dataframe\">\n",
              "  <thead>\n",
              "    <tr style=\"text-align: right;\">\n",
              "      <th></th>\n",
              "      <th>age</th>\n",
              "      <th>duration</th>\n",
              "      <th>campaign</th>\n",
              "      <th>pdays</th>\n",
              "      <th>previous</th>\n",
              "      <th>emp_var_rate</th>\n",
              "      <th>cons_price_idx</th>\n",
              "      <th>cons_conf_idx</th>\n",
              "      <th>euribor3m</th>\n",
              "      <th>nr_employed</th>\n",
              "      <th>y</th>\n",
              "    </tr>\n",
              "    <tr>\n",
              "      <th>job</th>\n",
              "      <th></th>\n",
              "      <th></th>\n",
              "      <th></th>\n",
              "      <th></th>\n",
              "      <th></th>\n",
              "      <th></th>\n",
              "      <th></th>\n",
              "      <th></th>\n",
              "      <th></th>\n",
              "      <th></th>\n",
              "      <th></th>\n",
              "    </tr>\n",
              "  </thead>\n",
              "  <tbody>\n",
              "    <tr>\n",
              "      <th>admin.</th>\n",
              "      <td>38.187296</td>\n",
              "      <td>254.312128</td>\n",
              "      <td>2.623489</td>\n",
              "      <td>954.319229</td>\n",
              "      <td>0.189023</td>\n",
              "      <td>0.015563</td>\n",
              "      <td>93.534054</td>\n",
              "      <td>-40.245433</td>\n",
              "      <td>3.550274</td>\n",
              "      <td>5164.125350</td>\n",
              "      <td>0.129726</td>\n",
              "    </tr>\n",
              "    <tr>\n",
              "      <th>blue-collar</th>\n",
              "      <td>39.555760</td>\n",
              "      <td>264.542360</td>\n",
              "      <td>2.558461</td>\n",
              "      <td>985.160363</td>\n",
              "      <td>0.122542</td>\n",
              "      <td>0.248995</td>\n",
              "      <td>93.656656</td>\n",
              "      <td>-41.375816</td>\n",
              "      <td>3.771996</td>\n",
              "      <td>5175.615150</td>\n",
              "      <td>0.068943</td>\n",
              "    </tr>\n",
              "    <tr>\n",
              "      <th>entrepreneur</th>\n",
              "      <td>41.723214</td>\n",
              "      <td>263.267857</td>\n",
              "      <td>2.535714</td>\n",
              "      <td>981.267170</td>\n",
              "      <td>0.138736</td>\n",
              "      <td>0.158723</td>\n",
              "      <td>93.605372</td>\n",
              "      <td>-41.283654</td>\n",
              "      <td>3.791120</td>\n",
              "      <td>5176.313530</td>\n",
              "      <td>0.085165</td>\n",
              "    </tr>\n",
              "    <tr>\n",
              "      <th>housemaid</th>\n",
              "      <td>45.500000</td>\n",
              "      <td>250.454717</td>\n",
              "      <td>2.639623</td>\n",
              "      <td>960.579245</td>\n",
              "      <td>0.137736</td>\n",
              "      <td>0.433396</td>\n",
              "      <td>93.676576</td>\n",
              "      <td>-39.495283</td>\n",
              "      <td>4.009645</td>\n",
              "      <td>5179.529623</td>\n",
              "      <td>0.100000</td>\n",
              "    </tr>\n",
              "    <tr>\n",
              "      <th>management</th>\n",
              "      <td>42.362859</td>\n",
              "      <td>257.058140</td>\n",
              "      <td>2.476060</td>\n",
              "      <td>962.647059</td>\n",
              "      <td>0.185021</td>\n",
              "      <td>-0.012688</td>\n",
              "      <td>93.522755</td>\n",
              "      <td>-40.489466</td>\n",
              "      <td>3.611316</td>\n",
              "      <td>5166.650513</td>\n",
              "      <td>0.112175</td>\n",
              "    </tr>\n",
              "    <tr>\n",
              "      <th>retired</th>\n",
              "      <td>62.027326</td>\n",
              "      <td>273.712209</td>\n",
              "      <td>2.476744</td>\n",
              "      <td>897.936047</td>\n",
              "      <td>0.327326</td>\n",
              "      <td>-0.698314</td>\n",
              "      <td>93.430786</td>\n",
              "      <td>-38.573081</td>\n",
              "      <td>2.770066</td>\n",
              "      <td>5122.262151</td>\n",
              "      <td>0.252326</td>\n",
              "    </tr>\n",
              "    <tr>\n",
              "      <th>self-employed</th>\n",
              "      <td>39.949331</td>\n",
              "      <td>264.142153</td>\n",
              "      <td>2.660802</td>\n",
              "      <td>976.621393</td>\n",
              "      <td>0.143561</td>\n",
              "      <td>0.094159</td>\n",
              "      <td>93.559982</td>\n",
              "      <td>-40.488107</td>\n",
              "      <td>3.689376</td>\n",
              "      <td>5170.674384</td>\n",
              "      <td>0.104856</td>\n",
              "    </tr>\n",
              "    <tr>\n",
              "      <th>services</th>\n",
              "      <td>37.926430</td>\n",
              "      <td>258.398085</td>\n",
              "      <td>2.587805</td>\n",
              "      <td>979.974049</td>\n",
              "      <td>0.154951</td>\n",
              "      <td>0.175359</td>\n",
              "      <td>93.634659</td>\n",
              "      <td>-41.290048</td>\n",
              "      <td>3.699187</td>\n",
              "      <td>5171.600126</td>\n",
              "      <td>0.081381</td>\n",
              "    </tr>\n",
              "    <tr>\n",
              "      <th>student</th>\n",
              "      <td>25.894857</td>\n",
              "      <td>283.683429</td>\n",
              "      <td>2.104000</td>\n",
              "      <td>840.217143</td>\n",
              "      <td>0.524571</td>\n",
              "      <td>-1.408000</td>\n",
              "      <td>93.331613</td>\n",
              "      <td>-40.187543</td>\n",
              "      <td>1.884224</td>\n",
              "      <td>5085.939086</td>\n",
              "      <td>0.314286</td>\n",
              "    </tr>\n",
              "    <tr>\n",
              "      <th>technician</th>\n",
              "      <td>38.507638</td>\n",
              "      <td>250.232241</td>\n",
              "      <td>2.577339</td>\n",
              "      <td>964.408127</td>\n",
              "      <td>0.153789</td>\n",
              "      <td>0.274566</td>\n",
              "      <td>93.561471</td>\n",
              "      <td>-39.927569</td>\n",
              "      <td>3.820401</td>\n",
              "      <td>5175.648391</td>\n",
              "      <td>0.108260</td>\n",
              "    </tr>\n",
              "    <tr>\n",
              "      <th>unemployed</th>\n",
              "      <td>39.733728</td>\n",
              "      <td>249.451677</td>\n",
              "      <td>2.564103</td>\n",
              "      <td>935.316568</td>\n",
              "      <td>0.199211</td>\n",
              "      <td>-0.111736</td>\n",
              "      <td>93.563781</td>\n",
              "      <td>-40.007594</td>\n",
              "      <td>3.466583</td>\n",
              "      <td>5157.156509</td>\n",
              "      <td>0.142012</td>\n",
              "    </tr>\n",
              "    <tr>\n",
              "      <th>unknown</th>\n",
              "      <td>45.563636</td>\n",
              "      <td>239.675758</td>\n",
              "      <td>2.648485</td>\n",
              "      <td>938.727273</td>\n",
              "      <td>0.154545</td>\n",
              "      <td>0.357879</td>\n",
              "      <td>93.718942</td>\n",
              "      <td>-38.797879</td>\n",
              "      <td>3.949033</td>\n",
              "      <td>5172.931818</td>\n",
              "      <td>0.112121</td>\n",
              "    </tr>\n",
              "  </tbody>\n",
              "</table>\n",
              "</div>\n",
              "      <button class=\"colab-df-convert\" onclick=\"convertToInteractive('df-be83efae-2b79-4a8d-a064-b433496096e8')\"\n",
              "              title=\"Convert this dataframe to an interactive table.\"\n",
              "              style=\"display:none;\">\n",
              "        \n",
              "  <svg xmlns=\"http://www.w3.org/2000/svg\" height=\"24px\"viewBox=\"0 0 24 24\"\n",
              "       width=\"24px\">\n",
              "    <path d=\"M0 0h24v24H0V0z\" fill=\"none\"/>\n",
              "    <path d=\"M18.56 5.44l.94 2.06.94-2.06 2.06-.94-2.06-.94-.94-2.06-.94 2.06-2.06.94zm-11 1L8.5 8.5l.94-2.06 2.06-.94-2.06-.94L8.5 2.5l-.94 2.06-2.06.94zm10 10l.94 2.06.94-2.06 2.06-.94-2.06-.94-.94-2.06-.94 2.06-2.06.94z\"/><path d=\"M17.41 7.96l-1.37-1.37c-.4-.4-.92-.59-1.43-.59-.52 0-1.04.2-1.43.59L10.3 9.45l-7.72 7.72c-.78.78-.78 2.05 0 2.83L4 21.41c.39.39.9.59 1.41.59.51 0 1.02-.2 1.41-.59l7.78-7.78 2.81-2.81c.8-.78.8-2.07 0-2.86zM5.41 20L4 18.59l7.72-7.72 1.47 1.35L5.41 20z\"/>\n",
              "  </svg>\n",
              "      </button>\n",
              "      \n",
              "  <style>\n",
              "    .colab-df-container {\n",
              "      display:flex;\n",
              "      flex-wrap:wrap;\n",
              "      gap: 12px;\n",
              "    }\n",
              "\n",
              "    .colab-df-convert {\n",
              "      background-color: #E8F0FE;\n",
              "      border: none;\n",
              "      border-radius: 50%;\n",
              "      cursor: pointer;\n",
              "      display: none;\n",
              "      fill: #1967D2;\n",
              "      height: 32px;\n",
              "      padding: 0 0 0 0;\n",
              "      width: 32px;\n",
              "    }\n",
              "\n",
              "    .colab-df-convert:hover {\n",
              "      background-color: #E2EBFA;\n",
              "      box-shadow: 0px 1px 2px rgba(60, 64, 67, 0.3), 0px 1px 3px 1px rgba(60, 64, 67, 0.15);\n",
              "      fill: #174EA6;\n",
              "    }\n",
              "\n",
              "    [theme=dark] .colab-df-convert {\n",
              "      background-color: #3B4455;\n",
              "      fill: #D2E3FC;\n",
              "    }\n",
              "\n",
              "    [theme=dark] .colab-df-convert:hover {\n",
              "      background-color: #434B5C;\n",
              "      box-shadow: 0px 1px 3px 1px rgba(0, 0, 0, 0.15);\n",
              "      filter: drop-shadow(0px 1px 2px rgba(0, 0, 0, 0.3));\n",
              "      fill: #FFFFFF;\n",
              "    }\n",
              "  </style>\n",
              "\n",
              "      <script>\n",
              "        const buttonEl =\n",
              "          document.querySelector('#df-be83efae-2b79-4a8d-a064-b433496096e8 button.colab-df-convert');\n",
              "        buttonEl.style.display =\n",
              "          google.colab.kernel.accessAllowed ? 'block' : 'none';\n",
              "\n",
              "        async function convertToInteractive(key) {\n",
              "          const element = document.querySelector('#df-be83efae-2b79-4a8d-a064-b433496096e8');\n",
              "          const dataTable =\n",
              "            await google.colab.kernel.invokeFunction('convertToInteractive',\n",
              "                                                     [key], {});\n",
              "          if (!dataTable) return;\n",
              "\n",
              "          const docLinkHtml = 'Like what you see? Visit the ' +\n",
              "            '<a target=\"_blank\" href=https://colab.research.google.com/notebooks/data_table.ipynb>data table notebook</a>'\n",
              "            + ' to learn more about interactive tables.';\n",
              "          element.innerHTML = '';\n",
              "          dataTable['output_type'] = 'display_data';\n",
              "          await google.colab.output.renderOutput(dataTable, element);\n",
              "          const docLink = document.createElement('div');\n",
              "          docLink.innerHTML = docLinkHtml;\n",
              "          element.appendChild(docLink);\n",
              "        }\n",
              "      </script>\n",
              "    </div>\n",
              "  </div>\n",
              "  "
            ]
          },
          "metadata": {},
          "execution_count": 13
        }
      ]
    },
    {
      "cell_type": "code",
      "source": [
        "df.groupby('marital').mean()"
      ],
      "metadata": {
        "colab": {
          "base_uri": "https://localhost:8080/",
          "height": 248
        },
        "id": "-jaQFaVapfiL",
        "outputId": "724506b6-1b42-46d8-be69-a489c8eab9e4"
      },
      "execution_count": null,
      "outputs": [
        {
          "output_type": "execute_result",
          "data": {
            "text/plain": [
              "                age    duration  campaign       pdays  previous  emp_var_rate  \\\n",
              "marital                                                                         \n",
              "divorced  44.899393  253.790330   2.61340  968.639853  0.168690      0.163985   \n",
              "married   42.307165  257.438623   2.57281  967.247673  0.155608      0.183625   \n",
              "single    33.158714  261.524378   2.53380  949.909578  0.211359     -0.167989   \n",
              "unknown   40.275000  312.725000   3.18750  937.100000  0.275000     -0.221250   \n",
              "\n",
              "          cons_price_idx  cons_conf_idx  euribor3m  nr_employed         y  \n",
              "marital                                                                    \n",
              "divorced       93.606563     -40.707069   3.715603  5170.878643  0.103209  \n",
              "married        93.597367     -40.270659   3.745832  5171.848772  0.101573  \n",
              "single         93.517300     -40.918698   3.317447  5155.199265  0.140041  \n",
              "unknown        93.471250     -40.820000   3.313038  5157.393750  0.150000  "
            ],
            "text/html": [
              "\n",
              "  <div id=\"df-5d8783f3-af63-4f3b-a051-28ecdb215024\">\n",
              "    <div class=\"colab-df-container\">\n",
              "      <div>\n",
              "<style scoped>\n",
              "    .dataframe tbody tr th:only-of-type {\n",
              "        vertical-align: middle;\n",
              "    }\n",
              "\n",
              "    .dataframe tbody tr th {\n",
              "        vertical-align: top;\n",
              "    }\n",
              "\n",
              "    .dataframe thead th {\n",
              "        text-align: right;\n",
              "    }\n",
              "</style>\n",
              "<table border=\"1\" class=\"dataframe\">\n",
              "  <thead>\n",
              "    <tr style=\"text-align: right;\">\n",
              "      <th></th>\n",
              "      <th>age</th>\n",
              "      <th>duration</th>\n",
              "      <th>campaign</th>\n",
              "      <th>pdays</th>\n",
              "      <th>previous</th>\n",
              "      <th>emp_var_rate</th>\n",
              "      <th>cons_price_idx</th>\n",
              "      <th>cons_conf_idx</th>\n",
              "      <th>euribor3m</th>\n",
              "      <th>nr_employed</th>\n",
              "      <th>y</th>\n",
              "    </tr>\n",
              "    <tr>\n",
              "      <th>marital</th>\n",
              "      <th></th>\n",
              "      <th></th>\n",
              "      <th></th>\n",
              "      <th></th>\n",
              "      <th></th>\n",
              "      <th></th>\n",
              "      <th></th>\n",
              "      <th></th>\n",
              "      <th></th>\n",
              "      <th></th>\n",
              "      <th></th>\n",
              "    </tr>\n",
              "  </thead>\n",
              "  <tbody>\n",
              "    <tr>\n",
              "      <th>divorced</th>\n",
              "      <td>44.899393</td>\n",
              "      <td>253.790330</td>\n",
              "      <td>2.61340</td>\n",
              "      <td>968.639853</td>\n",
              "      <td>0.168690</td>\n",
              "      <td>0.163985</td>\n",
              "      <td>93.606563</td>\n",
              "      <td>-40.707069</td>\n",
              "      <td>3.715603</td>\n",
              "      <td>5170.878643</td>\n",
              "      <td>0.103209</td>\n",
              "    </tr>\n",
              "    <tr>\n",
              "      <th>married</th>\n",
              "      <td>42.307165</td>\n",
              "      <td>257.438623</td>\n",
              "      <td>2.57281</td>\n",
              "      <td>967.247673</td>\n",
              "      <td>0.155608</td>\n",
              "      <td>0.183625</td>\n",
              "      <td>93.597367</td>\n",
              "      <td>-40.270659</td>\n",
              "      <td>3.745832</td>\n",
              "      <td>5171.848772</td>\n",
              "      <td>0.101573</td>\n",
              "    </tr>\n",
              "    <tr>\n",
              "      <th>single</th>\n",
              "      <td>33.158714</td>\n",
              "      <td>261.524378</td>\n",
              "      <td>2.53380</td>\n",
              "      <td>949.909578</td>\n",
              "      <td>0.211359</td>\n",
              "      <td>-0.167989</td>\n",
              "      <td>93.517300</td>\n",
              "      <td>-40.918698</td>\n",
              "      <td>3.317447</td>\n",
              "      <td>5155.199265</td>\n",
              "      <td>0.140041</td>\n",
              "    </tr>\n",
              "    <tr>\n",
              "      <th>unknown</th>\n",
              "      <td>40.275000</td>\n",
              "      <td>312.725000</td>\n",
              "      <td>3.18750</td>\n",
              "      <td>937.100000</td>\n",
              "      <td>0.275000</td>\n",
              "      <td>-0.221250</td>\n",
              "      <td>93.471250</td>\n",
              "      <td>-40.820000</td>\n",
              "      <td>3.313038</td>\n",
              "      <td>5157.393750</td>\n",
              "      <td>0.150000</td>\n",
              "    </tr>\n",
              "  </tbody>\n",
              "</table>\n",
              "</div>\n",
              "      <button class=\"colab-df-convert\" onclick=\"convertToInteractive('df-5d8783f3-af63-4f3b-a051-28ecdb215024')\"\n",
              "              title=\"Convert this dataframe to an interactive table.\"\n",
              "              style=\"display:none;\">\n",
              "        \n",
              "  <svg xmlns=\"http://www.w3.org/2000/svg\" height=\"24px\"viewBox=\"0 0 24 24\"\n",
              "       width=\"24px\">\n",
              "    <path d=\"M0 0h24v24H0V0z\" fill=\"none\"/>\n",
              "    <path d=\"M18.56 5.44l.94 2.06.94-2.06 2.06-.94-2.06-.94-.94-2.06-.94 2.06-2.06.94zm-11 1L8.5 8.5l.94-2.06 2.06-.94-2.06-.94L8.5 2.5l-.94 2.06-2.06.94zm10 10l.94 2.06.94-2.06 2.06-.94-2.06-.94-.94-2.06-.94 2.06-2.06.94z\"/><path d=\"M17.41 7.96l-1.37-1.37c-.4-.4-.92-.59-1.43-.59-.52 0-1.04.2-1.43.59L10.3 9.45l-7.72 7.72c-.78.78-.78 2.05 0 2.83L4 21.41c.39.39.9.59 1.41.59.51 0 1.02-.2 1.41-.59l7.78-7.78 2.81-2.81c.8-.78.8-2.07 0-2.86zM5.41 20L4 18.59l7.72-7.72 1.47 1.35L5.41 20z\"/>\n",
              "  </svg>\n",
              "      </button>\n",
              "      \n",
              "  <style>\n",
              "    .colab-df-container {\n",
              "      display:flex;\n",
              "      flex-wrap:wrap;\n",
              "      gap: 12px;\n",
              "    }\n",
              "\n",
              "    .colab-df-convert {\n",
              "      background-color: #E8F0FE;\n",
              "      border: none;\n",
              "      border-radius: 50%;\n",
              "      cursor: pointer;\n",
              "      display: none;\n",
              "      fill: #1967D2;\n",
              "      height: 32px;\n",
              "      padding: 0 0 0 0;\n",
              "      width: 32px;\n",
              "    }\n",
              "\n",
              "    .colab-df-convert:hover {\n",
              "      background-color: #E2EBFA;\n",
              "      box-shadow: 0px 1px 2px rgba(60, 64, 67, 0.3), 0px 1px 3px 1px rgba(60, 64, 67, 0.15);\n",
              "      fill: #174EA6;\n",
              "    }\n",
              "\n",
              "    [theme=dark] .colab-df-convert {\n",
              "      background-color: #3B4455;\n",
              "      fill: #D2E3FC;\n",
              "    }\n",
              "\n",
              "    [theme=dark] .colab-df-convert:hover {\n",
              "      background-color: #434B5C;\n",
              "      box-shadow: 0px 1px 3px 1px rgba(0, 0, 0, 0.15);\n",
              "      filter: drop-shadow(0px 1px 2px rgba(0, 0, 0, 0.3));\n",
              "      fill: #FFFFFF;\n",
              "    }\n",
              "  </style>\n",
              "\n",
              "      <script>\n",
              "        const buttonEl =\n",
              "          document.querySelector('#df-5d8783f3-af63-4f3b-a051-28ecdb215024 button.colab-df-convert');\n",
              "        buttonEl.style.display =\n",
              "          google.colab.kernel.accessAllowed ? 'block' : 'none';\n",
              "\n",
              "        async function convertToInteractive(key) {\n",
              "          const element = document.querySelector('#df-5d8783f3-af63-4f3b-a051-28ecdb215024');\n",
              "          const dataTable =\n",
              "            await google.colab.kernel.invokeFunction('convertToInteractive',\n",
              "                                                     [key], {});\n",
              "          if (!dataTable) return;\n",
              "\n",
              "          const docLinkHtml = 'Like what you see? Visit the ' +\n",
              "            '<a target=\"_blank\" href=https://colab.research.google.com/notebooks/data_table.ipynb>data table notebook</a>'\n",
              "            + ' to learn more about interactive tables.';\n",
              "          element.innerHTML = '';\n",
              "          dataTable['output_type'] = 'display_data';\n",
              "          await google.colab.output.renderOutput(dataTable, element);\n",
              "          const docLink = document.createElement('div');\n",
              "          docLink.innerHTML = docLinkHtml;\n",
              "          element.appendChild(docLink);\n",
              "        }\n",
              "      </script>\n",
              "    </div>\n",
              "  </div>\n",
              "  "
            ]
          },
          "metadata": {},
          "execution_count": 15
        }
      ]
    },
    {
      "cell_type": "code",
      "source": [
        "df.groupby('education').mean()"
      ],
      "metadata": {
        "colab": {
          "base_uri": "https://localhost:8080/",
          "height": 330
        },
        "id": "JsriZ3fbpq1T",
        "outputId": "c7781db5-4e6c-49fb-a4d1-095157831c1d"
      },
      "execution_count": null,
      "outputs": [
        {
          "output_type": "execute_result",
          "data": {
            "text/plain": [
              "                           age    duration  campaign       pdays  previous  \\\n",
              "education                                                                    \n",
              "Basic                42.163910  263.043874  2.559498  974.877967  0.141053   \n",
              "high.school          37.998213  260.886810  2.568576  964.358382  0.185917   \n",
              "illiterate           48.500000  276.777778  2.277778  943.833333  0.111111   \n",
              "professional.course  40.080107  252.533855  2.586115  960.765974  0.163075   \n",
              "university.degree    38.879191  253.223373  2.563527  951.807692  0.192390   \n",
              "unknown              43.481225  262.390526  2.596187  942.830734  0.226459   \n",
              "\n",
              "                     emp_var_rate  cons_price_idx  cons_conf_idx  euribor3m  \\\n",
              "education                                                                     \n",
              "Basic                    0.191329       93.639933     -40.927595   3.729654   \n",
              "high.school              0.032937       93.584857     -40.940641   3.556157   \n",
              "illiterate              -0.133333       93.317333     -39.950000   3.516556   \n",
              "professional.course      0.173012       93.569864     -40.124108   3.710457   \n",
              "university.degree       -0.028090       93.493466     -39.975805   3.529663   \n",
              "unknown                  0.059099       93.658615     -39.877816   3.571098   \n",
              "\n",
              "                     nr_employed         y  \n",
              "education                                   \n",
              "Basic                5172.014113  0.087029  \n",
              "high.school          5164.994735  0.108355  \n",
              "illiterate           5171.777778  0.222222  \n",
              "professional.course  5170.155979  0.113485  \n",
              "university.degree    5163.226298  0.137245  \n",
              "unknown              5159.549509  0.145003  "
            ],
            "text/html": [
              "\n",
              "  <div id=\"df-ed261622-53ef-4ecf-9222-d584a19f6a4c\">\n",
              "    <div class=\"colab-df-container\">\n",
              "      <div>\n",
              "<style scoped>\n",
              "    .dataframe tbody tr th:only-of-type {\n",
              "        vertical-align: middle;\n",
              "    }\n",
              "\n",
              "    .dataframe tbody tr th {\n",
              "        vertical-align: top;\n",
              "    }\n",
              "\n",
              "    .dataframe thead th {\n",
              "        text-align: right;\n",
              "    }\n",
              "</style>\n",
              "<table border=\"1\" class=\"dataframe\">\n",
              "  <thead>\n",
              "    <tr style=\"text-align: right;\">\n",
              "      <th></th>\n",
              "      <th>age</th>\n",
              "      <th>duration</th>\n",
              "      <th>campaign</th>\n",
              "      <th>pdays</th>\n",
              "      <th>previous</th>\n",
              "      <th>emp_var_rate</th>\n",
              "      <th>cons_price_idx</th>\n",
              "      <th>cons_conf_idx</th>\n",
              "      <th>euribor3m</th>\n",
              "      <th>nr_employed</th>\n",
              "      <th>y</th>\n",
              "    </tr>\n",
              "    <tr>\n",
              "      <th>education</th>\n",
              "      <th></th>\n",
              "      <th></th>\n",
              "      <th></th>\n",
              "      <th></th>\n",
              "      <th></th>\n",
              "      <th></th>\n",
              "      <th></th>\n",
              "      <th></th>\n",
              "      <th></th>\n",
              "      <th></th>\n",
              "      <th></th>\n",
              "    </tr>\n",
              "  </thead>\n",
              "  <tbody>\n",
              "    <tr>\n",
              "      <th>Basic</th>\n",
              "      <td>42.163910</td>\n",
              "      <td>263.043874</td>\n",
              "      <td>2.559498</td>\n",
              "      <td>974.877967</td>\n",
              "      <td>0.141053</td>\n",
              "      <td>0.191329</td>\n",
              "      <td>93.639933</td>\n",
              "      <td>-40.927595</td>\n",
              "      <td>3.729654</td>\n",
              "      <td>5172.014113</td>\n",
              "      <td>0.087029</td>\n",
              "    </tr>\n",
              "    <tr>\n",
              "      <th>high.school</th>\n",
              "      <td>37.998213</td>\n",
              "      <td>260.886810</td>\n",
              "      <td>2.568576</td>\n",
              "      <td>964.358382</td>\n",
              "      <td>0.185917</td>\n",
              "      <td>0.032937</td>\n",
              "      <td>93.584857</td>\n",
              "      <td>-40.940641</td>\n",
              "      <td>3.556157</td>\n",
              "      <td>5164.994735</td>\n",
              "      <td>0.108355</td>\n",
              "    </tr>\n",
              "    <tr>\n",
              "      <th>illiterate</th>\n",
              "      <td>48.500000</td>\n",
              "      <td>276.777778</td>\n",
              "      <td>2.277778</td>\n",
              "      <td>943.833333</td>\n",
              "      <td>0.111111</td>\n",
              "      <td>-0.133333</td>\n",
              "      <td>93.317333</td>\n",
              "      <td>-39.950000</td>\n",
              "      <td>3.516556</td>\n",
              "      <td>5171.777778</td>\n",
              "      <td>0.222222</td>\n",
              "    </tr>\n",
              "    <tr>\n",
              "      <th>professional.course</th>\n",
              "      <td>40.080107</td>\n",
              "      <td>252.533855</td>\n",
              "      <td>2.586115</td>\n",
              "      <td>960.765974</td>\n",
              "      <td>0.163075</td>\n",
              "      <td>0.173012</td>\n",
              "      <td>93.569864</td>\n",
              "      <td>-40.124108</td>\n",
              "      <td>3.710457</td>\n",
              "      <td>5170.155979</td>\n",
              "      <td>0.113485</td>\n",
              "    </tr>\n",
              "    <tr>\n",
              "      <th>university.degree</th>\n",
              "      <td>38.879191</td>\n",
              "      <td>253.223373</td>\n",
              "      <td>2.563527</td>\n",
              "      <td>951.807692</td>\n",
              "      <td>0.192390</td>\n",
              "      <td>-0.028090</td>\n",
              "      <td>93.493466</td>\n",
              "      <td>-39.975805</td>\n",
              "      <td>3.529663</td>\n",
              "      <td>5163.226298</td>\n",
              "      <td>0.137245</td>\n",
              "    </tr>\n",
              "    <tr>\n",
              "      <th>unknown</th>\n",
              "      <td>43.481225</td>\n",
              "      <td>262.390526</td>\n",
              "      <td>2.596187</td>\n",
              "      <td>942.830734</td>\n",
              "      <td>0.226459</td>\n",
              "      <td>0.059099</td>\n",
              "      <td>93.658615</td>\n",
              "      <td>-39.877816</td>\n",
              "      <td>3.571098</td>\n",
              "      <td>5159.549509</td>\n",
              "      <td>0.145003</td>\n",
              "    </tr>\n",
              "  </tbody>\n",
              "</table>\n",
              "</div>\n",
              "      <button class=\"colab-df-convert\" onclick=\"convertToInteractive('df-ed261622-53ef-4ecf-9222-d584a19f6a4c')\"\n",
              "              title=\"Convert this dataframe to an interactive table.\"\n",
              "              style=\"display:none;\">\n",
              "        \n",
              "  <svg xmlns=\"http://www.w3.org/2000/svg\" height=\"24px\"viewBox=\"0 0 24 24\"\n",
              "       width=\"24px\">\n",
              "    <path d=\"M0 0h24v24H0V0z\" fill=\"none\"/>\n",
              "    <path d=\"M18.56 5.44l.94 2.06.94-2.06 2.06-.94-2.06-.94-.94-2.06-.94 2.06-2.06.94zm-11 1L8.5 8.5l.94-2.06 2.06-.94-2.06-.94L8.5 2.5l-.94 2.06-2.06.94zm10 10l.94 2.06.94-2.06 2.06-.94-2.06-.94-.94-2.06-.94 2.06-2.06.94z\"/><path d=\"M17.41 7.96l-1.37-1.37c-.4-.4-.92-.59-1.43-.59-.52 0-1.04.2-1.43.59L10.3 9.45l-7.72 7.72c-.78.78-.78 2.05 0 2.83L4 21.41c.39.39.9.59 1.41.59.51 0 1.02-.2 1.41-.59l7.78-7.78 2.81-2.81c.8-.78.8-2.07 0-2.86zM5.41 20L4 18.59l7.72-7.72 1.47 1.35L5.41 20z\"/>\n",
              "  </svg>\n",
              "      </button>\n",
              "      \n",
              "  <style>\n",
              "    .colab-df-container {\n",
              "      display:flex;\n",
              "      flex-wrap:wrap;\n",
              "      gap: 12px;\n",
              "    }\n",
              "\n",
              "    .colab-df-convert {\n",
              "      background-color: #E8F0FE;\n",
              "      border: none;\n",
              "      border-radius: 50%;\n",
              "      cursor: pointer;\n",
              "      display: none;\n",
              "      fill: #1967D2;\n",
              "      height: 32px;\n",
              "      padding: 0 0 0 0;\n",
              "      width: 32px;\n",
              "    }\n",
              "\n",
              "    .colab-df-convert:hover {\n",
              "      background-color: #E2EBFA;\n",
              "      box-shadow: 0px 1px 2px rgba(60, 64, 67, 0.3), 0px 1px 3px 1px rgba(60, 64, 67, 0.15);\n",
              "      fill: #174EA6;\n",
              "    }\n",
              "\n",
              "    [theme=dark] .colab-df-convert {\n",
              "      background-color: #3B4455;\n",
              "      fill: #D2E3FC;\n",
              "    }\n",
              "\n",
              "    [theme=dark] .colab-df-convert:hover {\n",
              "      background-color: #434B5C;\n",
              "      box-shadow: 0px 1px 3px 1px rgba(0, 0, 0, 0.15);\n",
              "      filter: drop-shadow(0px 1px 2px rgba(0, 0, 0, 0.3));\n",
              "      fill: #FFFFFF;\n",
              "    }\n",
              "  </style>\n",
              "\n",
              "      <script>\n",
              "        const buttonEl =\n",
              "          document.querySelector('#df-ed261622-53ef-4ecf-9222-d584a19f6a4c button.colab-df-convert');\n",
              "        buttonEl.style.display =\n",
              "          google.colab.kernel.accessAllowed ? 'block' : 'none';\n",
              "\n",
              "        async function convertToInteractive(key) {\n",
              "          const element = document.querySelector('#df-ed261622-53ef-4ecf-9222-d584a19f6a4c');\n",
              "          const dataTable =\n",
              "            await google.colab.kernel.invokeFunction('convertToInteractive',\n",
              "                                                     [key], {});\n",
              "          if (!dataTable) return;\n",
              "\n",
              "          const docLinkHtml = 'Like what you see? Visit the ' +\n",
              "            '<a target=\"_blank\" href=https://colab.research.google.com/notebooks/data_table.ipynb>data table notebook</a>'\n",
              "            + ' to learn more about interactive tables.';\n",
              "          element.innerHTML = '';\n",
              "          dataTable['output_type'] = 'display_data';\n",
              "          await google.colab.output.renderOutput(dataTable, element);\n",
              "          const docLink = document.createElement('div');\n",
              "          docLink.innerHTML = docLinkHtml;\n",
              "          element.appendChild(docLink);\n",
              "        }\n",
              "      </script>\n",
              "    </div>\n",
              "  </div>\n",
              "  "
            ]
          },
          "metadata": {},
          "execution_count": 16
        }
      ]
    },
    {
      "cell_type": "markdown",
      "source": [
        "Capture relation of job title and purchasing tendency"
      ],
      "metadata": {
        "id": "2_tk1wRqqo2B"
      }
    },
    {
      "cell_type": "code",
      "source": [
        "%matplotlib inline\n",
        "pd.crosstab(df.job,df.y).plot(kind='bar')\n",
        "plt.title('Purchase Frequency for Job Title')\n",
        "plt.xlabel('Job')\n",
        "plt.ylabel('Frequency of Purchase')"
      ],
      "metadata": {
        "colab": {
          "base_uri": "https://localhost:8080/",
          "height": 386
        },
        "id": "_RuETIcjqvFS",
        "outputId": "7595e19a-73dc-4a7b-a388-39f71f672c1d"
      },
      "execution_count": null,
      "outputs": [
        {
          "output_type": "execute_result",
          "data": {
            "text/plain": [
              "Text(0, 0.5, 'Frequency of Purchase')"
            ]
          },
          "metadata": {},
          "execution_count": 17
        },
        {
          "output_type": "display_data",
          "data": {
            "text/plain": [
              "<Figure size 432x288 with 1 Axes>"
            ],
            "image/png": "[encoded data removed]"
          },
          "metadata": {
            "needs_background": "light"
          }
        }
      ]
    },
    {
      "cell_type": "markdown",
      "source": [
        "The frequency of purchase of the deposit depends a great deal on the job title. Thus, the job title can be a good predictor of the outcome variable."
      ],
      "metadata": {
        "id": "kSvpyBEirIL5"
      }
    },
    {
      "cell_type": "code",
      "source": [
        "table=pd.crosstab(df.marital,df.y)\n",
        "table.div(table.sum(1).astype(float), axis=0).plot(kind='bar', stacked=True)\n",
        "plt.title('Stacked Bar Chart of Marital Status vs Purchase')\n",
        "plt.xlabel('Marital Status')\n",
        "plt.ylabel('Proportion of Customers')"
      ],
      "metadata": {
        "colab": {
          "base_uri": "https://localhost:8080/",
          "height": 358
        },
        "id": "hnWJ8HMXreTo",
        "outputId": "ee7d789a-ffdc-43b4-ff7a-76a0dc5c31e6"
      },
      "execution_count": null,
      "outputs": [
        {
          "output_type": "execute_result",
          "data": {
            "text/plain": [
              "Text(0, 0.5, 'Proportion of Customers')"
            ]
          },
          "metadata": {},
          "execution_count": 18
        },
        {
          "output_type": "display_data",
          "data": {
            "text/plain": [
              "<Figure size 432x288 with 1 Axes>"
            ],
            "image/png": "[encoded data removed]"
          },
          "metadata": {
            "needs_background": "light"
          }
        }
      ]
    },
    {
      "cell_type": "markdown",
      "source": [
        "Marital status does not seem a strong predictor for the outcome variable"
      ],
      "metadata": {
        "id": "iFT8wrbFr1Se"
      }
    },
    {
      "cell_type": "code",
      "source": [
        "table=pd.crosstab(df.education,df.y)\n",
        "table.div(table.sum(1).astype(float), axis=0).plot(kind='bar', stacked=True)\n",
        "plt.title('Stacked Bar Chart of Education vs Purchase')\n",
        "plt.xlabel('Education')\n",
        "plt.ylabel('Proportion of Customers')"
      ],
      "metadata": {
        "colab": {
          "base_uri": "https://localhost:8080/",
          "height": 415
        },
        "id": "YsDLwI9Ar3-b",
        "outputId": "3cd8f378-803a-4db6-ad42-1ce01a13c389"
      },
      "execution_count": null,
      "outputs": [
        {
          "output_type": "execute_result",
          "data": {
            "text/plain": [
              "Text(0, 0.5, 'Proportion of Customers')"
            ]
          },
          "metadata": {},
          "execution_count": 19
        },
        {
          "output_type": "display_data",
          "data": {
            "text/plain": [
              "<Figure size 432x288 with 1 Axes>"
            ],
            "image/png": "[encoded data removed]"
          },
          "metadata": {
            "needs_background": "light"
          }
        }
      ]
    },
    {
      "cell_type": "markdown",
      "source": [
        "Education is a good predictor of the outcome variable."
      ],
      "metadata": {
        "id": "FCK9td_5u48M"
      }
    },
    {
      "cell_type": "code",
      "source": [
        "pd.crosstab(df.day_of_week,df.y).plot(kind='bar')\n",
        "plt.title('Purchase Frequency for Day of Week')\n",
        "plt.xlabel('Day of Week')\n",
        "plt.ylabel('Frequency of Purchase')\n",
        "plt.savefig('pur_dayofweek_bar')"
      ],
      "metadata": {
        "colab": {
          "base_uri": "https://localhost:8080/",
          "height": 315
        },
        "id": "_fFNyzfSuJt_",
        "outputId": "d8350f33-dabf-46ce-a1a7-f04821f11907"
      },
      "execution_count": null,
      "outputs": [
        {
          "output_type": "display_data",
          "data": {
            "text/plain": [
              "<Figure size 432x288 with 1 Axes>"
            ],
            "image/png": "[encoded data removed]"
          },
          "metadata": {
            "needs_background": "light"
          }
        }
      ]
    },
    {
      "cell_type": "markdown",
      "source": [
        "Day of week is not a good predictor of the outcome."
      ],
      "metadata": {
        "id": "PEMp6S0MvaV_"
      }
    },
    {
      "cell_type": "code",
      "source": [
        "pd.crosstab(df.month,df.y).plot(kind='bar')\n",
        "plt.title('Purchase Frequency for Month')\n",
        "plt.xlabel('Month')\n",
        "plt.ylabel('Frequency of Purchase')\n"
      ],
      "metadata": {
        "colab": {
          "base_uri": "https://localhost:8080/",
          "height": 332
        },
        "id": "ZY-38uswvVkv",
        "outputId": "b49eb64e-d617-42df-9875-a67bccaff476"
      },
      "execution_count": null,
      "outputs": [
        {
          "output_type": "execute_result",
          "data": {
            "text/plain": [
              "Text(0, 0.5, 'Frequency of Purchase')"
            ]
          },
          "metadata": {},
          "execution_count": 21
        },
        {
          "output_type": "display_data",
          "data": {
            "text/plain": [
              "<Figure size 432x288 with 1 Axes>"
            ],
            "image/png": "[encoded data removed]"
          },
          "metadata": {
            "needs_background": "light"
          }
        }
      ]
    },
    {
      "cell_type": "markdown",
      "source": [
        "Month is a good predictor of the outcome variable."
      ],
      "metadata": {
        "id": "wRvUi8ZJvuR8"
      }
    },
    {
      "cell_type": "code",
      "source": [
        "df.age.hist()\n",
        "plt.title('Histogram of Age')\n",
        "plt.xlabel('Age')\n",
        "plt.ylabel('Frequency')"
      ],
      "metadata": {
        "colab": {
          "base_uri": "https://localhost:8080/",
          "height": 318
        },
        "id": "GzhQXFBgv4mT",
        "outputId": "5e1d9ece-b38a-43bc-beea-b24c4a0be022"
      },
      "execution_count": null,
      "outputs": [
        {
          "output_type": "execute_result",
          "data": {
            "text/plain": [
              "Text(0, 0.5, 'Frequency')"
            ]
          },
          "metadata": {},
          "execution_count": 22
        },
        {
          "output_type": "display_data",
          "data": {
            "text/plain": [
              "<Figure size 432x288 with 1 Axes>"
            ],
            "image/png": "[encoded data removed]"
          },
          "metadata": {
            "needs_background": "light"
          }
        }
      ]
    },
    {
      "cell_type": "markdown",
      "source": [
        "Most of the customers of the bank in this dataset are in the age range of 30–40."
      ],
      "metadata": {
        "id": "-id0IGUjwEbm"
      }
    },
    {
      "cell_type": "code",
      "source": [
        "pd.crosstab(df.poutcome,df.y).plot(kind='bar')\n",
        "plt.title('Purchase Frequency for Poutcome')\n",
        "plt.xlabel('Poutcome')\n",
        "plt.ylabel('Frequency of Purchase')"
      ],
      "metadata": {
        "id": "tqXPBvevwJs_",
        "colab": {
          "base_uri": "https://localhost:8080/",
          "height": 373
        },
        "outputId": "5dfdcaa6-ceb1-4eab-95a6-fdda8fc0ce58"
      },
      "execution_count": null,
      "outputs": [
        {
          "output_type": "execute_result",
          "data": {
            "text/plain": [
              "Text(0, 0.5, 'Frequency of Purchase')"
            ]
          },
          "metadata": {},
          "execution_count": 23
        },
        {
          "output_type": "display_data",
          "data": {
            "text/plain": [
              "<Figure size 432x288 with 1 Axes>"
            ],
            "image/png": "[encoded data removed]"
          },
          "metadata": {
            "needs_background": "light"
          }
        }
      ]
    },
    {
      "cell_type": "markdown",
      "source": [
        "Poutcome seems to be a good predictor of the outcome variable."
      ],
      "metadata": {
        "id": "9yPH5UqMthlX"
      }
    },
    {
      "cell_type": "markdown",
      "source": [
        "**Create dummies from categorical variables**\n",
        "\n",
        "Classification doesnot understand catgeorical variables or features. So,we are encoding categorical variables to dummy binary using one hot encoding\n",
        "\n",
        "![An image](https://e6v4p8w2.rocketcdn.me/wp-content/uploads/2022/01/One-Hot-Encoding-for-Scikit-Learn-in-Python-Explained-1024x576.png)\n",
        "Image courtesy: https://datagy.io/pandas-get-dummies/ "
      ],
      "metadata": {
        "id": "H-VFElLstnUY"
      }
    },
    {
      "cell_type": "markdown",
      "source": [
        "Lets create all dummy variables from categorical columns and join to existing df. Later, we shall discard categorical columns and retain dummies for model building"
      ],
      "metadata": {
        "id": "72povcwdvdef"
      }
    },
    {
      "cell_type": "code",
      "source": [
        "cat_vars=['job','marital','education','default','housing','loan','contact','month','day_of_week','poutcome']\n",
        "for var in cat_vars:\n",
        "    cat_list='var'+'_'+var                                 # notation for dummy category\n",
        "    cat_list = pd.get_dummies(df[var], prefix=var)       # one hot encoding\n",
        "    df1=df.join(cat_list)                              # adding dummy vars to existing df\n",
        "    df=df1                                             # dummy + categorical columns\n",
        "\n",
        "cat_vars=['job','marital','education','default','housing','loan','contact','month','day_of_week','poutcome']\n",
        "all_feat=df.columns.values.tolist()                         # list of all features\n",
        "retained_feat=[i for i in all_feat if i not in cat_vars]    # reatined features with dummies in place of categorical features"
      ],
      "metadata": {
        "id": "Fk6GL7UkvOoz"
      },
      "execution_count": 4,
      "outputs": []
    },
    {
      "cell_type": "code",
      "source": [
        "df_final=df[retained_feat]\n",
        "df_final.columns.values"
      ],
      "metadata": {
        "colab": {
          "base_uri": "https://localhost:8080/"
        },
        "id": "ZPWe-kYIw0Be",
        "outputId": "fc8f5aae-0ae8-47e3-e304-b981ea399747"
      },
      "execution_count": 5,
      "outputs": [
        {
          "output_type": "execute_result",
          "data": {
            "text/plain": [
              "array(['age', 'duration', 'campaign', 'pdays', 'previous', 'emp_var_rate',\n",
              "       'cons_price_idx', 'cons_conf_idx', 'euribor3m', 'nr_employed', 'y',\n",
              "       'job_admin.', 'job_blue-collar', 'job_entrepreneur',\n",
              "       'job_housemaid', 'job_management', 'job_retired',\n",
              "       'job_self-employed', 'job_services', 'job_student',\n",
              "       'job_technician', 'job_unemployed', 'job_unknown',\n",
              "       'marital_divorced', 'marital_married', 'marital_single',\n",
              "       'marital_unknown', 'education_basic.4y', 'education_basic.6y',\n",
              "       'education_basic.9y', 'education_high.school',\n",
              "       'education_illiterate', 'education_professional.course',\n",
              "       'education_university.degree', 'education_unknown', 'default_no',\n",
              "       'default_unknown', 'default_yes', 'housing_no', 'housing_unknown',\n",
              "       'housing_yes', 'loan_no', 'loan_unknown', 'loan_yes',\n",
              "       'contact_cellular', 'contact_telephone', 'month_apr', 'month_aug',\n",
              "       'month_dec', 'month_jul', 'month_jun', 'month_mar', 'month_may',\n",
              "       'month_nov', 'month_oct', 'month_sep', 'day_of_week_fri',\n",
              "       'day_of_week_mon', 'day_of_week_thu', 'day_of_week_tue',\n",
              "       'day_of_week_wed', 'poutcome_failure', 'poutcome_nonexistent',\n",
              "       'poutcome_success'], dtype=object)"
            ]
          },
          "metadata": {},
          "execution_count": 5
        }
      ]
    },
    {
      "cell_type": "code",
      "source": [
        "df_final.head()"
      ],
      "metadata": {
        "colab": {
          "base_uri": "https://localhost:8080/",
          "height": 297
        },
        "id": "7iMny4x5xc6i",
        "outputId": "eef8f11e-bc39-48d4-960e-31dd1fdee702"
      },
      "execution_count": 6,
      "outputs": [
        {
          "output_type": "execute_result",
          "data": {
            "text/plain": [
              "   age  duration  campaign  pdays  previous  emp_var_rate  cons_price_idx  \\\n",
              "0   44       210         1    999         0           1.4          93.444   \n",
              "1   53       138         1    999         0          -0.1          93.200   \n",
              "2   28       339         3      6         2          -1.7          94.055   \n",
              "3   39       185         2    999         0          -1.8          93.075   \n",
              "4   55       137         1      3         1          -2.9          92.201   \n",
              "\n",
              "   cons_conf_idx  euribor3m  nr_employed  ...  month_oct  month_sep  \\\n",
              "0          -36.1      4.963       5228.1  ...          0          0   \n",
              "1          -42.0      4.021       5195.8  ...          0          0   \n",
              "2          -39.8      0.729       4991.6  ...          0          0   \n",
              "3          -47.1      1.405       5099.1  ...          0          0   \n",
              "4          -31.4      0.869       5076.2  ...          0          0   \n",
              "\n",
              "   day_of_week_fri  day_of_week_mon  day_of_week_thu  day_of_week_tue  \\\n",
              "0                0                0                1                0   \n",
              "1                1                0                0                0   \n",
              "2                0                0                1                0   \n",
              "3                1                0                0                0   \n",
              "4                1                0                0                0   \n",
              "\n",
              "   day_of_week_wed  poutcome_failure  poutcome_nonexistent  poutcome_success  \n",
              "0                0                 0                     1                 0  \n",
              "1                0                 0                     1                 0  \n",
              "2                0                 0                     0                 1  \n",
              "3                0                 0                     1                 0  \n",
              "4                0                 0                     0                 1  \n",
              "\n",
              "[5 rows x 64 columns]"
            ],
            "text/html": [
              "\n",
              "  <div id=\"df-a6812359-3a59-4e41-8199-8610ca545d17\">\n",
              "    <div class=\"colab-df-container\">\n",
              "      <div>\n",
              "<style scoped>\n",
              "    .dataframe tbody tr th:only-of-type {\n",
              "        vertical-align: middle;\n",
              "    }\n",
              "\n",
              "    .dataframe tbody tr th {\n",
              "        vertical-align: top;\n",
              "    }\n",
              "\n",
              "    .dataframe thead th {\n",
              "        text-align: right;\n",
              "    }\n",
              "</style>\n",
              "<table border=\"1\" class=\"dataframe\">\n",
              "  <thead>\n",
              "    <tr style=\"text-align: right;\">\n",
              "      <th></th>\n",
              "      <th>age</th>\n",
              "      <th>duration</th>\n",
              "      <th>campaign</th>\n",
              "      <th>pdays</th>\n",
              "      <th>previous</th>\n",
              "      <th>emp_var_rate</th>\n",
              "      <th>cons_price_idx</th>\n",
              "      <th>cons_conf_idx</th>\n",
              "      <th>euribor3m</th>\n",
              "      <th>nr_employed</th>\n",
              "      <th>...</th>\n",
              "      <th>month_oct</th>\n",
              "      <th>month_sep</th>\n",
              "      <th>day_of_week_fri</th>\n",
              "      <th>day_of_week_mon</th>\n",
              "      <th>day_of_week_thu</th>\n",
              "      <th>day_of_week_tue</th>\n",
              "      <th>day_of_week_wed</th>\n",
              "      <th>poutcome_failure</th>\n",
              "      <th>poutcome_nonexistent</th>\n",
              "      <th>poutcome_success</th>\n",
              "    </tr>\n",
              "  </thead>\n",
              "  <tbody>\n",
              "    <tr>\n",
              "      <th>0</th>\n",
              "      <td>44</td>\n",
              "      <td>210</td>\n",
              "      <td>1</td>\n",
              "      <td>999</td>\n",
              "      <td>0</td>\n",
              "      <td>1.4</td>\n",
              "      <td>93.444</td>\n",
              "      <td>-36.1</td>\n",
              "      <td>4.963</td>\n",
              "      <td>5228.1</td>\n",
              "      <td>...</td>\n",
              "      <td>0</td>\n",
              "      <td>0</td>\n",
              "      <td>0</td>\n",
              "      <td>0</td>\n",
              "      <td>1</td>\n",
              "      <td>0</td>\n",
              "      <td>0</td>\n",
              "      <td>0</td>\n",
              "      <td>1</td>\n",
              "      <td>0</td>\n",
              "    </tr>\n",
              "    <tr>\n",
              "      <th>1</th>\n",
              "      <td>53</td>\n",
              "      <td>138</td>\n",
              "      <td>1</td>\n",
              "      <td>999</td>\n",
              "      <td>0</td>\n",
              "      <td>-0.1</td>\n",
              "      <td>93.200</td>\n",
              "      <td>-42.0</td>\n",
              "      <td>4.021</td>\n",
              "      <td>5195.8</td>\n",
              "      <td>...</td>\n",
              "      <td>0</td>\n",
              "      <td>0</td>\n",
              "      <td>1</td>\n",
              "      <td>0</td>\n",
              "      <td>0</td>\n",
              "      <td>0</td>\n",
              "      <td>0</td>\n",
              "      <td>0</td>\n",
              "      <td>1</td>\n",
              "      <td>0</td>\n",
              "    </tr>\n",
              "    <tr>\n",
              "      <th>2</th>\n",
              "      <td>28</td>\n",
              "      <td>339</td>\n",
              "      <td>3</td>\n",
              "      <td>6</td>\n",
              "      <td>2</td>\n",
              "      <td>-1.7</td>\n",
              "      <td>94.055</td>\n",
              "      <td>-39.8</td>\n",
              "      <td>0.729</td>\n",
              "      <td>4991.6</td>\n",
              "      <td>...</td>\n",
              "      <td>0</td>\n",
              "      <td>0</td>\n",
              "      <td>0</td>\n",
              "      <td>0</td>\n",
              "      <td>1</td>\n",
              "      <td>0</td>\n",
              "      <td>0</td>\n",
              "      <td>0</td>\n",
              "      <td>0</td>\n",
              "      <td>1</td>\n",
              "    </tr>\n",
              "    <tr>\n",
              "      <th>3</th>\n",
              "      <td>39</td>\n",
              "      <td>185</td>\n",
              "      <td>2</td>\n",
              "      <td>999</td>\n",
              "      <td>0</td>\n",
              "      <td>-1.8</td>\n",
              "      <td>93.075</td>\n",
              "      <td>-47.1</td>\n",
              "      <td>1.405</td>\n",
              "      <td>5099.1</td>\n",
              "      <td>...</td>\n",
              "      <td>0</td>\n",
              "      <td>0</td>\n",
              "      <td>1</td>\n",
              "      <td>0</td>\n",
              "      <td>0</td>\n",
              "      <td>0</td>\n",
              "      <td>0</td>\n",
              "      <td>0</td>\n",
              "      <td>1</td>\n",
              "      <td>0</td>\n",
              "    </tr>\n",
              "    <tr>\n",
              "      <th>4</th>\n",
              "      <td>55</td>\n",
              "      <td>137</td>\n",
              "      <td>1</td>\n",
              "      <td>3</td>\n",
              "      <td>1</td>\n",
              "      <td>-2.9</td>\n",
              "      <td>92.201</td>\n",
              "      <td>-31.4</td>\n",
              "      <td>0.869</td>\n",
              "      <td>5076.2</td>\n",
              "      <td>...</td>\n",
              "      <td>0</td>\n",
              "      <td>0</td>\n",
              "      <td>1</td>\n",
              "      <td>0</td>\n",
              "      <td>0</td>\n",
              "      <td>0</td>\n",
              "      <td>0</td>\n",
              "      <td>0</td>\n",
              "      <td>0</td>\n",
              "      <td>1</td>\n",
              "    </tr>\n",
              "  </tbody>\n",
              "</table>\n",
              "<p>5 rows × 64 columns</p>\n",
              "</div>\n",
              "      <button class=\"colab-df-convert\" onclick=\"convertToInteractive('df-a6812359-3a59-4e41-8199-8610ca545d17')\"\n",
              "              title=\"Convert this dataframe to an interactive table.\"\n",
              "              style=\"display:none;\">\n",
              "        \n",
              "  <svg xmlns=\"http://www.w3.org/2000/svg\" height=\"24px\"viewBox=\"0 0 24 24\"\n",
              "       width=\"24px\">\n",
              "    <path d=\"M0 0h24v24H0V0z\" fill=\"none\"/>\n",
              "    <path d=\"M18.56 5.44l.94 2.06.94-2.06 2.06-.94-2.06-.94-.94-2.06-.94 2.06-2.06.94zm-11 1L8.5 8.5l.94-2.06 2.06-.94-2.06-.94L8.5 2.5l-.94 2.06-2.06.94zm10 10l.94 2.06.94-2.06 2.06-.94-2.06-.94-.94-2.06-.94 2.06-2.06.94z\"/><path d=\"M17.41 7.96l-1.37-1.37c-.4-.4-.92-.59-1.43-.59-.52 0-1.04.2-1.43.59L10.3 9.45l-7.72 7.72c-.78.78-.78 2.05 0 2.83L4 21.41c.39.39.9.59 1.41.59.51 0 1.02-.2 1.41-.59l7.78-7.78 2.81-2.81c.8-.78.8-2.07 0-2.86zM5.41 20L4 18.59l7.72-7.72 1.47 1.35L5.41 20z\"/>\n",
              "  </svg>\n",
              "      </button>\n",
              "      \n",
              "  <style>\n",
              "    .colab-df-container {\n",
              "      display:flex;\n",
              "      flex-wrap:wrap;\n",
              "      gap: 12px;\n",
              "    }\n",
              "\n",
              "    .colab-df-convert {\n",
              "      background-color: #E8F0FE;\n",
              "      border: none;\n",
              "      border-radius: 50%;\n",
              "      cursor: pointer;\n",
              "      display: none;\n",
              "      fill: #1967D2;\n",
              "      height: 32px;\n",
              "      padding: 0 0 0 0;\n",
              "      width: 32px;\n",
              "    }\n",
              "\n",
              "    .colab-df-convert:hover {\n",
              "      background-color: #E2EBFA;\n",
              "      box-shadow: 0px 1px 2px rgba(60, 64, 67, 0.3), 0px 1px 3px 1px rgba(60, 64, 67, 0.15);\n",
              "      fill: #174EA6;\n",
              "    }\n",
              "\n",
              "    [theme=dark] .colab-df-convert {\n",
              "      background-color: #3B4455;\n",
              "      fill: #D2E3FC;\n",
              "    }\n",
              "\n",
              "    [theme=dark] .colab-df-convert:hover {\n",
              "      background-color: #434B5C;\n",
              "      box-shadow: 0px 1px 3px 1px rgba(0, 0, 0, 0.15);\n",
              "      filter: drop-shadow(0px 1px 2px rgba(0, 0, 0, 0.3));\n",
              "      fill: #FFFFFF;\n",
              "    }\n",
              "  </style>\n",
              "\n",
              "      <script>\n",
              "        const buttonEl =\n",
              "          document.querySelector('#df-a6812359-3a59-4e41-8199-8610ca545d17 button.colab-df-convert');\n",
              "        buttonEl.style.display =\n",
              "          google.colab.kernel.accessAllowed ? 'block' : 'none';\n",
              "\n",
              "        async function convertToInteractive(key) {\n",
              "          const element = document.querySelector('#df-a6812359-3a59-4e41-8199-8610ca545d17');\n",
              "          const dataTable =\n",
              "            await google.colab.kernel.invokeFunction('convertToInteractive',\n",
              "                                                     [key], {});\n",
              "          if (!dataTable) return;\n",
              "\n",
              "          const docLinkHtml = 'Like what you see? Visit the ' +\n",
              "            '<a target=\"_blank\" href=https://colab.research.google.com/notebooks/data_table.ipynb>data table notebook</a>'\n",
              "            + ' to learn more about interactive tables.';\n",
              "          element.innerHTML = '';\n",
              "          dataTable['output_type'] = 'display_data';\n",
              "          await google.colab.output.renderOutput(dataTable, element);\n",
              "          const docLink = document.createElement('div');\n",
              "          docLink.innerHTML = docLinkHtml;\n",
              "          element.appendChild(docLink);\n",
              "        }\n",
              "      </script>\n",
              "    </div>\n",
              "  </div>\n",
              "  "
            ]
          },
          "metadata": {},
          "execution_count": 6
        }
      ]
    },
    {
      "cell_type": "markdown",
      "source": [
        "**Lets implement logistic regression on this data blindly**"
      ],
      "metadata": {
        "id": "JC0uYgi5zwJH"
      }
    },
    {
      "cell_type": "code",
      "source": [
        "X = df_final.loc[:, df_final.columns != 'y']\n",
        "y = df_final.loc[:, df_final.columns == 'y']\n",
        "\n",
        "X_train, X_test, y_train, y_test = train_test_split(X, y, test_size=0.3, random_state=0)\n"
      ],
      "metadata": {
        "id": "nIEshPUYz0zb"
      },
      "execution_count": 8,
      "outputs": []
    },
    {
      "cell_type": "markdown",
      "source": [
        "**Stats Model**"
      ],
      "metadata": {
        "id": "UNXYLo_SJpks"
      }
    },
    {
      "cell_type": "code",
      "source": [
        "logit_model=sm.Logit(y_train,X_train)\n",
        "result=logit_model.fit()\n",
        "print(result.summary2())"
      ],
      "metadata": {
        "colab": {
          "base_uri": "https://localhost:8080/"
        },
        "id": "1jNpMiCu0K5M",
        "outputId": "e96321b6-386f-477f-cc46-9acb903d4a29"
      },
      "execution_count": 9,
      "outputs": [
        {
          "output_type": "stream",
          "name": "stdout",
          "text": [
            "Warning: Maximum number of iterations has been exceeded.\n",
            "         Current function value: 0.209548\n",
            "         Iterations: 35\n",
            "                                         Results: Logit\n",
            "=================================================================================================\n",
            "Model:                          Logit                      Pseudo R-squared:           0.407     \n",
            "Dependent Variable:             y                          AIC:                        12188.9827\n",
            "Date:                           2022-09-11 15:19           BIC:                        12627.2506\n",
            "No. Observations:               28831                      Log-Likelihood:             -6041.5   \n",
            "Df Model:                       52                         LL-Null:                    -10182.   \n",
            "Df Residuals:                   28778                      LLR p-value:                0.0000    \n",
            "Converged:                      0.0000                     Scale:                      1.0000    \n",
            "No. Iterations:                 35.0000                                                          \n",
            "-------------------------------------------------------------------------------------------------\n",
            "                               Coef.      Std.Err.      z     P>|z|      [0.025         0.975]   \n",
            "-------------------------------------------------------------------------------------------------\n",
            "age                             0.0008        0.0029   0.2723 0.7854        -0.0049        0.0065\n",
            "duration                        0.0047        0.0001  52.6824 0.0000         0.0045        0.0048\n",
            "campaign                       -0.0334        0.0136  -2.4593 0.0139        -0.0599       -0.0068\n",
            "pdays                          -0.0011        0.0003  -4.0768 0.0000        -0.0016       -0.0005\n",
            "previous                       -0.0722        0.0706  -1.0227 0.3064        -0.2105        0.0662\n",
            "emp_var_rate                   -1.8330        0.1706 -10.7461 0.0000        -2.1673       -1.4987\n",
            "cons_price_idx                  2.3555        0.3016   7.8106 0.0000         1.7644        2.9466\n",
            "cons_conf_idx                   0.0260        0.0092   2.8262 0.0047         0.0080        0.0440\n",
            "euribor3m                       0.2517        0.1531   1.6443 0.1001        -0.0483        0.5518\n",
            "nr_employed                     0.0083        0.0037   2.2372 0.0253         0.0010        0.0156\n",
            "job_admin.                     -8.4507  6744949.2114  -0.0000 1.0000 -13219865.9826 13219849.0811\n",
            "job_blue-collar                -8.7142  2859911.0851  -0.0000 1.0000  -5605331.4400  5605314.0117\n",
            "job_entrepreneur               -8.6811  1753900.9530  -0.0000 1.0000  -3437591.3814  3437574.0193\n",
            "job_housemaid                  -8.6312  3066476.0205  -0.0000 1.0000  -6010191.1908  6010173.9283\n",
            "job_management                 -8.4901  3287144.5113  -0.0000 1.0000  -6442693.3443  6442676.3641\n",
            "job_retired                    -8.1742  3875473.2071  -0.0000 1.0000  -7595796.0832  7595779.7347\n",
            "job_self-employed              -8.7668  3949831.5058  -0.0000 1.0000  -7741536.2632  7741518.7296\n",
            "job_services                   -8.5781  3067676.6616  -0.0000 1.0000  -6012544.3512  6012527.1949\n",
            "job_student                    -8.2259  4018037.0828  -0.0000 1.0000  -7875216.1968  7875199.7449\n",
            "job_technician                 -8.5442  4166086.0517  -0.0000 1.0000  -8165387.1620  8165370.0736\n",
            "job_unemployed                 -8.4272  3442709.8424  -0.0000 1.0000  -6747595.7274  6747578.8731\n",
            "job_unknown                    -8.3541  2834054.4036  -0.0000 1.0000  -5554652.9153  5554636.2071\n",
            "marital_divorced              -25.5116           nan      nan    nan            nan           nan\n",
            "marital_married               -25.5530           nan      nan    nan            nan           nan\n",
            "marital_single                -25.4805           nan      nan    nan            nan           nan\n",
            "marital_unknown               -25.5117           nan      nan    nan            nan           nan\n",
            "education_basic.4y            -12.9557           nan      nan    nan            nan           nan\n",
            "education_basic.6y            -12.8851           nan      nan    nan            nan           nan\n",
            "education_basic.9y            -12.9787           nan      nan    nan            nan           nan\n",
            "education_high.school         -12.8822           nan      nan    nan            nan           nan\n",
            "education_illiterate          -11.8349           nan      nan    nan            nan           nan\n",
            "education_professional.course -12.8456           nan      nan    nan            nan           nan\n",
            "education_university.degree   -12.7946           nan      nan    nan            nan           nan\n",
            "education_unknown             -12.8602  1132744.8504  -0.0000 1.0000  -2220151.9707  2220126.2503\n",
            "default_no                    -28.8191           nan      nan    nan            nan           nan\n",
            "default_unknown               -29.1594           nan      nan    nan            nan           nan\n",
            "default_yes                   -44.0551           nan      nan    nan            nan           nan\n",
            "housing_no                    -33.9350  1394417.7710  -0.0000 1.0000  -2733042.5455  2732974.6755\n",
            "housing_unknown               -34.0624           nan      nan    nan            nan           nan\n",
            "housing_yes                   -33.9675           nan      nan    nan            nan           nan\n",
            "loan_no                       -34.0939 10326529.3328  -0.0000 1.0000 -20239659.6715 20239591.4837\n",
            "loan_unknown                  -34.0335           nan      nan    nan            nan           nan\n",
            "loan_yes                      -34.1491 10473012.2426  -0.0000 1.0000 -20526760.9543 20526692.6561\n",
            "contact_cellular              -55.8116           nan      nan    nan            nan           nan\n",
            "contact_telephone             -56.4408           nan      nan    nan            nan           nan\n",
            "month_apr                     -10.4101           nan      nan    nan            nan           nan\n",
            "month_aug                      -9.5112           nan      nan    nan            nan           nan\n",
            "month_dec                     -10.3776           nan      nan    nan            nan           nan\n",
            "month_jul                     -10.2779           nan      nan    nan            nan           nan\n",
            "month_jun                     -10.9381           nan      nan    nan            nan           nan\n",
            "month_mar                      -8.4203           nan      nan    nan            nan           nan\n",
            "month_may                     -10.8076           nan      nan    nan            nan           nan\n",
            "month_nov                     -10.7688           nan      nan    nan            nan           nan\n",
            "month_oct                     -10.1152           nan      nan    nan            nan           nan\n",
            "month_sep                      -9.7970           nan      nan    nan            nan           nan\n",
            "day_of_week_fri               -21.0157  8684763.0924  -0.0000 1.0000 -17021843.8912 17021801.8597\n",
            "day_of_week_mon               -21.1050  8672581.9452  -0.0000 1.0000 -16997969.3707 16997927.1606\n",
            "day_of_week_thu               -20.9787  8677912.8882  -0.0000 1.0000 -17008417.7005 17008375.7431\n",
            "day_of_week_tue               -20.9189  8671814.1603  -0.0000 1.0000 -16996464.3537 16996422.5159\n",
            "day_of_week_wed               -20.7957  8671190.7005  -0.0000 1.0000 -16995242.2717 16995200.6803\n",
            "poutcome_failure              -35.2289  5557696.3356  -0.0000 1.0000 -10892919.8838 10892849.4259\n",
            "poutcome_nonexistent          -34.8703  5557696.3356  -0.0000 1.0000 -10892919.5252 10892849.7846\n",
            "poutcome_success              -34.4474  5557696.3356  -0.0000 1.0000 -10892919.1023 10892850.2075\n",
            "=================================================================================================\n",
            "\n"
          ]
        },
        {
          "output_type": "stream",
          "name": "stderr",
          "text": [
            "/usr/local/lib/python3.7/dist-packages/statsmodels/base/model.py:568: ConvergenceWarning: Maximum Likelihood optimization failed to converge. Check mle_retvals\n",
            "  ConvergenceWarning)\n"
          ]
        }
      ]
    },
    {
      "cell_type": "markdown",
      "source": [
        "You can observe for lot of features P > 0.05 and data is also imbalanced across classes."
      ],
      "metadata": {
        "id": "jrd2IHGQIp03"
      }
    },
    {
      "cell_type": "markdown",
      "source": [
        "We can handle this in 2 steps:\n",
        "\n",
        "1. Balance across classes\n",
        "\n",
        "2. Dimensionality reduction in features"
      ],
      "metadata": {
        "id": "KIUKuAHnLwLx"
      }
    },
    {
      "cell_type": "markdown",
      "source": [
        "**1. Balance the classes**"
      ],
      "metadata": {
        "id": "X1M4FFpZI_XD"
      }
    },
    {
      "cell_type": "markdown",
      "source": [
        "**One Technique is SMOTE**"
      ],
      "metadata": {
        "id": "bvyqiaV4JEuy"
      }
    },
    {
      "cell_type": "markdown",
      "source": [
        "**Over-sampling using SMOTE**\n",
        "\n",
        "With our training data created, we can up-sample the minoryt class of no-subscription using the SMOTE algorithm(Synthetic Minority Oversampling Technique)\n",
        "\n",
        "At a high level, SMOTE:\n",
        "\n",
        "1. Works by creating synthetic samples from the minor class (no-subscription) instead of creating copies.\n",
        "\n",
        "2. Randomly choosing nearest-neighbors and using it to create a similar, but randomly tweaked, new observations.\n",
        "\n"
      ],
      "metadata": {
        "id": "4lLkaHvd1Tnp"
      }
    },
    {
      "cell_type": "code",
      "source": [
        "os = SMOTE(random_state=0)\n",
        "\n",
        "columns = X_train.columns\n",
        "os_data_X,os_data_y=os.fit_resample(X_train, y_train)\n",
        "\n",
        "os_data_X = pd.DataFrame(data=os_data_X,columns=columns )\n",
        "os_data_y= pd.DataFrame(data=os_data_y,columns=['y'])\n",
        "# we can Check the numbers of our data\n",
        "print(\"length of oversampled data is \",len(os_data_X))\n",
        "print(\"Number of no subscription in oversampled data\",len(os_data_y[os_data_y['y']==0]))\n",
        "print(\"Number of subscription\",len(os_data_y[os_data_y['y']==1]))\n",
        "print(\"Proportion of no subscription data in oversampled data is \",len(os_data_y[os_data_y['y']==0])/len(os_data_X))\n",
        "print(\"Proportion of subscription data in oversampled data is \",len(os_data_y[os_data_y['y']==1])/len(os_data_X))"
      ],
      "metadata": {
        "id": "cWVMnLu511Nw",
        "colab": {
          "base_uri": "https://localhost:8080/"
        },
        "outputId": "b6390e56-0b3a-423c-fd04-fa8a47153d64"
      },
      "execution_count": 11,
      "outputs": [
        {
          "output_type": "stream",
          "name": "stdout",
          "text": [
            "length of oversampled data is  51134\n",
            "Number of no subscription in oversampled data 25567\n",
            "Number of subscription 25567\n",
            "Proportion of no subscription data in oversampled data is  0.5\n",
            "Proportion of subscription data in oversampled data is  0.5\n"
          ]
        }
      ]
    },
    {
      "cell_type": "markdown",
      "source": [
        "**2. Dimensionality reduction of features**"
      ],
      "metadata": {
        "id": "G4k4uh5BLk4n"
      }
    },
    {
      "cell_type": "markdown",
      "source": [
        "**Recursive Feature Elimination**\n",
        "\n",
        "Recursive Feature Elimination (RFE) is based on the idea to repeatedly construct a model and choose either the best or worst performing feature, setting the feature aside and then repeating the process with the rest of the features. This process is applied until all features in the dataset are exhausted. The goal of RFE is to select features by recursively considering smaller and smaller sets of features."
      ],
      "metadata": {
        "id": "EWfmF-LgKLYn"
      }
    },
    {
      "cell_type": "markdown",
      "source": [
        "![An image](https://media-exp1.licdn.com/dms/image/C4E12AQF8c7_oUXF_Ug/article-inline_image-shrink_1000_1488/0/1590668357094?e=1667433600&v=beta&t=d0b5wpo9BQcLCoyQtt3__8JgOmrmKb2-OBRj3by3Z5k)"
      ],
      "metadata": {
        "id": "cpANl8pkdj-S"
      }
    },
    {
      "cell_type": "code",
      "source": [
        "df_final_vars=df_final.columns.values.tolist()\n",
        "y=['y']\n",
        "X=[i for i in df_final_vars if i not in y]\n",
        "\n",
        "logreg = LogisticRegression()                            # logistic from sklearn package\n",
        "#RFE(estimator, n_features_to_select=5, step=1)                  \n",
        "rfe = RFE(logreg)                           # RFE from sklearn package\n",
        "rfe = rfe.fit(os_data_X, os_data_y.values.ravel())\n",
        "print(rfe.support_)\n",
        "print(rfe.ranking_)"
      ],
      "metadata": {
        "id": "LYxMbvV11mP5",
        "colab": {
          "base_uri": "https://localhost:8080/"
        },
        "outputId": "15a165c0-be85-4631-df99-c22badb4ede4"
      },
      "execution_count": 12,
      "outputs": [
        {
          "output_type": "stream",
          "name": "stderr",
          "text": [
            "/usr/local/lib/python3.7/dist-packages/sklearn/linear_model/_logistic.py:818: ConvergenceWarning: lbfgs failed to converge (status=1):\n",
            "STOP: TOTAL NO. of ITERATIONS REACHED LIMIT.\n",
            "\n",
            "Increase the number of iterations (max_iter) or scale the data as shown in:\n",
            "    https://scikit-learn.org/stable/modules/preprocessing.html\n",
            "Please also refer to the documentation for alternative solver options:\n",
            "    https://scikit-learn.org/stable/modules/linear_model.html#logistic-regression\n",
            "  extra_warning_msg=_LOGISTIC_SOLVER_CONVERGENCE_MSG,\n",
            "/usr/local/lib/python3.7/dist-packages/sklearn/linear_model/_logistic.py:818: ConvergenceWarning: lbfgs failed to converge (status=1):\n",
            "STOP: TOTAL NO. of ITERATIONS REACHED LIMIT.\n",
            "\n",
            "Increase the number of iterations (max_iter) or scale the data as shown in:\n",
            "    https://scikit-learn.org/stable/modules/preprocessing.html\n",
            "Please also refer to the documentation for alternative solver options:\n",
            "    https://scikit-learn.org/stable/modules/linear_model.html#logistic-regression\n",
            "  extra_warning_msg=_LOGISTIC_SOLVER_CONVERGENCE_MSG,\n",
            "/usr/local/lib/python3.7/dist-packages/sklearn/linear_model/_logistic.py:818: ConvergenceWarning: lbfgs failed to converge (status=1):\n",
            "STOP: TOTAL NO. of ITERATIONS REACHED LIMIT.\n",
            "\n",
            "Increase the number of iterations (max_iter) or scale the data as shown in:\n",
            "    https://scikit-learn.org/stable/modules/preprocessing.html\n",
            "Please also refer to the documentation for alternative solver options:\n",
            "    https://scikit-learn.org/stable/modules/linear_model.html#logistic-regression\n",
            "  extra_warning_msg=_LOGISTIC_SOLVER_CONVERGENCE_MSG,\n",
            "/usr/local/lib/python3.7/dist-packages/sklearn/linear_model/_logistic.py:818: ConvergenceWarning: lbfgs failed to converge (status=1):\n",
            "STOP: TOTAL NO. of ITERATIONS REACHED LIMIT.\n",
            "\n",
            "Increase the number of iterations (max_iter) or scale the data as shown in:\n",
            "    https://scikit-learn.org/stable/modules/preprocessing.html\n",
            "Please also refer to the documentation for alternative solver options:\n",
            "    https://scikit-learn.org/stable/modules/linear_model.html#logistic-regression\n",
            "  extra_warning_msg=_LOGISTIC_SOLVER_CONVERGENCE_MSG,\n",
            "/usr/local/lib/python3.7/dist-packages/sklearn/linear_model/_logistic.py:818: ConvergenceWarning: lbfgs failed to converge (status=1):\n",
            "STOP: TOTAL NO. of ITERATIONS REACHED LIMIT.\n",
            "\n",
            "Increase the number of iterations (max_iter) or scale the data as shown in:\n",
            "    https://scikit-learn.org/stable/modules/preprocessing.html\n",
            "Please also refer to the documentation for alternative solver options:\n",
            "    https://scikit-learn.org/stable/modules/linear_model.html#logistic-regression\n",
            "  extra_warning_msg=_LOGISTIC_SOLVER_CONVERGENCE_MSG,\n",
            "/usr/local/lib/python3.7/dist-packages/sklearn/linear_model/_logistic.py:818: ConvergenceWarning: lbfgs failed to converge (status=1):\n",
            "STOP: TOTAL NO. of ITERATIONS REACHED LIMIT.\n",
            "\n",
            "Increase the number of iterations (max_iter) or scale the data as shown in:\n",
            "    https://scikit-learn.org/stable/modules/preprocessing.html\n",
            "Please also refer to the documentation for alternative solver options:\n",
            "    https://scikit-learn.org/stable/modules/linear_model.html#logistic-regression\n",
            "  extra_warning_msg=_LOGISTIC_SOLVER_CONVERGENCE_MSG,\n",
            "/usr/local/lib/python3.7/dist-packages/sklearn/linear_model/_logistic.py:818: ConvergenceWarning: lbfgs failed to converge (status=1):\n",
            "STOP: TOTAL NO. of ITERATIONS REACHED LIMIT.\n",
            "\n",
            "Increase the number of iterations (max_iter) or scale the data as shown in:\n",
            "    https://scikit-learn.org/stable/modules/preprocessing.html\n",
            "Please also refer to the documentation for alternative solver options:\n",
            "    https://scikit-learn.org/stable/modules/linear_model.html#logistic-regression\n",
            "  extra_warning_msg=_LOGISTIC_SOLVER_CONVERGENCE_MSG,\n",
            "/usr/local/lib/python3.7/dist-packages/sklearn/linear_model/_logistic.py:818: ConvergenceWarning: lbfgs failed to converge (status=1):\n",
            "STOP: TOTAL NO. of ITERATIONS REACHED LIMIT.\n",
            "\n",
            "Increase the number of iterations (max_iter) or scale the data as shown in:\n",
            "    https://scikit-learn.org/stable/modules/preprocessing.html\n",
            "Please also refer to the documentation for alternative solver options:\n",
            "    https://scikit-learn.org/stable/modules/linear_model.html#logistic-regression\n",
            "  extra_warning_msg=_LOGISTIC_SOLVER_CONVERGENCE_MSG,\n",
            "/usr/local/lib/python3.7/dist-packages/sklearn/linear_model/_logistic.py:818: ConvergenceWarning: lbfgs failed to converge (status=1):\n",
            "STOP: TOTAL NO. of ITERATIONS REACHED LIMIT.\n",
            "\n",
            "Increase the number of iterations (max_iter) or scale the data as shown in:\n",
            "    https://scikit-learn.org/stable/modules/preprocessing.html\n",
            "Please also refer to the documentation for alternative solver options:\n",
            "    https://scikit-learn.org/stable/modules/linear_model.html#logistic-regression\n",
            "  extra_warning_msg=_LOGISTIC_SOLVER_CONVERGENCE_MSG,\n",
            "/usr/local/lib/python3.7/dist-packages/sklearn/linear_model/_logistic.py:818: ConvergenceWarning: lbfgs failed to converge (status=1):\n",
            "STOP: TOTAL NO. of ITERATIONS REACHED LIMIT.\n",
            "\n",
            "Increase the number of iterations (max_iter) or scale the data as shown in:\n",
            "    https://scikit-learn.org/stable/modules/preprocessing.html\n",
            "Please also refer to the documentation for alternative solver options:\n",
            "    https://scikit-learn.org/stable/modules/linear_model.html#logistic-regression\n",
            "  extra_warning_msg=_LOGISTIC_SOLVER_CONVERGENCE_MSG,\n",
            "/usr/local/lib/python3.7/dist-packages/sklearn/linear_model/_logistic.py:818: ConvergenceWarning: lbfgs failed to converge (status=1):\n",
            "STOP: TOTAL NO. of ITERATIONS REACHED LIMIT.\n",
            "\n",
            "Increase the number of iterations (max_iter) or scale the data as shown in:\n",
            "    https://scikit-learn.org/stable/modules/preprocessing.html\n",
            "Please also refer to the documentation for alternative solver options:\n",
            "    https://scikit-learn.org/stable/modules/linear_model.html#logistic-regression\n",
            "  extra_warning_msg=_LOGISTIC_SOLVER_CONVERGENCE_MSG,\n",
            "/usr/local/lib/python3.7/dist-packages/sklearn/linear_model/_logistic.py:818: ConvergenceWarning: lbfgs failed to converge (status=1):\n",
            "STOP: TOTAL NO. of ITERATIONS REACHED LIMIT.\n",
            "\n",
            "Increase the number of iterations (max_iter) or scale the data as shown in:\n",
            "    https://scikit-learn.org/stable/modules/preprocessing.html\n",
            "Please also refer to the documentation for alternative solver options:\n",
            "    https://scikit-learn.org/stable/modules/linear_model.html#logistic-regression\n",
            "  extra_warning_msg=_LOGISTIC_SOLVER_CONVERGENCE_MSG,\n",
            "/usr/local/lib/python3.7/dist-packages/sklearn/linear_model/_logistic.py:818: ConvergenceWarning: lbfgs failed to converge (status=1):\n",
            "STOP: TOTAL NO. of ITERATIONS REACHED LIMIT.\n",
            "\n",
            "Increase the number of iterations (max_iter) or scale the data as shown in:\n",
            "    https://scikit-learn.org/stable/modules/preprocessing.html\n",
            "Please also refer to the documentation for alternative solver options:\n",
            "    https://scikit-learn.org/stable/modules/linear_model.html#logistic-regression\n",
            "  extra_warning_msg=_LOGISTIC_SOLVER_CONVERGENCE_MSG,\n",
            "/usr/local/lib/python3.7/dist-packages/sklearn/linear_model/_logistic.py:818: ConvergenceWarning: lbfgs failed to converge (status=1):\n",
            "STOP: TOTAL NO. of ITERATIONS REACHED LIMIT.\n",
            "\n",
            "Increase the number of iterations (max_iter) or scale the data as shown in:\n",
            "    https://scikit-learn.org/stable/modules/preprocessing.html\n",
            "Please also refer to the documentation for alternative solver options:\n",
            "    https://scikit-learn.org/stable/modules/linear_model.html#logistic-regression\n",
            "  extra_warning_msg=_LOGISTIC_SOLVER_CONVERGENCE_MSG,\n",
            "/usr/local/lib/python3.7/dist-packages/sklearn/linear_model/_logistic.py:818: ConvergenceWarning: lbfgs failed to converge (status=1):\n",
            "STOP: TOTAL NO. of ITERATIONS REACHED LIMIT.\n",
            "\n",
            "Increase the number of iterations (max_iter) or scale the data as shown in:\n",
            "    https://scikit-learn.org/stable/modules/preprocessing.html\n",
            "Please also refer to the documentation for alternative solver options:\n",
            "    https://scikit-learn.org/stable/modules/linear_model.html#logistic-regression\n",
            "  extra_warning_msg=_LOGISTIC_SOLVER_CONVERGENCE_MSG,\n",
            "/usr/local/lib/python3.7/dist-packages/sklearn/linear_model/_logistic.py:818: ConvergenceWarning: lbfgs failed to converge (status=1):\n",
            "STOP: TOTAL NO. of ITERATIONS REACHED LIMIT.\n",
            "\n",
            "Increase the number of iterations (max_iter) or scale the data as shown in:\n",
            "    https://scikit-learn.org/stable/modules/preprocessing.html\n",
            "Please also refer to the documentation for alternative solver options:\n",
            "    https://scikit-learn.org/stable/modules/linear_model.html#logistic-regression\n",
            "  extra_warning_msg=_LOGISTIC_SOLVER_CONVERGENCE_MSG,\n",
            "/usr/local/lib/python3.7/dist-packages/sklearn/linear_model/_logistic.py:818: ConvergenceWarning: lbfgs failed to converge (status=1):\n",
            "STOP: TOTAL NO. of ITERATIONS REACHED LIMIT.\n",
            "\n",
            "Increase the number of iterations (max_iter) or scale the data as shown in:\n",
            "    https://scikit-learn.org/stable/modules/preprocessing.html\n",
            "Please also refer to the documentation for alternative solver options:\n",
            "    https://scikit-learn.org/stable/modules/linear_model.html#logistic-regression\n",
            "  extra_warning_msg=_LOGISTIC_SOLVER_CONVERGENCE_MSG,\n",
            "/usr/local/lib/python3.7/dist-packages/sklearn/linear_model/_logistic.py:818: ConvergenceWarning: lbfgs failed to converge (status=1):\n",
            "STOP: TOTAL NO. of ITERATIONS REACHED LIMIT.\n",
            "\n",
            "Increase the number of iterations (max_iter) or scale the data as shown in:\n",
            "    https://scikit-learn.org/stable/modules/preprocessing.html\n",
            "Please also refer to the documentation for alternative solver options:\n",
            "    https://scikit-learn.org/stable/modules/linear_model.html#logistic-regression\n",
            "  extra_warning_msg=_LOGISTIC_SOLVER_CONVERGENCE_MSG,\n",
            "/usr/local/lib/python3.7/dist-packages/sklearn/linear_model/_logistic.py:818: ConvergenceWarning: lbfgs failed to converge (status=1):\n",
            "STOP: TOTAL NO. of ITERATIONS REACHED LIMIT.\n",
            "\n",
            "Increase the number of iterations (max_iter) or scale the data as shown in:\n",
            "    https://scikit-learn.org/stable/modules/preprocessing.html\n",
            "Please also refer to the documentation for alternative solver options:\n",
            "    https://scikit-learn.org/stable/modules/linear_model.html#logistic-regression\n",
            "  extra_warning_msg=_LOGISTIC_SOLVER_CONVERGENCE_MSG,\n",
            "/usr/local/lib/python3.7/dist-packages/sklearn/linear_model/_logistic.py:818: ConvergenceWarning: lbfgs failed to converge (status=1):\n",
            "STOP: TOTAL NO. of ITERATIONS REACHED LIMIT.\n",
            "\n",
            "Increase the number of iterations (max_iter) or scale the data as shown in:\n",
            "    https://scikit-learn.org/stable/modules/preprocessing.html\n",
            "Please also refer to the documentation for alternative solver options:\n",
            "    https://scikit-learn.org/stable/modules/linear_model.html#logistic-regression\n",
            "  extra_warning_msg=_LOGISTIC_SOLVER_CONVERGENCE_MSG,\n",
            "/usr/local/lib/python3.7/dist-packages/sklearn/linear_model/_logistic.py:818: ConvergenceWarning: lbfgs failed to converge (status=1):\n",
            "STOP: TOTAL NO. of ITERATIONS REACHED LIMIT.\n",
            "\n",
            "Increase the number of iterations (max_iter) or scale the data as shown in:\n",
            "    https://scikit-learn.org/stable/modules/preprocessing.html\n",
            "Please also refer to the documentation for alternative solver options:\n",
            "    https://scikit-learn.org/stable/modules/linear_model.html#logistic-regression\n",
            "  extra_warning_msg=_LOGISTIC_SOLVER_CONVERGENCE_MSG,\n",
            "/usr/local/lib/python3.7/dist-packages/sklearn/linear_model/_logistic.py:818: ConvergenceWarning: lbfgs failed to converge (status=1):\n",
            "STOP: TOTAL NO. of ITERATIONS REACHED LIMIT.\n",
            "\n",
            "Increase the number of iterations (max_iter) or scale the data as shown in:\n",
            "    https://scikit-learn.org/stable/modules/preprocessing.html\n",
            "Please also refer to the documentation for alternative solver options:\n",
            "    https://scikit-learn.org/stable/modules/linear_model.html#logistic-regression\n",
            "  extra_warning_msg=_LOGISTIC_SOLVER_CONVERGENCE_MSG,\n",
            "/usr/local/lib/python3.7/dist-packages/sklearn/linear_model/_logistic.py:818: ConvergenceWarning: lbfgs failed to converge (status=1):\n",
            "STOP: TOTAL NO. of ITERATIONS REACHED LIMIT.\n",
            "\n",
            "Increase the number of iterations (max_iter) or scale the data as shown in:\n",
            "    https://scikit-learn.org/stable/modules/preprocessing.html\n",
            "Please also refer to the documentation for alternative solver options:\n",
            "    https://scikit-learn.org/stable/modules/linear_model.html#logistic-regression\n",
            "  extra_warning_msg=_LOGISTIC_SOLVER_CONVERGENCE_MSG,\n",
            "/usr/local/lib/python3.7/dist-packages/sklearn/linear_model/_logistic.py:818: ConvergenceWarning: lbfgs failed to converge (status=1):\n",
            "STOP: TOTAL NO. of ITERATIONS REACHED LIMIT.\n",
            "\n",
            "Increase the number of iterations (max_iter) or scale the data as shown in:\n",
            "    https://scikit-learn.org/stable/modules/preprocessing.html\n",
            "Please also refer to the documentation for alternative solver options:\n",
            "    https://scikit-learn.org/stable/modules/linear_model.html#logistic-regression\n",
            "  extra_warning_msg=_LOGISTIC_SOLVER_CONVERGENCE_MSG,\n",
            "/usr/local/lib/python3.7/dist-packages/sklearn/linear_model/_logistic.py:818: ConvergenceWarning: lbfgs failed to converge (status=1):\n",
            "STOP: TOTAL NO. of ITERATIONS REACHED LIMIT.\n",
            "\n",
            "Increase the number of iterations (max_iter) or scale the data as shown in:\n",
            "    https://scikit-learn.org/stable/modules/preprocessing.html\n",
            "Please also refer to the documentation for alternative solver options:\n",
            "    https://scikit-learn.org/stable/modules/linear_model.html#logistic-regression\n",
            "  extra_warning_msg=_LOGISTIC_SOLVER_CONVERGENCE_MSG,\n",
            "/usr/local/lib/python3.7/dist-packages/sklearn/linear_model/_logistic.py:818: ConvergenceWarning: lbfgs failed to converge (status=1):\n",
            "STOP: TOTAL NO. of ITERATIONS REACHED LIMIT.\n",
            "\n",
            "Increase the number of iterations (max_iter) or scale the data as shown in:\n",
            "    https://scikit-learn.org/stable/modules/preprocessing.html\n",
            "Please also refer to the documentation for alternative solver options:\n",
            "    https://scikit-learn.org/stable/modules/linear_model.html#logistic-regression\n",
            "  extra_warning_msg=_LOGISTIC_SOLVER_CONVERGENCE_MSG,\n",
            "/usr/local/lib/python3.7/dist-packages/sklearn/linear_model/_logistic.py:818: ConvergenceWarning: lbfgs failed to converge (status=1):\n",
            "STOP: TOTAL NO. of ITERATIONS REACHED LIMIT.\n",
            "\n",
            "Increase the number of iterations (max_iter) or scale the data as shown in:\n",
            "    https://scikit-learn.org/stable/modules/preprocessing.html\n",
            "Please also refer to the documentation for alternative solver options:\n",
            "    https://scikit-learn.org/stable/modules/linear_model.html#logistic-regression\n",
            "  extra_warning_msg=_LOGISTIC_SOLVER_CONVERGENCE_MSG,\n",
            "/usr/local/lib/python3.7/dist-packages/sklearn/linear_model/_logistic.py:818: ConvergenceWarning: lbfgs failed to converge (status=1):\n",
            "STOP: TOTAL NO. of ITERATIONS REACHED LIMIT.\n",
            "\n",
            "Increase the number of iterations (max_iter) or scale the data as shown in:\n",
            "    https://scikit-learn.org/stable/modules/preprocessing.html\n",
            "Please also refer to the documentation for alternative solver options:\n",
            "    https://scikit-learn.org/stable/modules/linear_model.html#logistic-regression\n",
            "  extra_warning_msg=_LOGISTIC_SOLVER_CONVERGENCE_MSG,\n",
            "/usr/local/lib/python3.7/dist-packages/sklearn/linear_model/_logistic.py:818: ConvergenceWarning: lbfgs failed to converge (status=1):\n",
            "STOP: TOTAL NO. of ITERATIONS REACHED LIMIT.\n",
            "\n",
            "Increase the number of iterations (max_iter) or scale the data as shown in:\n",
            "    https://scikit-learn.org/stable/modules/preprocessing.html\n",
            "Please also refer to the documentation for alternative solver options:\n",
            "    https://scikit-learn.org/stable/modules/linear_model.html#logistic-regression\n",
            "  extra_warning_msg=_LOGISTIC_SOLVER_CONVERGENCE_MSG,\n",
            "/usr/local/lib/python3.7/dist-packages/sklearn/linear_model/_logistic.py:818: ConvergenceWarning: lbfgs failed to converge (status=1):\n",
            "STOP: TOTAL NO. of ITERATIONS REACHED LIMIT.\n",
            "\n",
            "Increase the number of iterations (max_iter) or scale the data as shown in:\n",
            "    https://scikit-learn.org/stable/modules/preprocessing.html\n",
            "Please also refer to the documentation for alternative solver options:\n",
            "    https://scikit-learn.org/stable/modules/linear_model.html#logistic-regression\n",
            "  extra_warning_msg=_LOGISTIC_SOLVER_CONVERGENCE_MSG,\n",
            "/usr/local/lib/python3.7/dist-packages/sklearn/linear_model/_logistic.py:818: ConvergenceWarning: lbfgs failed to converge (status=1):\n",
            "STOP: TOTAL NO. of ITERATIONS REACHED LIMIT.\n",
            "\n",
            "Increase the number of iterations (max_iter) or scale the data as shown in:\n",
            "    https://scikit-learn.org/stable/modules/preprocessing.html\n",
            "Please also refer to the documentation for alternative solver options:\n",
            "    https://scikit-learn.org/stable/modules/linear_model.html#logistic-regression\n",
            "  extra_warning_msg=_LOGISTIC_SOLVER_CONVERGENCE_MSG,\n",
            "/usr/local/lib/python3.7/dist-packages/sklearn/linear_model/_logistic.py:818: ConvergenceWarning: lbfgs failed to converge (status=1):\n",
            "STOP: TOTAL NO. of ITERATIONS REACHED LIMIT.\n",
            "\n",
            "Increase the number of iterations (max_iter) or scale the data as shown in:\n",
            "    https://scikit-learn.org/stable/modules/preprocessing.html\n",
            "Please also refer to the documentation for alternative solver options:\n",
            "    https://scikit-learn.org/stable/modules/linear_model.html#logistic-regression\n",
            "  extra_warning_msg=_LOGISTIC_SOLVER_CONVERGENCE_MSG,\n"
          ]
        },
        {
          "output_type": "stream",
          "name": "stdout",
          "text": [
            "[False False False False False False False False False False False False\n",
            " False False False False False False False False False False  True  True\n",
            "  True  True  True  True  True  True False  True  True  True  True  True\n",
            " False  True  True  True  True  True  True  True  True False  True False\n",
            "  True False False False  True False False  True  True  True  True  True\n",
            "  True  True False]\n",
            "[25 29 23 30 24 20 21 28 18 26 12  5  7  6 11 32 10  9 19  8 14 13  1  1\n",
            "  1  1  1  1  1  1 31  1  1  1  1  1 33  1  1  1  1  1  1  1  1  3  1 15\n",
            "  1  4 27  2  1 17 16  1  1  1  1  1  1  1 22]\n"
          ]
        },
        {
          "output_type": "stream",
          "name": "stderr",
          "text": [
            "/usr/local/lib/python3.7/dist-packages/sklearn/linear_model/_logistic.py:818: ConvergenceWarning: lbfgs failed to converge (status=1):\n",
            "STOP: TOTAL NO. of ITERATIONS REACHED LIMIT.\n",
            "\n",
            "Increase the number of iterations (max_iter) or scale the data as shown in:\n",
            "    https://scikit-learn.org/stable/modules/preprocessing.html\n",
            "Please also refer to the documentation for alternative solver options:\n",
            "    https://scikit-learn.org/stable/modules/linear_model.html#logistic-regression\n",
            "  extra_warning_msg=_LOGISTIC_SOLVER_CONVERGENCE_MSG,\n"
          ]
        }
      ]
    },
    {
      "cell_type": "markdown",
      "source": [
        "The RFE has helped us select the following features top 20: “euribor3m”, “job_blue-collar”, “job_housemaid”, “marital_unknown”, “education_illiterate”, “default_no”, “default_unknown”, “contact_cellular”, “contact_telephone”, “month_apr”, “month_aug”, “month_dec”, “month_jul”, “month_jun”, “month_mar”, “month_may”, “month_nov”, “month_oct”, “poutcome_failure”, “poutcome_success”."
      ],
      "metadata": {
        "id": "V3pvi8WTMi_3"
      }
    },
    {
      "cell_type": "code",
      "source": [
        "cols=['euribor3m', 'job_blue-collar', 'job_housemaid', 'marital_unknown', 'education_illiterate', 'default_no', 'default_unknown', \n",
        "      'contact_cellular', 'contact_telephone', 'month_apr', 'month_aug', 'month_dec', 'month_jul', 'month_jun', 'month_mar', \n",
        "      'month_may', 'month_nov', 'month_oct', \"poutcome_failure\", \"poutcome_success\"]\n",
        "       \n",
        "X=os_data_X[cols]\n",
        "y=os_data_y['y']"
      ],
      "metadata": {
        "id": "H7I8FfO2Mlwr"
      },
      "execution_count": 13,
      "outputs": []
    },
    {
      "cell_type": "markdown",
      "source": [
        "Implement Logistic"
      ],
      "metadata": {
        "id": "vsliNIUoNIV9"
      }
    },
    {
      "cell_type": "code",
      "source": [
        "logit_model=sm.Logit(y,X)\n",
        "result=logit_model.fit()\n",
        "print(result.summary2())"
      ],
      "metadata": {
        "colab": {
          "base_uri": "https://localhost:8080/"
        },
        "id": "adYN2doONK8z",
        "outputId": "1a3d50e2-3b0b-44b8-ca07-72ec76b15615"
      },
      "execution_count": null,
      "outputs": [
        {
          "output_type": "stream",
          "name": "stdout",
          "text": [
            "Optimization terminated successfully.\n",
            "         Current function value: 0.455664\n",
            "         Iterations 7\n",
            "                           Results: Logit\n",
            "=====================================================================\n",
            "Model:                Logit             Pseudo R-squared:  0.343     \n",
            "Dependent Variable:   y                 AIC:               46639.8230\n",
            "Date:                 2022-09-08 03:46  BIC:               46816.6671\n",
            "No. Observations:     51134             Log-Likelihood:    -23300.   \n",
            "Df Model:             19                LL-Null:           -35443.   \n",
            "Df Residuals:         51114             LLR p-value:       0.0000    \n",
            "Converged:            1.0000            Scale:             1.0000    \n",
            "No. Iterations:       7.0000                                         \n",
            "---------------------------------------------------------------------\n",
            "                      Coef.  Std.Err.    z     P>|z|   [0.025  0.975]\n",
            "---------------------------------------------------------------------\n",
            "euribor3m             0.1612   0.0082  19.7747 0.0000  0.1452  0.1772\n",
            "job_blue-collar      -0.9965   0.0381 -26.1297 0.0000 -1.0713 -0.9218\n",
            "job_housemaid        -1.6294   0.1377 -11.8333 0.0000 -1.8992 -1.3595\n",
            "marital_unknown      -1.1078   0.4206  -2.6341 0.0084 -1.9321 -0.2835\n",
            "education_illiterate  0.2400   0.6653   0.3607 0.7183 -1.0640  1.5440\n",
            "default_no            0.7992   0.0371  21.5471 0.0000  0.7265  0.8719\n",
            "default_unknown      -0.4594   0.0569  -8.0728 0.0000 -0.5710 -0.3479\n",
            "contact_cellular      1.5089   0.0442  34.1712 0.0000  1.4224  1.5955\n",
            "contact_telephone    -0.3741   0.0574  -6.5139 0.0000 -0.4866 -0.2615\n",
            "month_apr            -2.1779   0.0546 -39.8720 0.0000 -2.2849 -2.0708\n",
            "month_aug            -3.6210   0.0529 -68.4507 0.0000 -3.7247 -3.5173\n",
            "month_dec            -1.7432   0.1714 -10.1703 0.0000 -2.0792 -1.4073\n",
            "month_jul            -3.4498   0.0529 -65.1525 0.0000 -3.5536 -3.3460\n",
            "month_jun            -2.0963   0.0529 -39.5915 0.0000 -2.2001 -1.9925\n",
            "month_mar            -1.0951   0.0955 -11.4692 0.0000 -1.2823 -0.9080\n",
            "month_may            -2.5263   0.0441 -57.2399 0.0000 -2.6128 -2.4398\n",
            "month_nov            -3.6154   0.0577 -62.6966 0.0000 -3.7285 -3.5024\n",
            "month_oct            -1.0519   0.0856 -12.2918 0.0000 -1.2196 -0.8842\n",
            "poutcome_failure     -0.8995   0.0462 -19.4669 0.0000 -0.9901 -0.8090\n",
            "poutcome_success      2.4584   0.0662  37.1260 0.0000  2.3286  2.5882\n",
            "=====================================================================\n",
            "\n"
          ]
        }
      ]
    },
    {
      "cell_type": "code",
      "source": [
        "X_train_os, X_test_os, y_train_os, y_test_os = train_test_split(X, y, test_size=0.3, random_state=0)\n",
        "logreg = LogisticRegression()   # training on scikit learn package logistic \n",
        "logreg.fit(X_train_os, y_train_os)"
      ],
      "metadata": {
        "colab": {
          "base_uri": "https://localhost:8080/"
        },
        "id": "-BnECreWNt6K",
        "outputId": "bc4b8ce8-273c-47ed-de98-a2c6e3617473"
      },
      "execution_count": null,
      "outputs": [
        {
          "output_type": "stream",
          "name": "stderr",
          "text": [
            "/usr/local/lib/python3.7/dist-packages/sklearn/linear_model/_logistic.py:818: ConvergenceWarning: lbfgs failed to converge (status=1):\n",
            "STOP: TOTAL NO. of ITERATIONS REACHED LIMIT.\n",
            "\n",
            "Increase the number of iterations (max_iter) or scale the data as shown in:\n",
            "    https://scikit-learn.org/stable/modules/preprocessing.html\n",
            "Please also refer to the documentation for alternative solver options:\n",
            "    https://scikit-learn.org/stable/modules/linear_model.html#logistic-regression\n",
            "  extra_warning_msg=_LOGISTIC_SOLVER_CONVERGENCE_MSG,\n"
          ]
        },
        {
          "output_type": "execute_result",
          "data": {
            "text/plain": [
              "LogisticRegression()"
            ]
          },
          "metadata": {},
          "execution_count": 34
        }
      ]
    },
    {
      "cell_type": "code",
      "source": [
        "y_pred_os = logreg.predict(X_test_os)\n",
        "print('Accuracy of logistic regression classifier on test set: {:.2f}'.format(logreg.score(X_test_os, y_test_os)))"
      ],
      "metadata": {
        "colab": {
          "base_uri": "https://localhost:8080/"
        },
        "id": "U8SPnT86OGA3",
        "outputId": "67d3514c-c13f-4015-f18d-afbc9f6f1edc"
      },
      "execution_count": null,
      "outputs": [
        {
          "output_type": "stream",
          "name": "stdout",
          "text": [
            "Accuracy of logistic regression classifier on test set: 0.87\n"
          ]
        }
      ]
    },
    {
      "cell_type": "markdown",
      "source": [
        "**Metrics to measure performance of Classification Model**"
      ],
      "metadata": {
        "id": "-JT6yG9OIw1Y"
      }
    },
    {
      "cell_type": "markdown",
      "source": [
        "**Confusion Matrix**"
      ],
      "metadata": {
        "id": "qTeYs0gePJwW"
      }
    },
    {
      "cell_type": "markdown",
      "source": [
        "There is also fun "
      ],
      "metadata": {
        "id": "ttkpaP-hPupu"
      }
    },
    {
      "cell_type": "markdown",
      "source": [
        "![An image](https://miro.medium.com/max/462/1*7EYylA6XlXSGBCF77j_rOA.png)"
      ],
      "metadata": {
        "id": "u6icsUtgPz70"
      }
    },
    {
      "cell_type": "code",
      "source": [
        "cm_logistic = confusion_matrix(y_test_os, y_pred_os)\n",
        "print(cm_logistic)"
      ],
      "metadata": {
        "colab": {
          "base_uri": "https://localhost:8080/"
        },
        "id": "68n6MwjXPMuE",
        "outputId": "67cf46e1-2bdb-4884-fd80-15e4ab6c57b5"
      },
      "execution_count": null,
      "outputs": [
        {
          "output_type": "stream",
          "name": "stdout",
          "text": [
            "[[7021  645]\n",
            " [1334 6341]]\n"
          ]
        }
      ]
    },
    {
      "cell_type": "markdown",
      "source": [
        "![An image](https://miro.medium.com/max/300/1*QRIZDkk_FffXKs_07ZlhZw.png)\n",
        "\n",
        "from all the classes we have predicted as positive, how many are actually positive.\n",
        "\n",
        "![An image](https://miro.medium.com/max/300/1*BT3awaBdZHsit5s41LPb9A.png)\n",
        "\n",
        "from all the positive classes, how many we predicted correctly.\n",
        "\n",
        "**Accuracy**\n",
        "\n",
        "From all the classes (positive and negative), how many of them we have predicted correctly.\n",
        "\n",
        "![An image](https://wikimedia.org/api/rest_v1/media/math/render/svg/47deb47eb7ac214423d0a6afd05ec0af362fef9b)\n",
        "\n",
        "![An image](https://miro.medium.com/max/358/1*98FaAKfPWo-EBTbjsxm4GA.png)\n",
        "\n",
        "It is difficult to compare two models with low precision and high recall or vice versa. So to make them comparable, we use F-Score. F-score helps to measure Recall and Precision at the same time. It uses Harmonic Mean in place of Arithmetic Mean by punishing the extreme values more.\n",
        "\n",
        " F-score reaches its best value at 1 and worst score at 0.\n",
        "\n",
        "The F-score weights the recall more than the precision by a factor of beta. beta = 1.0 means recall and precision are equally important."
      ],
      "metadata": {
        "id": "DNyp8PQ8QRGp"
      }
    },
    {
      "cell_type": "markdown",
      "source": [
        "The support is the number of occurrences of each class in y_test"
      ],
      "metadata": {
        "id": "7IKD-4X0RUIn"
      }
    },
    {
      "cell_type": "code",
      "source": [
        "print(classification_report(y_test_os, y_pred_os))"
      ],
      "metadata": {
        "colab": {
          "base_uri": "https://localhost:8080/"
        },
        "id": "lQ4CFSWZQ-Qz",
        "outputId": "d95a1c5d-b5ef-43b2-daa0-2a32b4890e31"
      },
      "execution_count": null,
      "outputs": [
        {
          "output_type": "stream",
          "name": "stdout",
          "text": [
            "              precision    recall  f1-score   support\n",
            "\n",
            "           0       0.84      0.92      0.88      7666\n",
            "           1       0.91      0.83      0.87      7675\n",
            "\n",
            "    accuracy                           0.87     15341\n",
            "   macro avg       0.87      0.87      0.87     15341\n",
            "weighted avg       0.87      0.87      0.87     15341\n",
            "\n"
          ]
        }
      ]
    },
    {
      "cell_type": "markdown",
      "source": [
        "Interpretation: \n",
        "\n",
        "Of the entire test set, 91% of the promoted term deposit were the term deposit that the customers liked. Of the entire test set, 83% of the customer’s preferred term deposits that were promoted."
      ],
      "metadata": {
        "id": "lD8EF0W7Rs7O"
      }
    },
    {
      "cell_type": "code",
      "source": [
        "logit_roc_auc = roc_auc_score(y_test, logreg.predict(X_test))\n",
        "fpr, tpr, thresholds = roc_curve(y_test, logreg.predict_proba(X_test)[:,1])\n",
        "plt.figure()\n",
        "plt.plot(fpr, tpr, label='Logistic Regression (area = %0.2f)' % logit_roc_auc)\n",
        "plt.plot([0, 1], [0, 1],'r--')\n",
        "plt.xlim([0.0, 1.0])\n",
        "plt.ylim([0.0, 1.05])\n",
        "plt.xlabel('False Positive Rate')\n",
        "plt.ylabel('True Positive Rate')\n",
        "plt.title('Receiver operating characteristic')\n",
        "plt.legend(loc=\"lower right\")\n",
        "plt.show()"
      ],
      "metadata": {
        "colab": {
          "base_uri": "https://localhost:8080/",
          "height": 301
        },
        "id": "uds_DSbJSCez",
        "outputId": "6dee248b-141e-4570-ad35-ee62d5e5ca7e"
      },
      "execution_count": null,
      "outputs": [
        {
          "output_type": "display_data",
          "data": {
            "text/plain": [
              "<Figure size 432x288 with 1 Axes>"
            ],
            "image/png": "[encoded data removed]"
          },
          "metadata": {}
        }
      ]
    },
    {
      "cell_type": "markdown",
      "source": [
        "![An image](https://wikimedia.org/api/rest_v1/media/math/render/svg/c5119dc2a74e72317ac2274c5b0d4d562597d8af)\n",
        "\n",
        "![An image](https://wikimedia.org/api/rest_v1/media/math/render/svg/f02ea353bf60bfdd9557d2c98fe18c34cd8db835)\n",
        "\n"
      ],
      "metadata": {
        "id": "f1n9h_VISTgX"
      }
    },
    {
      "cell_type": "markdown",
      "source": [
        "The receiver operating characteristic (ROC) curve is another common tool used with binary classifiers. The dotted line represents the ROC curve of a purely random classifier; a good classifier stays as far away from that line as possible (toward the top-left corner)."
      ],
      "metadata": {
        "id": "JSLw2bSUS-0M"
      }
    },
    {
      "cell_type": "markdown",
      "source": [
        "**How to handle real world imbalanced datasets when there is no choice of oversampling or undersampling ?**"
      ],
      "metadata": {
        "id": "hr8AOu69filn"
      }
    },
    {
      "cell_type": "markdown",
      "source": [
        "**Lets relook into our original imbalanced data before oversampling minority classes using SMOTE**\n",
        "\n",
        "**Lets pick data with dimensionality reduction of features on this imbalanced data and observe ROC curve** "
      ],
      "metadata": {
        "id": "06SDOZDEKomR"
      }
    },
    {
      "cell_type": "code",
      "source": [
        "cols=['euribor3m', 'job_blue-collar', 'job_housemaid', 'marital_unknown', 'education_illiterate', 'default_no', 'default_unknown', \n",
        "      'contact_cellular', 'contact_telephone', 'month_apr', 'month_aug', 'month_dec', 'month_jul', 'month_jun', 'month_mar', \n",
        "      'month_may', 'month_nov', 'month_oct', \"poutcome_failure\", \"poutcome_success\"]\n",
        "       \n",
        "X_imbalance=X_train[cols]\n",
        "y_imbalance=y_train['y']"
      ],
      "metadata": {
        "id": "p5YPLi7MToM2"
      },
      "execution_count": 14,
      "outputs": []
    },
    {
      "cell_type": "code",
      "source": [
        "logreg_imbal = LogisticRegression()   # training on scikit learn package logistic \n",
        "logreg_imbal.fit(X_imbalance, y_imbalance)"
      ],
      "metadata": {
        "colab": {
          "base_uri": "https://localhost:8080/"
        },
        "id": "brViJ7CCUNXh",
        "outputId": "ee20e2bf-b2fa-454d-dd53-476f829883ef"
      },
      "execution_count": 15,
      "outputs": [
        {
          "output_type": "execute_result",
          "data": {
            "text/plain": [
              "LogisticRegression()"
            ]
          },
          "metadata": {},
          "execution_count": 15
        }
      ]
    },
    {
      "cell_type": "code",
      "source": [
        "X_test_imbalance = X_test[cols]\n",
        "y_test_imbalance = y_test['y']\n",
        "y_pred_imbalance = logreg_imbal.predict(X_test_imbalance)\n",
        "print('Accuracy of logistic regression classifier on imbalanced test set: {:.2f}'.format(logreg_imbal.score(X_test_imbalance, y_test_imbalance)))"
      ],
      "metadata": {
        "colab": {
          "base_uri": "https://localhost:8080/"
        },
        "id": "Rb2BlnBNUj-i",
        "outputId": "89e7bfa3-dbe0-4f35-a8fc-f8a0e236359f"
      },
      "execution_count": 18,
      "outputs": [
        {
          "output_type": "stream",
          "name": "stdout",
          "text": [
            "Accuracy of logistic regression classifier on imbalanced test set: 0.90\n"
          ]
        }
      ]
    },
    {
      "cell_type": "markdown",
      "source": [
        "Ohh Good! But dont jump into conclusions that this model is better. Lets diagnonize with other metrics"
      ],
      "metadata": {
        "id": "ofL9RKRmVaXK"
      }
    },
    {
      "cell_type": "code",
      "source": [
        "cm_logistic_imbal = confusion_matrix(y_test_imbalance, y_pred_imbalance)\n",
        "print(cm_logistic_imbal)"
      ],
      "metadata": {
        "colab": {
          "base_uri": "https://localhost:8080/"
        },
        "id": "UbFh1FyOVlFq",
        "outputId": "34fc4730-86d3-4221-a7ef-876c684afdeb"
      },
      "execution_count": 19,
      "outputs": [
        {
          "output_type": "stream",
          "name": "stdout",
          "text": [
            "[[10880   101]\n",
            " [ 1125   251]]\n"
          ]
        }
      ]
    },
    {
      "cell_type": "code",
      "source": [
        "print(classification_report(y_test_imbalance, y_pred_imbalance))"
      ],
      "metadata": {
        "colab": {
          "base_uri": "https://localhost:8080/"
        },
        "id": "qQocpWMJV47y",
        "outputId": "5f5dab5a-4c26-43c4-a2f6-4a3536e3344a"
      },
      "execution_count": 20,
      "outputs": [
        {
          "output_type": "stream",
          "name": "stdout",
          "text": [
            "              precision    recall  f1-score   support\n",
            "\n",
            "           0       0.91      0.99      0.95     10981\n",
            "           1       0.71      0.18      0.29      1376\n",
            "\n",
            "    accuracy                           0.90     12357\n",
            "   macro avg       0.81      0.59      0.62     12357\n",
            "weighted avg       0.88      0.90      0.87     12357\n",
            "\n"
          ]
        }
      ]
    },
    {
      "cell_type": "markdown",
      "source": [
        "**Observe that, Precision and recall are deviating too much for class 1 due to bias on fixed set threshold on sigmoid/logistic of \"Probalability = 0.5\" for this imbalanced set.**\n",
        "\n",
        "**From Real world business scenario, oversampling of data is not allowed to balance this data**\n",
        "\n",
        "**Hence, we need to tune the threshold to optimal value for best fit of classification model for imbalanced datasets**"
      ],
      "metadata": {
        "id": "yQTGmQCuWXb5"
      }
    },
    {
      "cell_type": "markdown",
      "source": [
        "**Optimal Threshold Tuning using:**\n",
        "\n",
        "1. ROC curve\n",
        "\n",
        "2. Precision-Recall Curve\n",
        "\n",
        "3. Cost Function\n",
        "\n",
        "4. Accuracy"
      ],
      "metadata": {
        "id": "U6_VzwxDXRVh"
      }
    },
    {
      "cell_type": "markdown",
      "source": [
        "**1. Threshold Tuning using ROC**\n",
        "\n",
        "**1.A G-mean**\n",
        "\n",
        "The geometric mean (G-mean) is the root of the product of class-wise sensitivity. \n",
        "\n",
        "This measure tries to maximize the accuracy on each of the classes while keeping these accuracies balanced. \n",
        "\n",
        "For binary classification G-mean is the squared root of the product of the sensitivity and specificity. \n",
        "\n",
        "For multi-class problems it is a higher root of the product of sensitivity for each class.\n",
        "\n",
        "![An image](https://miro.medium.com/max/700/1*X7hbU7MbRbtd-mHsmk-D2g.png)\n",
        "\n",
        "Credentials: https://towardsdatascience.com/optimal-threshold-for-imbalanced-classification-5884e870c293\n",
        "\n"
      ],
      "metadata": {
        "id": "lv6SaKEheHEr"
      }
    },
    {
      "cell_type": "markdown",
      "source": [
        "**We need to choose corresponding Threshold which is at index where G-Mean is maximum**"
      ],
      "metadata": {
        "id": "8CyFze0dhKYr"
      }
    },
    {
      "cell_type": "markdown",
      "source": [
        "Identify the threshold"
      ],
      "metadata": {
        "id": "3hKDpBO4hrKt"
      }
    },
    {
      "cell_type": "code",
      "source": [
        "# predict probabilities\n",
        "yhat = logreg_imbal.predict_proba(X_test_imbalance)\n",
        "# keep probabilities for the positive outcome only\n",
        "yhat = yhat[:, 1]\n",
        "# calculate roc curves\n",
        "fpr, tpr, thresholds = roc_curve(y_test_imbalance, yhat)\n",
        "# calculate the g-mean for each threshold\n",
        "gmeans = np.sqrt(tpr * (1-fpr))\n",
        "# locate the index of the largest g-mean\n",
        "ix = np.argmax(gmeans)\n",
        "print('Best Threshold=%f, G-Mean=%.3f' % (thresholds[ix], gmeans[ix]))\n",
        "# plot the roc curve for the model\n",
        "plt.plot([0,1], [0,1], linestyle='--', label='No Skill')\n",
        "plt.plot(fpr, tpr, marker='.', label='Logistic')\n",
        "plt.scatter(fpr[ix], tpr[ix], marker='o', color='black', label='Best')\n",
        "# axis labels\n",
        "plt.xlabel('False Positive Rate')\n",
        "plt.ylabel('True Positive Rate')\n",
        "plt.legend()\n",
        "# show the plot\n",
        "plt.show()"
      ],
      "metadata": {
        "colab": {
          "base_uri": "https://localhost:8080/",
          "height": 302
        },
        "id": "mU586HQVZUKx",
        "outputId": "89f437ec-a5dc-4ccd-f177-5659d3dec037"
      },
      "execution_count": 21,
      "outputs": [
        {
          "output_type": "stream",
          "name": "stdout",
          "text": [
            "Best Threshold=0.129342, G-Mean=0.738\n"
          ]
        },
        {
          "output_type": "display_data",
          "data": {
            "text/plain": [
              "<Figure size 432x288 with 1 Axes>"
            ],
            "image/png": "[encoded data removed]"
          },
          "metadata": {}
        }
      ]
    },
    {
      "cell_type": "markdown",
      "source": [
        "Tune the threshold"
      ],
      "metadata": {
        "id": "HHG_ukHkhuy0"
      }
    },
    {
      "cell_type": "code",
      "source": [
        "class LogisticRegressionWithThreshold(LogisticRegression):\n",
        "    def predict(self, X, threshold=None):\n",
        "        if threshold == None: # If no threshold passed in, simply call the base class predict, effectively threshold=0.5\n",
        "            return LogisticRegression.predict(self, X)\n",
        "        else:\n",
        "            y_scores = LogisticRegression.predict_proba(self, X)[:, 1]\n",
        "            y_pred_with_threshold = (y_scores >= threshold).astype(int)\n",
        "\n",
        "            return y_pred_with_threshold\n",
        "\n",
        "    def threshold_from_optimal_g_mean(self, X, y):\n",
        "        y_scores = LogisticRegression.predict_proba(self, X)[:, 1]\n",
        "        fpr, tpr, thresholds = roc_curve(y, y_scores) \n",
        "        gmeans = np.sqrt(tpr * (1-fpr))\n",
        "        optimal_idx = np.argmax(gmeans)\n",
        "\n",
        "        return thresholds[optimal_idx], gmeans[optimal_idx]\n",
        "\n",
        "    def threshold_from_optimal_tpr_minus_fpr(self, X, y):\n",
        "        y_scores = LogisticRegression.predict_proba(self, X)[:, 1]\n",
        "        fpr, tpr, thresholds = roc_curve(y, y_scores) \n",
        "\n",
        "        optimal_idx = np.argmax(tpr - fpr)\n",
        "\n",
        "        return thresholds[optimal_idx], tpr[optimal_idx] - fpr[optimal_idx]\n",
        "\n",
        "    def threshold_from_desired_precision(self, X, y, desired_precision=0.9):\n",
        "        y_scores = LogisticRegression.predict_proba(self, X)[:, 1]\n",
        "        precisions, recalls, thresholds = precision_recall_curve(y, y_scores)\n",
        "\n",
        "        desired_precision_idx = np.argmax(precisions >= desired_precision)\n",
        "        \n",
        "        return thresholds[desired_precision_idx], recalls[desired_precision_idx]\n",
        "\n",
        "    def threshold_from_desired_recall(self, X, y, desired_recall=0.9):\n",
        "        y_scores = LogisticRegression.predict_proba(self, X)[:, 1]\n",
        "        precisions, recalls, thresholds = precision_recall_curve(y, y_scores)\n",
        "\n",
        "        desired_recall_idx = np.argmin(recalls >= desired_recall)\n",
        "        \n",
        "        return thresholds[desired_recall_idx], precisions[desired_recall_idx]\n",
        "\n",
        "    def threshold_from_optimal_f_score(self, X, y):\n",
        "        y_scores = LogisticRegression.predict_proba(self, X)[:, 1]\n",
        "        precisions, recalls, thresholds = precision_recall_curve(y, y_scores)\n",
        "\n",
        "        fscores = (2 * precisions * recalls) / (precisions + recalls)\n",
        "        \n",
        "        optimal_idx = np.argmax(fscores)\n",
        "        \n",
        "        return thresholds[optimal_idx], fscores[optimal_idx]\n",
        "\n",
        "    def default_cost_function(tn, fp, fn, tp):\n",
        "      cost = 0\n",
        "    \n",
        "      cost += (tn * -10000) \n",
        "      cost += (fp * 1000) \n",
        "      cost += (fn * 1500) \n",
        "      cost += (tp * -20000) \n",
        "    \n",
        "      return cost\n",
        "\n",
        "    def threshold_from_cost_function(self, X, y, cost_function):\n",
        "        y_scores = LogisticRegression.predict_proba(self, X)[:, 1]\n",
        "        precisions, recalls, thresholds = precision_recall_curve(y, y_scores)\n",
        "\n",
        "        costs = []\n",
        "        tns = []\n",
        "        fps = []\n",
        "        fns = []\n",
        "        tps = []\n",
        "        \n",
        "        for threshold in thresholds:\n",
        "            y_pred_with_threshold = (y_scores >= threshold).astype(int)\n",
        "            tn, fp, fn, tp = confusion_matrix(y, y_pred_with_threshold).ravel()\n",
        "            costs.append(cost_function(tn, fp, fn, tp))\n",
        "            tns.append(tn), fps.append(fp), fns.append(fn), tps.append(tp)\n",
        "\n",
        "        df_cost = pd.DataFrame({'precision':precisions[:-1], 'recall':recalls[:-1], 'threshold':thresholds, 'cost':costs, 'tn':tns, 'fp':fps, 'fn':fns, 'tp':tps})\n",
        "        \n",
        "        min_cost = df_cost['cost'].min()\n",
        "        threshold = df_cost[df_cost['cost']==min_cost].iloc[0]['threshold']\n",
        "\n",
        "        return threshold, min_cost, df_cost\n",
        "\n",
        "    def threshold_from_optimal_accuracy(self, X, y):\n",
        "        y_scores = LogisticRegression.predict_proba(self, X)[:, 1]\n",
        "        precisions, recalls, thresholds = precision_recall_curve(y, y_scores)\n",
        "        \n",
        "        accuracies = []\n",
        "        tns = []\n",
        "        fps = []\n",
        "        fns = []\n",
        "        tps = []\n",
        "\n",
        "        for threshold in thresholds:\n",
        "            y_pred_with_threshold = (y_scores >= threshold).astype(int)\n",
        "            tn, fp, fn, tp = confusion_matrix(y, y_pred_with_threshold).ravel()\n",
        "\n",
        "            accuracies.append((tp+tn)/(tn+fp+fn+tp))\n",
        "            tns.append(tn), fps.append(fp), fns.append(fn), tps.append(tp)\n",
        "        \n",
        "        df_accuracy = pd.DataFrame({'threshold':thresholds, 'accuracy':accuracies, 'tn':tns, 'fp':fps, 'fn':fns, 'tp':tps})\n",
        "\n",
        "        max_accuracy = df_accuracy['accuracy'].max()\n",
        "        threshold = df_accuracy[df_accuracy['accuracy']==max_accuracy].iloc[0]['threshold']\n",
        "\n",
        "        return threshold, max_accuracy, df_accuracy"
      ],
      "metadata": {
        "id": "6F-1Cyjchw76"
      },
      "execution_count": 67,
      "outputs": []
    },
    {
      "cell_type": "markdown",
      "source": [
        "Code idea credits (Above cell): \n",
        "\n",
        "https://towardsdatascience.com/calculating-and-setting-thresholds-to-optimise-logistic-regression-performance-c77e6d112d7e"
      ],
      "metadata": {
        "id": "GROOTDctscpi"
      }
    },
    {
      "cell_type": "markdown",
      "source": [
        "**Using Gmean**"
      ],
      "metadata": {
        "id": "hvQfk3tKmz9J"
      }
    },
    {
      "cell_type": "code",
      "source": [
        "lrt = LogisticRegressionWithThreshold()\n",
        "lrt.fit(X_imbalance, y_imbalance)\n",
        " \n",
        "threshold_gmean, gmean_optimalidx = lrt.threshold_from_optimal_g_mean(X_imbalance, y_imbalance)\n",
        "\n",
        "# Predictions on test data\n",
        "y_pred_gmean = lrt.predict(X_test_imbalance, threshold_gmean)\n",
        "\n",
        "threshold_gmean, gmean_optimalidx"
      ],
      "metadata": {
        "colab": {
          "base_uri": "https://localhost:8080/"
        },
        "id": "whu_CaGSiOgb",
        "outputId": "da5e5a6d-2688-4942-984c-54e44428985f"
      },
      "execution_count": 68,
      "outputs": [
        {
          "output_type": "execute_result",
          "data": {
            "text/plain": [
              "(0.1289635683092242, 0.7285981086812349)"
            ]
          },
          "metadata": {},
          "execution_count": 68
        }
      ]
    },
    {
      "cell_type": "markdown",
      "source": [
        "Confusion Matrix"
      ],
      "metadata": {
        "id": "Ypifsot6lt6p"
      }
    },
    {
      "cell_type": "code",
      "source": [
        "cm_logistic_gmean = confusion_matrix(y_test_imbalance, y_pred_gmean)\n",
        "print(cm_logistic_gmean)"
      ],
      "metadata": {
        "colab": {
          "base_uri": "https://localhost:8080/"
        },
        "id": "cWeEZHhDlwnu",
        "outputId": "5297eca7-27e2-402b-ac1b-faffb3511a67"
      },
      "execution_count": 38,
      "outputs": [
        {
          "output_type": "stream",
          "name": "stdout",
          "text": [
            "[[8962 2019]\n",
            " [ 459  917]]\n"
          ]
        }
      ]
    },
    {
      "cell_type": "code",
      "source": [
        "print(classification_report(y_test_imbalance, y_pred_gmean))"
      ],
      "metadata": {
        "colab": {
          "base_uri": "https://localhost:8080/"
        },
        "id": "W8oN_eNNmGR3",
        "outputId": "90c485d9-05d8-4e9e-82c9-48615c82bb8b"
      },
      "execution_count": 39,
      "outputs": [
        {
          "output_type": "stream",
          "name": "stdout",
          "text": [
            "              precision    recall  f1-score   support\n",
            "\n",
            "           0       0.95      0.82      0.88     10981\n",
            "           1       0.31      0.67      0.43      1376\n",
            "\n",
            "    accuracy                           0.80     12357\n",
            "   macro avg       0.63      0.74      0.65     12357\n",
            "weighted avg       0.88      0.80      0.83     12357\n",
            "\n"
          ]
        }
      ]
    },
    {
      "cell_type": "markdown",
      "source": [
        "**Gmean improved Recall for class 1 but precision of class 1 is penalized. So, this is not right tuning parameter to set threshold here**"
      ],
      "metadata": {
        "id": "oHPnKPHumX1X"
      }
    },
    {
      "cell_type": "markdown",
      "source": [
        "**1.B Using TPR - FPR**"
      ],
      "metadata": {
        "id": "XzlKTr7mmvoG"
      }
    },
    {
      "cell_type": "code",
      "source": [
        "threshold_tpr_minus_fpr, tpr_minus_fpr_optimalidx = lrt.threshold_from_optimal_tpr_minus_fpr(X_imbalance, y_imbalance)\n",
        "\n",
        "# Predictions on test data\n",
        "y_pred_tpr_minus_fpr = lrt.predict(X_test_imbalance, threshold_tpr_minus_fpr)\n",
        "\n",
        "threshold_tpr_minus_fpr, tpr_minus_fpr_optimalidx"
      ],
      "metadata": {
        "colab": {
          "base_uri": "https://localhost:8080/"
        },
        "id": "KIDfpJz9m83w",
        "outputId": "e862439f-98e8-488a-d308-a41fbc085cba"
      },
      "execution_count": 40,
      "outputs": [
        {
          "output_type": "execute_result",
          "data": {
            "text/plain": [
              "(0.1622964921550243, 0.47261083096163325)"
            ]
          },
          "metadata": {},
          "execution_count": 40
        }
      ]
    },
    {
      "cell_type": "markdown",
      "source": [
        "Confusion Matrix"
      ],
      "metadata": {
        "id": "CbkiB--Dn9ub"
      }
    },
    {
      "cell_type": "code",
      "source": [
        "cm_logistic_tpr_minus_fpr = confusion_matrix(y_test_imbalance, y_pred_tpr_minus_fpr)\n",
        "print(cm_logistic_tpr_minus_fpr)"
      ],
      "metadata": {
        "colab": {
          "base_uri": "https://localhost:8080/"
        },
        "outputId": "cbf3d7d3-e0cb-45ef-b1ba-1e4701205429",
        "id": "amCFJjoLoC41"
      },
      "execution_count": 41,
      "outputs": [
        {
          "output_type": "stream",
          "name": "stdout",
          "text": [
            "[[9669 1312]\n",
            " [ 554  822]]\n"
          ]
        }
      ]
    },
    {
      "cell_type": "code",
      "source": [
        "print(classification_report(y_test_imbalance, y_pred_tpr_minus_fpr))"
      ],
      "metadata": {
        "colab": {
          "base_uri": "https://localhost:8080/"
        },
        "outputId": "461c6ecf-161d-4875-9722-c89375cb5e0e",
        "id": "DTDo6B0ToSx1"
      },
      "execution_count": 42,
      "outputs": [
        {
          "output_type": "stream",
          "name": "stdout",
          "text": [
            "              precision    recall  f1-score   support\n",
            "\n",
            "           0       0.95      0.88      0.91     10981\n",
            "           1       0.39      0.60      0.47      1376\n",
            "\n",
            "    accuracy                           0.85     12357\n",
            "   macro avg       0.67      0.74      0.69     12357\n",
            "weighted avg       0.88      0.85      0.86     12357\n",
            "\n"
          ]
        }
      ]
    },
    {
      "cell_type": "markdown",
      "source": [
        "**Still not optimal tuning with TPR - FPR as parameter**"
      ],
      "metadata": {
        "id": "m41BShk4oeLS"
      }
    },
    {
      "cell_type": "markdown",
      "source": [
        "**2. Threshold tuning using precision recall curve**"
      ],
      "metadata": {
        "id": "Nx0AGZ2ao6YA"
      }
    },
    {
      "cell_type": "markdown",
      "source": [
        "Lets plot precision recall curve and interpret trade off on this"
      ],
      "metadata": {
        "id": "00yrfZBbpEpw"
      }
    },
    {
      "cell_type": "code",
      "source": [
        "# calculate pr-curve\n",
        "precision, recall, thresholds = precision_recall_curve(y_test_imbalance, yhat)\n",
        "# plot the pr-curve curve for the model\n",
        "no_skill = len(y_test_imbalance[y_test_imbalance==1]) / len(y_test_imbalance)\n",
        "plt.plot([0,1], [no_skill,no_skill], linestyle='--', label='No Skill')\n",
        "plt.plot(recall, precision, marker='.', label='Logistic')\n",
        "# axis labels\n",
        "plt.xlabel('Recall')\n",
        "plt.ylabel('Precision')\n",
        "plt.legend()\n",
        "# show the plot\n",
        "plt.show()"
      ],
      "metadata": {
        "colab": {
          "base_uri": "https://localhost:8080/",
          "height": 285
        },
        "id": "wd15xPalpB5a",
        "outputId": "16218a64-dbc4-45f6-e04d-9fe29d3b091f"
      },
      "execution_count": 35,
      "outputs": [
        {
          "output_type": "display_data",
          "data": {
            "text/plain": [
              "<Figure size 432x288 with 1 Axes>"
            ],
            "image/png": "[encoded data removed]"
          },
          "metadata": {}
        }
      ]
    },
    {
      "cell_type": "markdown",
      "source": [
        "**2.A Using desired Precision or Recall reference**"
      ],
      "metadata": {
        "id": "DuFTn1WIrEuG"
      }
    },
    {
      "cell_type": "markdown",
      "source": [
        "From PR-Curve it is desirable that by setting Recall = 0.5 approx we can get best threshold"
      ],
      "metadata": {
        "id": "MhVCxwb5uU7h"
      }
    },
    {
      "cell_type": "code",
      "source": [
        "threshold_recall, precision_recall = lrt.threshold_from_desired_recall(X_imbalance, y_imbalance, 0.5)\n",
        "y_pred_recall = lrt.predict(X_test_imbalance, threshold_recall)\n",
        "\n",
        "threshold_recall, precision_recall"
      ],
      "metadata": {
        "colab": {
          "base_uri": "https://localhost:8080/"
        },
        "id": "Yf9xdxdjrKlb",
        "outputId": "3641f9c1-73d9-481a-8960-c91942b8d14c"
      },
      "execution_count": 57,
      "outputs": [
        {
          "output_type": "execute_result",
          "data": {
            "text/plain": [
              "(0.22108533036714187, 0.44393032117583014)"
            ]
          },
          "metadata": {},
          "execution_count": 57
        }
      ]
    },
    {
      "cell_type": "markdown",
      "source": [
        "Confusion matrix"
      ],
      "metadata": {
        "id": "mfNKka30ur-L"
      }
    },
    {
      "cell_type": "code",
      "source": [
        "cm_logistic_recall = confusion_matrix(y_test_imbalance, y_pred_recall)\n",
        "print(cm_logistic_recall)"
      ],
      "metadata": {
        "colab": {
          "base_uri": "https://localhost:8080/"
        },
        "id": "Fl3zDurVuuB2",
        "outputId": "ec1e7c51-b187-4756-81aa-ae7205bb6c11"
      },
      "execution_count": 58,
      "outputs": [
        {
          "output_type": "stream",
          "name": "stdout",
          "text": [
            "[[10126   855]\n",
            " [  686   690]]\n"
          ]
        }
      ]
    },
    {
      "cell_type": "code",
      "source": [
        "print(classification_report(y_test_imbalance, y_pred_recall))"
      ],
      "metadata": {
        "colab": {
          "base_uri": "https://localhost:8080/"
        },
        "id": "eGtWmzHJu701",
        "outputId": "f683e1b6-9b05-4c40-fb52-ff6b750b321f"
      },
      "execution_count": 59,
      "outputs": [
        {
          "output_type": "stream",
          "name": "stdout",
          "text": [
            "              precision    recall  f1-score   support\n",
            "\n",
            "           0       0.94      0.92      0.93     10981\n",
            "           1       0.45      0.50      0.47      1376\n",
            "\n",
            "    accuracy                           0.88     12357\n",
            "   macro avg       0.69      0.71      0.70     12357\n",
            "weighted avg       0.88      0.88      0.88     12357\n",
            "\n"
          ]
        }
      ]
    },
    {
      "cell_type": "markdown",
      "source": [
        "Similar analysis can be done by setting Precision and observing recall"
      ],
      "metadata": {
        "id": "IhhMbDmPv8wZ"
      }
    },
    {
      "cell_type": "code",
      "source": [
        "threshold_precision, recall_precision = lrt.threshold_from_desired_precision(X_imbalance, y_imbalance, 0.45)\n",
        "y_pred_precision = lrt.predict(X_test_imbalance, threshold_precision)\n",
        "\n",
        "threshold_precision, recall_precision"
      ],
      "metadata": {
        "colab": {
          "base_uri": "https://localhost:8080/"
        },
        "id": "rWsZWdY4wNPL",
        "outputId": "b97670fb-afc9-4b60-b816-0fa2ac9fb5ee"
      },
      "execution_count": 61,
      "outputs": [
        {
          "output_type": "execute_result",
          "data": {
            "text/plain": [
              "(0.24956945698779917, 0.4794730392156863)"
            ]
          },
          "metadata": {},
          "execution_count": 61
        }
      ]
    },
    {
      "cell_type": "markdown",
      "source": [
        "Confusion matrix"
      ],
      "metadata": {
        "id": "d81Mjd8IxBah"
      }
    },
    {
      "cell_type": "code",
      "source": [
        "cm_logistic_precision = confusion_matrix(y_test_imbalance, y_pred_precision)\n",
        "print(cm_logistic_precision)"
      ],
      "metadata": {
        "colab": {
          "base_uri": "https://localhost:8080/"
        },
        "id": "AS0vvnj3xDXh",
        "outputId": "08df8c8c-e2f7-4906-ee2b-4da8e06c8c1f"
      },
      "execution_count": 62,
      "outputs": [
        {
          "output_type": "stream",
          "name": "stdout",
          "text": [
            "[[10190   791]\n",
            " [  718   658]]\n"
          ]
        }
      ]
    },
    {
      "cell_type": "code",
      "source": [
        "print(classification_report(y_test_imbalance, y_pred_precision))"
      ],
      "metadata": {
        "colab": {
          "base_uri": "https://localhost:8080/"
        },
        "id": "T_OzP6WgxPsJ",
        "outputId": "4e32754c-f6b9-4723-bd78-07258f57bf60"
      },
      "execution_count": 63,
      "outputs": [
        {
          "output_type": "stream",
          "name": "stdout",
          "text": [
            "              precision    recall  f1-score   support\n",
            "\n",
            "           0       0.93      0.93      0.93     10981\n",
            "           1       0.45      0.48      0.47      1376\n",
            "\n",
            "    accuracy                           0.88     12357\n",
            "   macro avg       0.69      0.70      0.70     12357\n",
            "weighted avg       0.88      0.88      0.88     12357\n",
            "\n"
          ]
        }
      ]
    },
    {
      "cell_type": "markdown",
      "source": [
        "**2.B Using optimal f1-score**"
      ],
      "metadata": {
        "id": "QpvlWQ_rxX68"
      }
    },
    {
      "cell_type": "code",
      "source": [
        "threshold_f1, optimal_f1_score = lrt.threshold_from_optimal_f_score(X_imbalance, y_imbalance)\n",
        "y_pred_f1 = lrt.predict(X_test_imbalance, threshold_f1)\n",
        "\n",
        "threshold_f1, optimal_f1_score"
      ],
      "metadata": {
        "colab": {
          "base_uri": "https://localhost:8080/"
        },
        "id": "jC_YBpRoxa2a",
        "outputId": "cb2739c8-02d1-4558-edd7-823dacca42bf"
      },
      "execution_count": 64,
      "outputs": [
        {
          "output_type": "execute_result",
          "data": {
            "text/plain": [
              "(0.21749293615234583, 0.47907891041842177)"
            ]
          },
          "metadata": {},
          "execution_count": 64
        }
      ]
    },
    {
      "cell_type": "markdown",
      "source": [
        "Confusion matrix"
      ],
      "metadata": {
        "id": "-rBR8ommyIk9"
      }
    },
    {
      "cell_type": "code",
      "source": [
        "cm_logistic_f1 = confusion_matrix(y_test_imbalance, y_pred_f1)\n",
        "print(cm_logistic_f1)"
      ],
      "metadata": {
        "colab": {
          "base_uri": "https://localhost:8080/"
        },
        "id": "srTVasDnyG_x",
        "outputId": "d098205b-83a6-4a74-92cf-e1cf913cf4dd"
      },
      "execution_count": 65,
      "outputs": [
        {
          "output_type": "stream",
          "name": "stdout",
          "text": [
            "[[10085   896]\n",
            " [  660   716]]\n"
          ]
        }
      ]
    },
    {
      "cell_type": "code",
      "source": [
        "print(classification_report(y_test_imbalance, y_pred_f1))"
      ],
      "metadata": {
        "colab": {
          "base_uri": "https://localhost:8080/"
        },
        "id": "50-P6VV4yUQA",
        "outputId": "6d620251-8746-48ac-8763-3207234a2aa0"
      },
      "execution_count": 66,
      "outputs": [
        {
          "output_type": "stream",
          "name": "stdout",
          "text": [
            "              precision    recall  f1-score   support\n",
            "\n",
            "           0       0.94      0.92      0.93     10981\n",
            "           1       0.44      0.52      0.48      1376\n",
            "\n",
            "    accuracy                           0.87     12357\n",
            "   macro avg       0.69      0.72      0.70     12357\n",
            "weighted avg       0.88      0.87      0.88     12357\n",
            "\n"
          ]
        }
      ]
    },
    {
      "cell_type": "markdown",
      "source": [
        "**3. Threshold Tuning using cost function**"
      ],
      "metadata": {
        "id": "JGxL6PIi0Ips"
      }
    },
    {
      "cell_type": "code",
      "source": [
        "def default_cost_function(tn, fp, fn, tp):\n",
        "      cost = 0\n",
        "    \n",
        "      cost += (tn * -10000) \n",
        "      cost += (fp * 1000) \n",
        "      cost += (fn * 1500) \n",
        "      cost += (tp * -20000) \n",
        "    \n",
        "      return cost\n",
        "\n",
        "threshold_cost, min_cost, df_cost = lrt.threshold_from_cost_function(X_imbalance, y_imbalance, default_cost_function)\n",
        "y_pred_cost = lrt.predict(X_test_imbalance, threshold_cost)\n",
        "\n",
        "threshold_cost, min_cost"
      ],
      "metadata": {
        "colab": {
          "base_uri": "https://localhost:8080/"
        },
        "id": "S07KEJJz0Msb",
        "outputId": "29a0d2dd-c43a-4c2e-ef79-f61937b56396"
      },
      "execution_count": 74,
      "outputs": [
        {
          "output_type": "execute_result",
          "data": {
            "text/plain": [
              "(0.2198199735689419, -263850500)"
            ]
          },
          "metadata": {},
          "execution_count": 74
        }
      ]
    },
    {
      "cell_type": "markdown",
      "source": [
        "Confusion matrix"
      ],
      "metadata": {
        "id": "gbNHc9sd1htQ"
      }
    },
    {
      "cell_type": "code",
      "source": [
        "cm_logistic_cost = confusion_matrix(y_test_imbalance, y_pred_cost)\n",
        "print(cm_logistic_cost)"
      ],
      "metadata": {
        "colab": {
          "base_uri": "https://localhost:8080/"
        },
        "id": "ExQJ3sja1jji",
        "outputId": "a4aab6cb-6c42-4977-86ac-087732f9ff40"
      },
      "execution_count": 75,
      "outputs": [
        {
          "output_type": "stream",
          "name": "stdout",
          "text": [
            "[[10093   888]\n",
            " [  666   710]]\n"
          ]
        }
      ]
    },
    {
      "cell_type": "code",
      "source": [
        "print(classification_report(y_test_imbalance, y_pred_cost))"
      ],
      "metadata": {
        "colab": {
          "base_uri": "https://localhost:8080/"
        },
        "id": "UDNxj8n02PPE",
        "outputId": "22ce7eb8-6307-4edc-ef35-1ca0a8b3ae2a"
      },
      "execution_count": 76,
      "outputs": [
        {
          "output_type": "stream",
          "name": "stdout",
          "text": [
            "              precision    recall  f1-score   support\n",
            "\n",
            "           0       0.94      0.92      0.93     10981\n",
            "           1       0.44      0.52      0.48      1376\n",
            "\n",
            "    accuracy                           0.87     12357\n",
            "   macro avg       0.69      0.72      0.70     12357\n",
            "weighted avg       0.88      0.87      0.88     12357\n",
            "\n"
          ]
        }
      ]
    },
    {
      "cell_type": "code",
      "source": [
        "df_cost.head()"
      ],
      "metadata": {
        "colab": {
          "base_uri": "https://localhost:8080/",
          "height": 204
        },
        "id": "UCviaPUl2c_6",
        "outputId": "eb62eef0-ad71-47e2-e657-6b272d03eb3e"
      },
      "execution_count": 77,
      "outputs": [
        {
          "output_type": "execute_result",
          "data": {
            "text/plain": [
              "   precision    recall  threshold      cost   tn     fp  fn    tp\n",
              "0   0.113211  1.000000   0.013179 -39713000    0  25567   0  3264\n",
              "1   0.113241  0.999081   0.013206 -39989500   31  25536   3  3261\n",
              "2   0.113463  0.998468   0.013212 -40738500  103  25464   5  3259\n",
              "3   0.113514  0.996936   0.013219 -41203000  155  25412  10  3254\n",
              "4   0.113717  0.996630   0.013225 -41830500  214  25353  11  3253"
            ],
            "text/html": [
              "\n",
              "  <div id=\"df-6db17b12-7909-4830-84fa-509449a3c0fd\">\n",
              "    <div class=\"colab-df-container\">\n",
              "      <div>\n",
              "<style scoped>\n",
              "    .dataframe tbody tr th:only-of-type {\n",
              "        vertical-align: middle;\n",
              "    }\n",
              "\n",
              "    .dataframe tbody tr th {\n",
              "        vertical-align: top;\n",
              "    }\n",
              "\n",
              "    .dataframe thead th {\n",
              "        text-align: right;\n",
              "    }\n",
              "</style>\n",
              "<table border=\"1\" class=\"dataframe\">\n",
              "  <thead>\n",
              "    <tr style=\"text-align: right;\">\n",
              "      <th></th>\n",
              "      <th>precision</th>\n",
              "      <th>recall</th>\n",
              "      <th>threshold</th>\n",
              "      <th>cost</th>\n",
              "      <th>tn</th>\n",
              "      <th>fp</th>\n",
              "      <th>fn</th>\n",
              "      <th>tp</th>\n",
              "    </tr>\n",
              "  </thead>\n",
              "  <tbody>\n",
              "    <tr>\n",
              "      <th>0</th>\n",
              "      <td>0.113211</td>\n",
              "      <td>1.000000</td>\n",
              "      <td>0.013179</td>\n",
              "      <td>-39713000</td>\n",
              "      <td>0</td>\n",
              "      <td>25567</td>\n",
              "      <td>0</td>\n",
              "      <td>3264</td>\n",
              "    </tr>\n",
              "    <tr>\n",
              "      <th>1</th>\n",
              "      <td>0.113241</td>\n",
              "      <td>0.999081</td>\n",
              "      <td>0.013206</td>\n",
              "      <td>-39989500</td>\n",
              "      <td>31</td>\n",
              "      <td>25536</td>\n",
              "      <td>3</td>\n",
              "      <td>3261</td>\n",
              "    </tr>\n",
              "    <tr>\n",
              "      <th>2</th>\n",
              "      <td>0.113463</td>\n",
              "      <td>0.998468</td>\n",
              "      <td>0.013212</td>\n",
              "      <td>-40738500</td>\n",
              "      <td>103</td>\n",
              "      <td>25464</td>\n",
              "      <td>5</td>\n",
              "      <td>3259</td>\n",
              "    </tr>\n",
              "    <tr>\n",
              "      <th>3</th>\n",
              "      <td>0.113514</td>\n",
              "      <td>0.996936</td>\n",
              "      <td>0.013219</td>\n",
              "      <td>-41203000</td>\n",
              "      <td>155</td>\n",
              "      <td>25412</td>\n",
              "      <td>10</td>\n",
              "      <td>3254</td>\n",
              "    </tr>\n",
              "    <tr>\n",
              "      <th>4</th>\n",
              "      <td>0.113717</td>\n",
              "      <td>0.996630</td>\n",
              "      <td>0.013225</td>\n",
              "      <td>-41830500</td>\n",
              "      <td>214</td>\n",
              "      <td>25353</td>\n",
              "      <td>11</td>\n",
              "      <td>3253</td>\n",
              "    </tr>\n",
              "  </tbody>\n",
              "</table>\n",
              "</div>\n",
              "      <button class=\"colab-df-convert\" onclick=\"convertToInteractive('df-6db17b12-7909-4830-84fa-509449a3c0fd')\"\n",
              "              title=\"Convert this dataframe to an interactive table.\"\n",
              "              style=\"display:none;\">\n",
              "        \n",
              "  <svg xmlns=\"http://www.w3.org/2000/svg\" height=\"24px\"viewBox=\"0 0 24 24\"\n",
              "       width=\"24px\">\n",
              "    <path d=\"M0 0h24v24H0V0z\" fill=\"none\"/>\n",
              "    <path d=\"M18.56 5.44l.94 2.06.94-2.06 2.06-.94-2.06-.94-.94-2.06-.94 2.06-2.06.94zm-11 1L8.5 8.5l.94-2.06 2.06-.94-2.06-.94L8.5 2.5l-.94 2.06-2.06.94zm10 10l.94 2.06.94-2.06 2.06-.94-2.06-.94-.94-2.06-.94 2.06-2.06.94z\"/><path d=\"M17.41 7.96l-1.37-1.37c-.4-.4-.92-.59-1.43-.59-.52 0-1.04.2-1.43.59L10.3 9.45l-7.72 7.72c-.78.78-.78 2.05 0 2.83L4 21.41c.39.39.9.59 1.41.59.51 0 1.02-.2 1.41-.59l7.78-7.78 2.81-2.81c.8-.78.8-2.07 0-2.86zM5.41 20L4 18.59l7.72-7.72 1.47 1.35L5.41 20z\"/>\n",
              "  </svg>\n",
              "      </button>\n",
              "      \n",
              "  <style>\n",
              "    .colab-df-container {\n",
              "      display:flex;\n",
              "      flex-wrap:wrap;\n",
              "      gap: 12px;\n",
              "    }\n",
              "\n",
              "    .colab-df-convert {\n",
              "      background-color: #E8F0FE;\n",
              "      border: none;\n",
              "      border-radius: 50%;\n",
              "      cursor: pointer;\n",
              "      display: none;\n",
              "      fill: #1967D2;\n",
              "      height: 32px;\n",
              "      padding: 0 0 0 0;\n",
              "      width: 32px;\n",
              "    }\n",
              "\n",
              "    .colab-df-convert:hover {\n",
              "      background-color: #E2EBFA;\n",
              "      box-shadow: 0px 1px 2px rgba(60, 64, 67, 0.3), 0px 1px 3px 1px rgba(60, 64, 67, 0.15);\n",
              "      fill: #174EA6;\n",
              "    }\n",
              "\n",
              "    [theme=dark] .colab-df-convert {\n",
              "      background-color: #3B4455;\n",
              "      fill: #D2E3FC;\n",
              "    }\n",
              "\n",
              "    [theme=dark] .colab-df-convert:hover {\n",
              "      background-color: #434B5C;\n",
              "      box-shadow: 0px 1px 3px 1px rgba(0, 0, 0, 0.15);\n",
              "      filter: drop-shadow(0px 1px 2px rgba(0, 0, 0, 0.3));\n",
              "      fill: #FFFFFF;\n",
              "    }\n",
              "  </style>\n",
              "\n",
              "      <script>\n",
              "        const buttonEl =\n",
              "          document.querySelector('#df-6db17b12-7909-4830-84fa-509449a3c0fd button.colab-df-convert');\n",
              "        buttonEl.style.display =\n",
              "          google.colab.kernel.accessAllowed ? 'block' : 'none';\n",
              "\n",
              "        async function convertToInteractive(key) {\n",
              "          const element = document.querySelector('#df-6db17b12-7909-4830-84fa-509449a3c0fd');\n",
              "          const dataTable =\n",
              "            await google.colab.kernel.invokeFunction('convertToInteractive',\n",
              "                                                     [key], {});\n",
              "          if (!dataTable) return;\n",
              "\n",
              "          const docLinkHtml = 'Like what you see? Visit the ' +\n",
              "            '<a target=\"_blank\" href=https://colab.research.google.com/notebooks/data_table.ipynb>data table notebook</a>'\n",
              "            + ' to learn more about interactive tables.';\n",
              "          element.innerHTML = '';\n",
              "          dataTable['output_type'] = 'display_data';\n",
              "          await google.colab.output.renderOutput(dataTable, element);\n",
              "          const docLink = document.createElement('div');\n",
              "          docLink.innerHTML = docLinkHtml;\n",
              "          element.appendChild(docLink);\n",
              "        }\n",
              "      </script>\n",
              "    </div>\n",
              "  </div>\n",
              "  "
            ]
          },
          "metadata": {},
          "execution_count": 77
        }
      ]
    },
    {
      "cell_type": "markdown",
      "source": [
        "**4. Threshold tuning using accuracy**"
      ],
      "metadata": {
        "id": "F7YTDUQp2yGw"
      }
    },
    {
      "cell_type": "code",
      "source": [
        "threshold_acc, max_accuracy, df_accuracy = lrt.threshold_from_optimal_accuracy(X_imbalance, y_imbalance)\n",
        "\n",
        "# Predict on test data\n",
        "y_pred_acc = lrt.predict(X_test_imbalance, threshold_acc)\n",
        "\n",
        "threshold_acc, max_accuracy"
      ],
      "metadata": {
        "colab": {
          "base_uri": "https://localhost:8080/"
        },
        "id": "DsmdkHvu239P",
        "outputId": "06d5d42a-39c9-4fb6-a209-899c758d625a"
      },
      "execution_count": 79,
      "outputs": [
        {
          "output_type": "execute_result",
          "data": {
            "text/plain": [
              "(0.48082508199310114, 0.8981651694356769)"
            ]
          },
          "metadata": {},
          "execution_count": 79
        }
      ]
    },
    {
      "cell_type": "markdown",
      "source": [
        "Confusion Matrix"
      ],
      "metadata": {
        "id": "gpQeN3vl3T3a"
      }
    },
    {
      "cell_type": "code",
      "source": [
        "cm_logistic_acc = confusion_matrix(y_test_imbalance, y_pred_acc)\n",
        "print(cm_logistic_acc)"
      ],
      "metadata": {
        "colab": {
          "base_uri": "https://localhost:8080/"
        },
        "id": "Knx2363u3VuB",
        "outputId": "56952bc2-7200-49dc-bdc8-da5f87989449"
      },
      "execution_count": 80,
      "outputs": [
        {
          "output_type": "stream",
          "name": "stdout",
          "text": [
            "[[10874   107]\n",
            " [ 1101   275]]\n"
          ]
        }
      ]
    },
    {
      "cell_type": "code",
      "source": [
        "print(classification_report(y_test_imbalance, y_pred_acc))"
      ],
      "metadata": {
        "colab": {
          "base_uri": "https://localhost:8080/"
        },
        "id": "vsIcfedz3g1q",
        "outputId": "069185a5-1cc5-448d-95db-914136139156"
      },
      "execution_count": 81,
      "outputs": [
        {
          "output_type": "stream",
          "name": "stdout",
          "text": [
            "              precision    recall  f1-score   support\n",
            "\n",
            "           0       0.91      0.99      0.95     10981\n",
            "           1       0.72      0.20      0.31      1376\n",
            "\n",
            "    accuracy                           0.90     12357\n",
            "   macro avg       0.81      0.60      0.63     12357\n",
            "weighted avg       0.89      0.90      0.88     12357\n",
            "\n"
          ]
        }
      ]
    },
    {
      "cell_type": "markdown",
      "source": [
        "Not convincing compared to Precison Recall curve tuning"
      ],
      "metadata": {
        "id": "p6bAU--04AIE"
      }
    },
    {
      "cell_type": "markdown",
      "source": [
        "**Conclusion: For imbalanced data with huge difference or big ratio, threshold tuning using precision-recall curve is the best choice**"
      ],
      "metadata": {
        "id": "jQ7_G2LF3rS3"
      }
    }
  ]
}