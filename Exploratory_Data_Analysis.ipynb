{
  "nbformat": 4,
  "nbformat_minor": 0,
  "metadata": {
    "colab": {
      "provenance": [],
      "authorship_tag": "ABX9TyNOywQC8ZIGrz0t9IL9GRbU",
      "include_colab_link": true
    },
    "kernelspec": {
      "name": "python3",
      "display_name": "Python 3"
    },
    "language_info": {
      "name": "python"
    }
  },
  "cells": [
    {
      "cell_type": "markdown",
      "metadata": {
        "id": "view-in-github",
        "colab_type": "text"
      },
      "source": [
        "<a href=\"https://colab.research.google.com/github/chain-veerender/datascience/blob/master/Exploratory_Data_Analysis.ipynb\" target=\"_parent\"><img src=\"https://colab.research.google.com/assets/colab-badge.svg\" alt=\"Open In Colab\"/></a>"
      ]
    },
    {
      "cell_type": "markdown",
      "source": [
        "![An image](https://miro.medium.com/max/700/1*ejW2uqLQ0W3lUsTBNxhxcg.png)"
      ],
      "metadata": {
        "id": "cZoPc1EsAtm5"
      }
    },
    {
      "cell_type": "markdown",
      "source": [
        "Exploratory data analysis popularly known as EDA is a process of performing some initial investigations on the dataset to discover the structure and the content of the given dataset. \n",
        "\n",
        "It is often known as Data Profiling. \n",
        "\n",
        "It is an unavoidable step in the entire journey of data analysis right from the business understanding part to the deployment of the models created.\n",
        "\n",
        "EDA is where we get the basic understanding of the data in hand which then helps us in the further process of Data Cleaning & Data Preparation."
      ],
      "metadata": {
        "id": "BHUmYkYpBDW6"
      }
    },
    {
      "cell_type": "code",
      "execution_count": null,
      "metadata": {
        "id": "53Q57MqI21-m"
      },
      "outputs": [],
      "source": []
    }
  ]
}